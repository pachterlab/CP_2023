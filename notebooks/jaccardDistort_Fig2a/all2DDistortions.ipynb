{
 "cells": [
  {
   "cell_type": "code",
   "execution_count": null,
   "metadata": {
    "colab": {
     "base_uri": "https://localhost:8080/"
    },
    "id": "Xm_6XoJKS-8P",
    "outputId": "e9fea5ea-ff01-458d-e938-205be189e4bb"
   },
   "outputs": [
    {
     "name": "stdout",
     "output_type": "stream",
     "text": [
      "Thu Aug 19 18:21:11 UTC 2021\n"
     ]
    }
   ],
   "source": [
    "!date"
   ]
  },
  {
   "cell_type": "code",
   "execution_count": null,
   "metadata": {
    "id": "POXtOzPOQCik"
   },
   "outputs": [],
   "source": []
  },
  {
   "cell_type": "code",
   "execution_count": 1,
   "metadata": {
    "colab": {
     "base_uri": "https://localhost:8080/",
     "height": 115,
     "referenced_widgets": [
      "4386870407a44bcdbdbde0de9f12db3d",
      "40a03c05da93471b9819c2d8e12575e9",
      "cd84c6af734545d4bc2fc6fca4882ebb",
      "d48145976e1d4c28a8deb4e8a8222aca",
      "6b4ec58830f8404ab6b2b9f7eddf8d37",
      "2f95c89989e4489f80cf9f5c854d180d",
      "7ff75477ae3047c1aaebbaa6644eed96",
      "60242e50febc47a0832ac329209bb7b8",
      "eca61d9d137542aab1490241f85ed3c1",
      "1b9b6af5157748398d49aa5cc739a6c2",
      "dfc94ca24a514dae960a674cc3758540",
      "b5056f702ebb47e2b4101b92a1d35ac1",
      "cc716e3c790048b798f07c175dfc6833",
      "2fc5ec29807e4ed0bd3dd434174038e4",
      "dbe9a47115ee4252ae46718d4d217782",
      "c5e8c2e73c5f4aabbe9f2ba8c8c8c355",
      "45db52d330564c169e5d2f3a2336cf3a",
      "8dc6eac49975441f9d06856712feddd9",
      "6cb5876d3fb040c6b007c61bbafb8b61",
      "1f128fefe4104c2fa67b81ce10f26c45",
      "c324ed6a7f644e81b58ba68612c411e6",
      "5b88d29ecef84f5d9cceec9ab499064e"
     ]
    },
    "id": "0948kX4SEUxq",
    "outputId": "e56bca4e-9230-49b8-ed76-4822f26845a4"
   },
   "outputs": [
    {
     "name": "stderr",
     "output_type": "stream",
     "text": [
      "/home/tchari/.local/lib/python3.7/site-packages/ipykernel_launcher.py:24: TqdmDeprecationWarning: Please use `tqdm.notebook.trange` instead of `tqdm.tnrange`\n"
     ]
    },
    {
     "data": {
      "application/vnd.jupyter.widget-view+json": {
       "model_id": "42f5881b21a24adb83f2c34362f9347b",
       "version_major": 2,
       "version_minor": 0
      },
      "text/plain": [
       "  0%|          | 0/9784 [00:00<?, ?B/s]"
      ]
     },
     "metadata": {},
     "output_type": "display_data"
    },
    {
     "data": {
      "application/vnd.jupyter.widget-view+json": {
       "model_id": "11274735eab34e8095413097c8bda3da",
       "version_major": 2,
       "version_minor": 0
      },
      "text/plain": [
       "  0%|          | 0/59360 [00:00<?, ?B/s]"
      ]
     },
     "metadata": {},
     "output_type": "display_data"
    },
    {
     "data": {
      "text/plain": [
       "0"
      ]
     },
     "execution_count": 1,
     "metadata": {},
     "output_type": "execute_result"
    }
   ],
   "source": [
    "#Download datasets\n",
    "\n",
    "import requests\n",
    "import os\n",
    "\n",
    "\n",
    "\n",
    "from tqdm import tnrange, tqdm_notebook\n",
    "def download_file(doi,ext):\n",
    "\turl = 'https://api.datacite.org/dois/'+doi+'/media'\n",
    "\tr = requests.get(url).json()\n",
    "\tnetcdf_url = r['data'][0]['attributes']['url']\n",
    "\tr = requests.get(netcdf_url,stream=True)\n",
    "\t#Set file name\n",
    "\tfname = doi.split('/')[-1]+ext\n",
    "\t#Download file with progress bar\n",
    "\tif r.status_code == 403:\n",
    "\t\tprint(\"File Unavailable\")\n",
    "\tif 'content-length' not in r.headers:\n",
    "\t\tprint(\"Did not get file\")\n",
    "\telse:\n",
    "\t\twith open(fname, 'wb') as f:\n",
    "\t\t\ttotal_length = int(r.headers.get('content-length'))\n",
    "\t\t\tpbar = tnrange(int(total_length/1024), unit=\"B\")\n",
    "\t\t\tfor chunk in r.iter_content(chunk_size=1024):\n",
    "\t\t\t\tif chunk:\n",
    "\t\t\t\t\tpbar.update()\n",
    "\t\t\t\t\tf.write(chunk)\n",
    "\t\treturn fname\n",
    "\n",
    "\n",
    "#10x VMH data\n",
    "#metadata.csv\n",
    "download_file('10.22002/D1.2065','.gz')\n",
    "\n",
    "#tenx.mtx (log counts)\n",
    "download_file('10.22002/D1.2072','.gz')\n",
    "\n",
    "\n",
    "#SMART-seq VMH data\n",
    "#metadata.csv\n",
    "download_file('10.22002/D1.2067','.gz')\n",
    "\n",
    "#smartseq.mtx (log counts)\n",
    "download_file('10.22002/D1.2071','.gz')\n",
    "\n",
    "\n",
    "\n",
    "#MERFISH data\n",
    "#metadata.csv\n",
    "download_file('10.22002/D1.2063','.gz')\n",
    "\n",
    "#counts.h5ad\n",
    "download_file('10.22002/D1.2064','.gz')\n",
    "\n",
    "\n",
    "\n",
    "\n",
    "\n",
    "os.system(\"gunzip *.gz\")\n",
    "\n",
    "os.system(\"mv D1.2065 tenxmetadata.csv\")\n",
    "os.system(\"mv D1.2072 tenx.mtx\")\n",
    "\n",
    "\n",
    "os.system(\"mv D1.2067 smartmetadata.csv\")\n",
    "os.system(\"mv D1.2071 smartseq.mtx\")\n",
    "\n",
    "os.system(\"mv D1.2063 metadata.csv\")\n",
    "os.system(\"mv D1.2064 counts.h5ad\")"
   ]
  },
  {
   "cell_type": "code",
   "execution_count": 2,
   "metadata": {
    "id": "UYC5t43BdLxp"
   },
   "outputs": [
    {
     "data": {
      "text/plain": [
       "0"
      ]
     },
     "execution_count": 2,
     "metadata": {},
     "output_type": "execute_result"
    }
   ],
   "source": [
    "#Read in files from NCBI GEO\n",
    "os.system(\"wget --quiet https://ftp.ncbi.nlm.nih.gov/geo/series/GSE149nnn/GSE149372/suppl/GSE149372_GSM5068636-GSM5068641_scRNA.MetaData.105.csv.gz\")\n",
    "os.system(\"wget --quiet https://ftp.ncbi.nlm.nih.gov/geo/series/GSE149nnn/GSE149372/suppl/GSE149372_GSM5068636-GSM5068641_scRNA.normalized.assay105.csv.gz\")\n",
    "os.system(\"wget --quiet https://ftp.ncbi.nlm.nih.gov/geo/series/GSE149nnn/GSE149372/suppl/GSE149372_GSM5068636-GSM5068641_scRNA.integrated.scaled.assay105.csv.gz\")\n",
    "os.system(\"wget --quiet https://ftp.ncbi.nlm.nih.gov/geo/series/GSE149nnn/GSE149372/suppl/GSE149372_scRNA.MetaData.85.csv.gz\")\n",
    "os.system(\"wget --quiet https://ftp.ncbi.nlm.nih.gov/geo/series/GSE149nnn/GSE149372/suppl/GSE149372_scRNA.normalized.assay85.csv.gz\")\n"
   ]
  },
  {
   "cell_type": "code",
   "execution_count": 3,
   "metadata": {
    "id": "X9VBbyy2tXrM"
   },
   "outputs": [
    {
     "data": {
      "text/plain": [
       "0"
      ]
     },
     "execution_count": 3,
     "metadata": {},
     "output_type": "execute_result"
    }
   ],
   "source": [
    "#Read in files from NCBI GEO for Integrate Utero E8.5 (will only use Ex-utero data)\n",
    "#Read in files from NCBI GEO\n",
    "os.system(\"wget --quiet https://ftp.ncbi.nlm.nih.gov/geo/series/GSE149nnn/GSE149372/suppl/GSE149372_scRNA.MetaData.85.csv.gz\")\n",
    "os.system(\"wget --quiet https://ftp.ncbi.nlm.nih.gov/geo/series/GSE149nnn/GSE149372/suppl/GSE149372_scRNA.normalized.assay85.csv.gz\")\n",
    "\n"
   ]
  },
  {
   "cell_type": "code",
   "execution_count": null,
   "metadata": {
    "id": "vD5o1s4Ai62r"
   },
   "outputs": [],
   "source": [
    "!gunzip *.gz"
   ]
  },
  {
   "cell_type": "code",
   "execution_count": null,
   "metadata": {
    "colab": {
     "base_uri": "https://localhost:8080/"
    },
    "id": "h0B2xxSnPdHt",
    "outputId": "fbc0809a-556b-411f-fc43-28bba238451d"
   },
   "outputs": [
    {
     "name": "stdout",
     "output_type": "stream",
     "text": [
      "Cloning into 'densvis'...\n",
      "remote: Enumerating objects: 145, done.\u001b[K\n",
      "remote: Counting objects: 100% (145/145), done.\u001b[K\n",
      "remote: Compressing objects: 100% (95/95), done.\u001b[K\n",
      "remote: Total 145 (delta 78), reused 100 (delta 45), pack-reused 0\u001b[K\n",
      "Receiving objects: 100% (145/145), 410.98 KiB | 14.17 MiB/s, done.\n",
      "Resolving deltas: 100% (78/78), done.\n"
     ]
    }
   ],
   "source": [
    "os.system(\"git clone https://github.com/hhcho/densvis.git\")"
   ]
  },
  {
   "cell_type": "code",
   "execution_count": 4,
   "metadata": {
    "colab": {
     "base_uri": "https://localhost:8080/"
    },
    "id": "EyX-CrfsTm-j",
    "outputId": "8c811664-8910-40f4-f905-14db97d0d4f8"
   },
   "outputs": [
    {
     "name": "stdout",
     "output_type": "stream",
     "text": [
      "/home/tchari/CP_2023/notebooks/jaccardDistort/densvis/densne\n"
     ]
    }
   ],
   "source": [
    "%cd ./densvis/densne/"
   ]
  },
  {
   "cell_type": "code",
   "execution_count": 5,
   "metadata": {
    "colab": {
     "base_uri": "https://localhost:8080/"
    },
    "id": "RQ4enpNJTvAH",
    "outputId": "8a2d98b4-e5d7-4076-825e-e840d8b94ec3"
   },
   "outputs": [],
   "source": [
    "!g++ sptree.cpp densne.cpp densne_main.cpp -o den_sne -O2\n",
    "import densne"
   ]
  },
  {
   "cell_type": "code",
   "execution_count": 4,
   "metadata": {
    "colab": {
     "base_uri": "https://localhost:8080/"
    },
    "id": "9m8ThgwwT67y",
    "outputId": "c1127635-91a5-430e-af9c-889a0446914c"
   },
   "outputs": [
    {
     "name": "stdout",
     "output_type": "stream",
     "text": [
      "/home/tchari\n"
     ]
    }
   ],
   "source": [
    "%cd ../../"
   ]
  },
  {
   "cell_type": "code",
   "execution_count": null,
   "metadata": {
    "colab": {
     "base_uri": "https://localhost:8080/"
    },
    "id": "Pxuxe1toQFda",
    "outputId": "0b7af77b-94c3-4159-d16d-b3915b3549ba"
   },
   "outputs": [
    {
     "name": "stdout",
     "output_type": "stream",
     "text": [
      "Cloning into 'CBP_2021'...\n",
      "remote: Enumerating objects: 358, done.\u001b[K\n",
      "remote: Counting objects: 100% (358/358), done.\u001b[K\n",
      "remote: Compressing objects: 100% (317/317), done.\u001b[K\n",
      "remote: Total 358 (delta 205), reused 91 (delta 25), pack-reused 0\u001b[K\n",
      "Receiving objects: 100% (358/358), 52.51 MiB | 23.20 MiB/s, done.\n",
      "Resolving deltas: 100% (205/205), done.\n"
     ]
    }
   ],
   "source": [
    "!git clone https://github.com/pachterlab/CP_2023.git"
   ]
  },
  {
   "cell_type": "code",
   "execution_count": 6,
   "metadata": {
    "colab": {
     "base_uri": "https://localhost:8080/"
    },
    "id": "UTm2fxjbQHZr",
    "outputId": "fb37fb6a-a6ec-44b0-ece5-064cc554b7f1"
   },
   "outputs": [
    {
     "name": "stdout",
     "output_type": "stream",
     "text": [
      "/home/tchari/CP_2023/scripts\n"
     ]
    }
   ],
   "source": [
    "%cd /home/tchari/CP_2023/scripts"
   ]
  },
  {
   "cell_type": "code",
   "execution_count": null,
   "metadata": {
    "colab": {
     "base_uri": "https://localhost:8080/"
    },
    "id": "iA-3Y-DlQOKH",
    "outputId": "be2187f3-c5db-4c81-e1e0-63802c0a13bc"
   },
   "outputs": [
    {
     "name": "stdout",
     "output_type": "stream",
     "text": [
      "\u001b[K     |████████████████████████████████| 127 kB 7.3 MB/s \n",
      "\u001b[K     |████████████████████████████████| 10.2 MB 6.7 MB/s \n",
      "\u001b[K     |████████████████████████████████| 69 kB 6.6 MB/s \n",
      "\u001b[K     |████████████████████████████████| 63 kB 2.0 MB/s \n",
      "\u001b[?25h  Building wheel for umap-learn (setup.py) ... \u001b[?25l\u001b[?25hdone\n",
      "  Building wheel for sinfo (setup.py) ... \u001b[?25l\u001b[?25hdone\n"
     ]
    }
   ],
   "source": [
    "# !pip3 install --quiet torch\n",
    "# !pip3 install --quiet anndata\n",
    "# !pip3 install --quiet matplotlib\n",
    "# !pip3 install --quiet scikit-learn\n",
    "# !pip3 install --quiet torchsummary\n",
    "# !pip install --quiet scanpy"
   ]
  },
  {
   "cell_type": "code",
   "execution_count": null,
   "metadata": {
    "id": "FzkDjbg1kram"
   },
   "outputs": [],
   "source": [
    "# !pip install tbb"
   ]
  },
  {
   "cell_type": "markdown",
   "metadata": {
    "id": "xC275rCuQpgV"
   },
   "source": [
    "## **Install Packages**"
   ]
  },
  {
   "cell_type": "code",
   "execution_count": 7,
   "metadata": {
    "id": "48xvpJbyQSKT"
   },
   "outputs": [],
   "source": [
    "import networkx as nx\n",
    "import anndata \n",
    "import pandas as pd\n",
    "import numpy as np\n",
    "\n",
    "import visualizations as vis\n",
    "import tools as tl\n",
    "import random\n",
    "from sklearn.decomposition import TruncatedSVD\n",
    "from sklearn.manifold import TSNE\n",
    "import matplotlib.pyplot as plt\n",
    "from sklearn.neighbors import NeighborhoodComponentsAnalysis, NearestNeighbors\n",
    "from sklearn.metrics import pairwise_distances\n",
    "from sklearn.preprocessing import scale\n",
    "import torch\n",
    "import time\n",
    "import scanpy as sc\n",
    "import seaborn as sns\n",
    "import umap\n",
    "from scipy import stats\n",
    "import scipy.io as sio\n",
    "import matplotlib\n",
    "import matplotlib.patches as patches\n",
    "matplotlib.rc('axes',edgecolor='black')\n",
    "%matplotlib inline\n",
    "sc.set_figure_params(dpi=125)\n",
    "#sns.set_style('white')\n"
   ]
  },
  {
   "cell_type": "code",
   "execution_count": 8,
   "metadata": {
    "id": "WXnD5O9nBeRo"
   },
   "outputs": [],
   "source": [
    "sc.set_figure_params(dpi=125)"
   ]
  },
  {
   "cell_type": "markdown",
   "metadata": {
    "id": "7Xlo5rzVQrqM"
   },
   "source": [
    "## **Find KNN Jaccard Distances with Ambient Space in Latent Spaces**"
   ]
  },
  {
   "cell_type": "code",
   "execution_count": 41,
   "metadata": {
    "id": "4gtBWZVoQjKh"
   },
   "outputs": [],
   "source": [
    "plt.rcParams[\"font.family\"] = \"sans-serif\"\n",
    "plt.rcParams['axes.linewidth'] = 0.1\n",
    "\n",
    "state = 42\n",
    "ndims = 2\n",
    "\n",
    "data_path = '/home/tchari/CP_2023/notebooks/jaccardDistort'\n",
    "\n",
    "pcs = 50\n",
    "n_latent = 50"
   ]
  },
  {
   "cell_type": "markdown",
   "metadata": {
    "id": "4_MlhgMWjK2Y"
   },
   "source": [
    "### **Make 15/50/100D Embeddings, 2D t-SNE/UMAP from all PCA Projections**"
   ]
  },
  {
   "cell_type": "code",
   "execution_count": 42,
   "metadata": {
    "id": "Bid5S69nHcV_"
   },
   "outputs": [],
   "source": [
    "def getJac(orig_indices,latents, latentLab, n_neighbors=30,set_p=1):\n",
    "  emb = []\n",
    "\n",
    "  xs = []\n",
    "\n",
    "  ys = []\n",
    "\n",
    "  knnDF = pd.DataFrame()\n",
    "\n",
    "  for p in range(len(latents)):\n",
    "    i = latents[p]\n",
    "    l = latentLab[p]\n",
    "\n",
    "    ind = tl.getNeighbors(i, n_neigh = n_neighbors,p=set_p)\n",
    "\n",
    "    x = tl.getJaccard(orig_indices,ind)\n",
    "\n",
    "    xs += x\n",
    "    #ys += list(y)\n",
    "\n",
    "    emb += [l]*len(x)\n",
    "\n",
    "    print(l)\n",
    "\n",
    "    print(np.mean(tl.getJaccard(orig_indices,ind)))\n",
    "\n",
    "\n",
    "\n",
    "  knnDF['x'] = xs\n",
    "  #knnDF['y'] = ys\n",
    "  knnDF['latent'] = emb\n",
    "\n",
    "  return knnDF"
   ]
  },
  {
   "cell_type": "code",
   "execution_count": 43,
   "metadata": {
    "id": "W7D2zRsoJCPP"
   },
   "outputs": [],
   "source": [
    "def latentComp(scaled_mat, log_mat, ndims=2, pcs=[15,50,100], rounds = 3,set_p=1):\n",
    "  \"\"\" Compute latent space representations as baseline for reconstruction abilities\"\"\"\n",
    "  reducer = umap.UMAP(n_components = ndims) # random_state = state\n",
    "\t#densUMAP = umap.UMAP(n_components = ndims,densmap=True)\n",
    "  tsne = TSNE(n_components = ndims) \n",
    "\n",
    "  latents = []\n",
    "  latentLab = []\n",
    "  latentType = []\n",
    "\n",
    "  orig_indices = tl.getNeighbors(log_mat, n_neigh = 30,p=set_p)\n",
    "\n",
    "  for i in range(rounds):\n",
    "\n",
    "    for j in pcs:\n",
    "\n",
    "      tsvd = TruncatedSVD(n_components=j)\n",
    "      x_pca = tsvd.fit_transform(scaled_mat)\n",
    "    \n",
    "      pcaUMAP = reducer.fit_transform(x_pca)\n",
    "      #pcaDensUMAP = densUMAP.fit_transform(x_pca)\n",
    "\n",
    "      pcaTSNE = tsne.fit_transform(x_pca)\n",
    "\n",
    "      latents += [x_pca,pcaTSNE, pcaUMAP]\n",
    "      latentLab += ['PCA '+str(j)+'D','PCA '+str(j)+'D t-SNE','PCA '+str(j)+'D UMAP']\n",
    "      latentType += [str(j)+'D','2D','2D']\n",
    "\n",
    "\n",
    "\n",
    "    pcaTSNE = tsne.fit_transform(scaled_mat)\n",
    "    pcaUMAP = reducer.fit_transform(scaled_mat)\n",
    "\n",
    "    tsvd = TruncatedSVD(n_components=2)\n",
    "    x_pca = tsvd.fit_transform(scaled_mat)\n",
    "\n",
    "    latents += [x_pca, pcaTSNE, pcaUMAP]\n",
    "    latentLab += ['PCA 2D','t-SNE 2D','UMAP 2D']\n",
    "    latentType += ['2D','2D','2D']\n",
    "\n",
    "  df = getJac(orig_indices,latents, latentLab, 30)\n",
    "\n",
    "\n",
    "  return df"
   ]
  },
  {
   "cell_type": "code",
   "execution_count": 44,
   "metadata": {
    "id": "YMMhybh7MnkL"
   },
   "outputs": [],
   "source": [
    "def latentPCAComp(scaled_mat, ndims=2, pcs=[15,50,100], rounds = 3, set_p=1):\n",
    "  \"\"\" Compute latent space representations as baseline for reconstruction abilities\"\"\"\n",
    "  reducer = umap.UMAP(n_components = ndims) # random_state = state\n",
    "\t#densUMAP = umap.UMAP(n_components = ndims,densmap=True)\n",
    "  tsne = TSNE(n_components = ndims) \n",
    "\n",
    "  latents = []\n",
    "  latentLab = []\n",
    "  latentType = []\n",
    "\n",
    "  frames = []\n",
    "\n",
    "  for j in pcs:\n",
    "\n",
    "    tsvd = TruncatedSVD(n_components=j)\n",
    "    x_pca = tsvd.fit_transform(scaled_mat)\n",
    "    \n",
    "    orig_indices = tl.getNeighbors(x_pca, n_neigh = 30,p=set_p)\n",
    "\n",
    "    for i in range(rounds):\n",
    "\n",
    "      \n",
    "      pcaUMAP = reducer.fit_transform(x_pca)\n",
    "      #pcaDensUMAP = densUMAP.fit_transform(x_pca)\n",
    "\n",
    "      pcaTSNE = tsne.fit_transform(x_pca)\n",
    "\n",
    "      latents += [pcaTSNE, pcaUMAP]\n",
    "      latentLab += ['PCA '+str(j)+'D t-SNE','PCA '+str(j)+'D UMAP']\n",
    "      latentType += ['2D','2D']\n",
    "\n",
    "      frames += [getJac(orig_indices,latents, latentLab, 30)]\n",
    "\n",
    "      res = pd.concat(frames)\n",
    "\n",
    "\n",
    "  return res"
   ]
  },
  {
   "cell_type": "code",
   "execution_count": null,
   "metadata": {
    "id": "gtaqPOuvO_jh"
   },
   "outputs": [],
   "source": []
  },
  {
   "cell_type": "markdown",
   "metadata": {
    "id": "E4m0-CPOIuRk"
   },
   "source": [
    "### **Read in Data**"
   ]
  },
  {
   "cell_type": "markdown",
   "metadata": {
    "id": "O78N4hdovuzl"
   },
   "source": [
    "Read in 10x VMH data"
   ]
  },
  {
   "cell_type": "code",
   "execution_count": 45,
   "metadata": {
    "colab": {
     "base_uri": "https://localhost:8080/"
    },
    "id": "NtpIixyGFiMw",
    "outputId": "1cfd32a6-33f1-47a1-a115-26a0181cef68"
   },
   "outputs": [
    {
     "data": {
      "text/plain": [
       "(41580, 1999)"
      ]
     },
     "execution_count": 45,
     "metadata": {},
     "output_type": "execute_result"
    }
   ],
   "source": [
    "count_mat = sio.mmread(data_path+'/tenx.mtx')\n",
    "count_mat.shape"
   ]
  },
  {
   "cell_type": "code",
   "execution_count": 46,
   "metadata": {
    "id": "6syqIPjmKnyC"
   },
   "outputs": [],
   "source": [
    "#Center and scale log-normalized data\n",
    "scaled_mat = scale(count_mat)"
   ]
  },
  {
   "cell_type": "code",
   "execution_count": 47,
   "metadata": {
    "colab": {
     "base_uri": "https://localhost:8080/",
     "height": 224
    },
    "id": "rhXu1NykGOOf",
    "outputId": "3eeb765b-6d21-4703-a44f-598f1f53b98a"
   },
   "outputs": [
    {
     "data": {
      "text/html": [
       "<div>\n",
       "<style scoped>\n",
       "    .dataframe tbody tr th:only-of-type {\n",
       "        vertical-align: middle;\n",
       "    }\n",
       "\n",
       "    .dataframe tbody tr th {\n",
       "        vertical-align: top;\n",
       "    }\n",
       "\n",
       "    .dataframe thead th {\n",
       "        text-align: right;\n",
       "    }\n",
       "</style>\n",
       "<table border=\"1\" class=\"dataframe\">\n",
       "  <thead>\n",
       "    <tr style=\"text-align: right;\">\n",
       "      <th></th>\n",
       "      <th>sample_name</th>\n",
       "      <th>cell_barcode</th>\n",
       "      <th>cluster_color</th>\n",
       "      <th>cluster</th>\n",
       "      <th>cluster_id</th>\n",
       "      <th>cell_types</th>\n",
       "      <th>sex_label</th>\n",
       "      <th>batch_indices</th>\n",
       "      <th>cell_counts</th>\n",
       "      <th>n_genes</th>\n",
       "      <th>percent_mito</th>\n",
       "      <th>pass_count_filter</th>\n",
       "      <th>pass_mito_filter</th>\n",
       "    </tr>\n",
       "  </thead>\n",
       "  <tbody>\n",
       "    <tr>\n",
       "      <th>0</th>\n",
       "      <td>10x_VMH_Female_Control_1</td>\n",
       "      <td>4_AAACCTGAGCGCCTCA</td>\n",
       "      <td>#9162FF</td>\n",
       "      <td>Nr5a1_4</td>\n",
       "      <td>24.0</td>\n",
       "      <td>undefined</td>\n",
       "      <td>F</td>\n",
       "      <td>0</td>\n",
       "      <td>1427.0</td>\n",
       "      <td>926</td>\n",
       "      <td>13.594954</td>\n",
       "      <td>True</td>\n",
       "      <td>False</td>\n",
       "    </tr>\n",
       "    <tr>\n",
       "      <th>1</th>\n",
       "      <td>10x_VMH_Female_Control_1</td>\n",
       "      <td>4_AAACCTGCACAGTCGC</td>\n",
       "      <td>#96FF2E</td>\n",
       "      <td>Tsix_Esr1_1</td>\n",
       "      <td>3.0</td>\n",
       "      <td>undefined</td>\n",
       "      <td>F</td>\n",
       "      <td>0</td>\n",
       "      <td>4508.0</td>\n",
       "      <td>2310</td>\n",
       "      <td>9.272405</td>\n",
       "      <td>True</td>\n",
       "      <td>False</td>\n",
       "    </tr>\n",
       "    <tr>\n",
       "      <th>2</th>\n",
       "      <td>10x_VMH_Female_Control_1</td>\n",
       "      <td>4_AAACCTGCAGATTGCT</td>\n",
       "      <td>#66ABC2</td>\n",
       "      <td>Dlk1_3</td>\n",
       "      <td>16.0</td>\n",
       "      <td>undefined</td>\n",
       "      <td>F</td>\n",
       "      <td>0</td>\n",
       "      <td>3447.0</td>\n",
       "      <td>1995</td>\n",
       "      <td>5.483029</td>\n",
       "      <td>True</td>\n",
       "      <td>False</td>\n",
       "    </tr>\n",
       "    <tr>\n",
       "      <th>3</th>\n",
       "      <td>10x_VMH_Female_Control_1</td>\n",
       "      <td>4_AAACCTGCATACTCTT</td>\n",
       "      <td>#96FF2E</td>\n",
       "      <td>Tsix_Esr1_1</td>\n",
       "      <td>3.0</td>\n",
       "      <td>undefined</td>\n",
       "      <td>F</td>\n",
       "      <td>0</td>\n",
       "      <td>7004.0</td>\n",
       "      <td>3286</td>\n",
       "      <td>4.483152</td>\n",
       "      <td>True</td>\n",
       "      <td>True</td>\n",
       "    </tr>\n",
       "    <tr>\n",
       "      <th>4</th>\n",
       "      <td>10x_VMH_Female_Control_1</td>\n",
       "      <td>4_AAACCTGGTCCGTTAA</td>\n",
       "      <td>#24EFCD</td>\n",
       "      <td>Scgn</td>\n",
       "      <td>20.0</td>\n",
       "      <td>undefined</td>\n",
       "      <td>F</td>\n",
       "      <td>0</td>\n",
       "      <td>2490.0</td>\n",
       "      <td>1492</td>\n",
       "      <td>9.277108</td>\n",
       "      <td>True</td>\n",
       "      <td>False</td>\n",
       "    </tr>\n",
       "  </tbody>\n",
       "</table>\n",
       "</div>"
      ],
      "text/plain": [
       "                sample_name        cell_barcode cluster_color      cluster  \\\n",
       "0  10x_VMH_Female_Control_1  4_AAACCTGAGCGCCTCA       #9162FF      Nr5a1_4   \n",
       "1  10x_VMH_Female_Control_1  4_AAACCTGCACAGTCGC       #96FF2E  Tsix_Esr1_1   \n",
       "2  10x_VMH_Female_Control_1  4_AAACCTGCAGATTGCT       #66ABC2       Dlk1_3   \n",
       "3  10x_VMH_Female_Control_1  4_AAACCTGCATACTCTT       #96FF2E  Tsix_Esr1_1   \n",
       "4  10x_VMH_Female_Control_1  4_AAACCTGGTCCGTTAA       #24EFCD         Scgn   \n",
       "\n",
       "   cluster_id cell_types sex_label  batch_indices  cell_counts  n_genes  \\\n",
       "0        24.0  undefined         F              0       1427.0      926   \n",
       "1         3.0  undefined         F              0       4508.0     2310   \n",
       "2        16.0  undefined         F              0       3447.0     1995   \n",
       "3         3.0  undefined         F              0       7004.0     3286   \n",
       "4        20.0  undefined         F              0       2490.0     1492   \n",
       "\n",
       "   percent_mito  pass_count_filter  pass_mito_filter  \n",
       "0     13.594954               True             False  \n",
       "1      9.272405               True             False  \n",
       "2      5.483029               True             False  \n",
       "3      4.483152               True              True  \n",
       "4      9.277108               True             False  "
      ]
     },
     "execution_count": 47,
     "metadata": {},
     "output_type": "execute_result"
    }
   ],
   "source": [
    "meta = pd.read_csv(data_path+'/tenxmetadata.csv',index_col = 0)\n",
    "meta.head()"
   ]
  },
  {
   "cell_type": "code",
   "execution_count": 48,
   "metadata": {
    "colab": {
     "base_uri": "https://localhost:8080/"
    },
    "id": "SuLCIFXnW52W",
    "outputId": "c0456950-79b3-4ec8-8851-3d528db6f787"
   },
   "outputs": [
    {
     "data": {
      "text/plain": [
       "3.829829248460913"
      ]
     },
     "execution_count": 48,
     "metadata": {},
     "output_type": "execute_result"
    }
   ],
   "source": [
    "meta.sex_label.value_counts()[0]/meta.sex_label.value_counts()[1]"
   ]
  },
  {
   "cell_type": "code",
   "execution_count": 49,
   "metadata": {
    "id": "R2LjG72zkvzU"
   },
   "outputs": [],
   "source": [
    "lab1 = list(meta.cluster)\n",
    "lab2 = list(meta.sex_label)\n",
    "lab3 = list(meta.sample_name)\n",
    "\n",
    "\n",
    "allLabs = np.array([lab1,lab2])\n",
    "\n",
    "nanLabs = np.array([[np.nan]*len(lab1)])\n",
    "\n",
    "#Shuffled labels for over-fitting check\n",
    "shuff_lab1 = random.sample(lab1, len(lab1))  \n",
    "shuff_lab2 = random.sample(lab2, len(lab2))  \n",
    "shuff_allLabs = np.array([shuff_lab1,shuff_lab2])\n",
    "\n",
    "clus_colors = list(pd.unique(meta.cluster_color))\n",
    "\n",
    "sex_colors = ['#F8C471','#abacb7']"
   ]
  },
  {
   "cell_type": "code",
   "execution_count": 50,
   "metadata": {
    "colab": {
     "base_uri": "https://localhost:8080/"
    },
    "id": "YcE4wg1AdDMz",
    "outputId": "174b6300-17fb-4f51-8045-b1fe365bbb25"
   },
   "outputs": [
    {
     "name": "stderr",
     "output_type": "stream",
     "text": [
      "/home/tchari/miniconda3/envs/py37/lib/python3.7/site-packages/sklearn/manifold/_t_sne.py:783: FutureWarning: The default initialization in TSNE will change from 'random' to 'pca' in 1.2.\n",
      "  FutureWarning,\n",
      "/home/tchari/miniconda3/envs/py37/lib/python3.7/site-packages/sklearn/manifold/_t_sne.py:793: FutureWarning: The default learning rate in TSNE will change from 200.0 to 'auto' in 1.2.\n",
      "  FutureWarning,\n",
      "/home/tchari/miniconda3/envs/py37/lib/python3.7/site-packages/sklearn/manifold/_t_sne.py:783: FutureWarning: The default initialization in TSNE will change from 'random' to 'pca' in 1.2.\n",
      "  FutureWarning,\n",
      "/home/tchari/miniconda3/envs/py37/lib/python3.7/site-packages/sklearn/manifold/_t_sne.py:793: FutureWarning: The default learning rate in TSNE will change from 200.0 to 'auto' in 1.2.\n",
      "  FutureWarning,\n",
      "/home/tchari/miniconda3/envs/py37/lib/python3.7/site-packages/sklearn/manifold/_t_sne.py:783: FutureWarning: The default initialization in TSNE will change from 'random' to 'pca' in 1.2.\n",
      "  FutureWarning,\n",
      "/home/tchari/miniconda3/envs/py37/lib/python3.7/site-packages/sklearn/manifold/_t_sne.py:793: FutureWarning: The default learning rate in TSNE will change from 200.0 to 'auto' in 1.2.\n",
      "  FutureWarning,\n",
      "/home/tchari/miniconda3/envs/py37/lib/python3.7/site-packages/sklearn/manifold/_t_sne.py:783: FutureWarning: The default initialization in TSNE will change from 'random' to 'pca' in 1.2.\n",
      "  FutureWarning,\n",
      "/home/tchari/miniconda3/envs/py37/lib/python3.7/site-packages/sklearn/manifold/_t_sne.py:793: FutureWarning: The default learning rate in TSNE will change from 200.0 to 'auto' in 1.2.\n",
      "  FutureWarning,\n",
      "/home/tchari/miniconda3/envs/py37/lib/python3.7/site-packages/sklearn/manifold/_t_sne.py:783: FutureWarning: The default initialization in TSNE will change from 'random' to 'pca' in 1.2.\n",
      "  FutureWarning,\n",
      "/home/tchari/miniconda3/envs/py37/lib/python3.7/site-packages/sklearn/manifold/_t_sne.py:793: FutureWarning: The default learning rate in TSNE will change from 200.0 to 'auto' in 1.2.\n",
      "  FutureWarning,\n",
      "/home/tchari/miniconda3/envs/py37/lib/python3.7/site-packages/sklearn/manifold/_t_sne.py:783: FutureWarning: The default initialization in TSNE will change from 'random' to 'pca' in 1.2.\n",
      "  FutureWarning,\n",
      "/home/tchari/miniconda3/envs/py37/lib/python3.7/site-packages/sklearn/manifold/_t_sne.py:793: FutureWarning: The default learning rate in TSNE will change from 200.0 to 'auto' in 1.2.\n",
      "  FutureWarning,\n",
      "/home/tchari/miniconda3/envs/py37/lib/python3.7/site-packages/sklearn/manifold/_t_sne.py:783: FutureWarning: The default initialization in TSNE will change from 'random' to 'pca' in 1.2.\n",
      "  FutureWarning,\n",
      "/home/tchari/miniconda3/envs/py37/lib/python3.7/site-packages/sklearn/manifold/_t_sne.py:793: FutureWarning: The default learning rate in TSNE will change from 200.0 to 'auto' in 1.2.\n",
      "  FutureWarning,\n",
      "/home/tchari/miniconda3/envs/py37/lib/python3.7/site-packages/sklearn/manifold/_t_sne.py:783: FutureWarning: The default initialization in TSNE will change from 'random' to 'pca' in 1.2.\n",
      "  FutureWarning,\n",
      "/home/tchari/miniconda3/envs/py37/lib/python3.7/site-packages/sklearn/manifold/_t_sne.py:793: FutureWarning: The default learning rate in TSNE will change from 200.0 to 'auto' in 1.2.\n",
      "  FutureWarning,\n",
      "/home/tchari/miniconda3/envs/py37/lib/python3.7/site-packages/sklearn/manifold/_t_sne.py:783: FutureWarning: The default initialization in TSNE will change from 'random' to 'pca' in 1.2.\n",
      "  FutureWarning,\n",
      "/home/tchari/miniconda3/envs/py37/lib/python3.7/site-packages/sklearn/manifold/_t_sne.py:793: FutureWarning: The default learning rate in TSNE will change from 200.0 to 'auto' in 1.2.\n",
      "  FutureWarning,\n",
      "/home/tchari/miniconda3/envs/py37/lib/python3.7/site-packages/sklearn/manifold/_t_sne.py:783: FutureWarning: The default initialization in TSNE will change from 'random' to 'pca' in 1.2.\n",
      "  FutureWarning,\n",
      "/home/tchari/miniconda3/envs/py37/lib/python3.7/site-packages/sklearn/manifold/_t_sne.py:793: FutureWarning: The default learning rate in TSNE will change from 200.0 to 'auto' in 1.2.\n",
      "  FutureWarning,\n",
      "/home/tchari/miniconda3/envs/py37/lib/python3.7/site-packages/sklearn/manifold/_t_sne.py:783: FutureWarning: The default initialization in TSNE will change from 'random' to 'pca' in 1.2.\n",
      "  FutureWarning,\n",
      "/home/tchari/miniconda3/envs/py37/lib/python3.7/site-packages/sklearn/manifold/_t_sne.py:793: FutureWarning: The default learning rate in TSNE will change from 200.0 to 'auto' in 1.2.\n",
      "  FutureWarning,\n",
      "/home/tchari/miniconda3/envs/py37/lib/python3.7/site-packages/sklearn/manifold/_t_sne.py:783: FutureWarning: The default initialization in TSNE will change from 'random' to 'pca' in 1.2.\n",
      "  FutureWarning,\n",
      "/home/tchari/miniconda3/envs/py37/lib/python3.7/site-packages/sklearn/manifold/_t_sne.py:793: FutureWarning: The default learning rate in TSNE will change from 200.0 to 'auto' in 1.2.\n",
      "  FutureWarning,\n"
     ]
    },
    {
     "name": "stdout",
     "output_type": "stream",
     "text": [
      "PCA 15D\n",
      "0.9344710834338487\n",
      "PCA 15D t-SNE\n",
      "0.9474180675225241\n",
      "PCA 15D UMAP\n",
      "0.9606433284029249\n",
      "PCA 50D\n",
      "0.920237326203854\n",
      "PCA 50D t-SNE\n",
      "0.9430859818517712\n",
      "PCA 50D UMAP\n",
      "0.9582769428380219\n",
      "PCA 100D\n",
      "0.9232441865043015\n",
      "PCA 100D t-SNE\n",
      "0.9460857785005053\n",
      "PCA 100D UMAP\n",
      "0.9605652657207666\n",
      "PCA 2D\n",
      "0.9786805745748802\n",
      "t-SNE 2D\n",
      "0.973879660372661\n",
      "UMAP 2D\n",
      "0.9792978009846357\n",
      "PCA 15D\n",
      "0.9346651230709886\n",
      "PCA 15D t-SNE\n",
      "0.9476315044618343\n",
      "PCA 15D UMAP\n",
      "0.960729610304458\n",
      "PCA 50D\n",
      "0.9205157931710002\n",
      "PCA 50D t-SNE\n",
      "0.9426099154310735\n",
      "PCA 50D UMAP\n",
      "0.9583598039047829\n",
      "PCA 100D\n",
      "0.9225727254989524\n",
      "PCA 100D t-SNE\n",
      "0.9458621842189389\n",
      "PCA 100D UMAP\n",
      "0.960645369014811\n",
      "PCA 2D\n",
      "0.9786805893707977\n",
      "t-SNE 2D\n",
      "0.9738109171882292\n",
      "UMAP 2D\n",
      "0.9791892881879797\n",
      "PCA 15D\n",
      "0.9345031307413973\n",
      "PCA 15D t-SNE\n",
      "0.947635529061823\n",
      "PCA 15D UMAP\n",
      "0.9603575310904763\n",
      "PCA 50D\n",
      "0.9196512404489031\n",
      "PCA 50D t-SNE\n",
      "0.9425208647707423\n",
      "PCA 50D UMAP\n",
      "0.9584456670680431\n",
      "PCA 100D\n",
      "0.92276394926529\n",
      "PCA 100D t-SNE\n",
      "0.945946201141338\n",
      "PCA 100D UMAP\n",
      "0.9609157699424549\n",
      "PCA 2D\n",
      "0.9786797164116671\n",
      "t-SNE 2D\n",
      "0.9741549355926574\n",
      "UMAP 2D\n",
      "0.9791875610767519\n",
      "          x   latent\n",
      "0  0.846154  PCA 15D\n",
      "1  0.867925  PCA 15D\n",
      "2  0.928571  PCA 15D\n",
      "3  0.823529  PCA 15D\n",
      "4  0.947368  PCA 15D\n"
     ]
    },
    {
     "name": "stderr",
     "output_type": "stream",
     "text": [
      "/home/tchari/miniconda3/envs/py37/lib/python3.7/site-packages/sklearn/manifold/_t_sne.py:783: FutureWarning: The default initialization in TSNE will change from 'random' to 'pca' in 1.2.\n",
      "  FutureWarning,\n",
      "/home/tchari/miniconda3/envs/py37/lib/python3.7/site-packages/sklearn/manifold/_t_sne.py:793: FutureWarning: The default learning rate in TSNE will change from 200.0 to 'auto' in 1.2.\n",
      "  FutureWarning,\n"
     ]
    },
    {
     "name": "stdout",
     "output_type": "stream",
     "text": [
      "PCA 15D t-SNE\n",
      "0.7823164420046588\n",
      "PCA 15D UMAP\n",
      "0.8847147726872638\n"
     ]
    },
    {
     "name": "stderr",
     "output_type": "stream",
     "text": [
      "/home/tchari/miniconda3/envs/py37/lib/python3.7/site-packages/sklearn/manifold/_t_sne.py:783: FutureWarning: The default initialization in TSNE will change from 'random' to 'pca' in 1.2.\n",
      "  FutureWarning,\n",
      "/home/tchari/miniconda3/envs/py37/lib/python3.7/site-packages/sklearn/manifold/_t_sne.py:793: FutureWarning: The default learning rate in TSNE will change from 200.0 to 'auto' in 1.2.\n",
      "  FutureWarning,\n"
     ]
    },
    {
     "name": "stdout",
     "output_type": "stream",
     "text": [
      "PCA 15D t-SNE\n",
      "0.7823164420046588\n",
      "PCA 15D UMAP\n",
      "0.8847147726872638\n",
      "PCA 15D t-SNE\n",
      "0.7820930137943384\n",
      "PCA 15D UMAP\n",
      "0.8844628960107324\n"
     ]
    },
    {
     "name": "stderr",
     "output_type": "stream",
     "text": [
      "/home/tchari/miniconda3/envs/py37/lib/python3.7/site-packages/sklearn/manifold/_t_sne.py:783: FutureWarning: The default initialization in TSNE will change from 'random' to 'pca' in 1.2.\n",
      "  FutureWarning,\n",
      "/home/tchari/miniconda3/envs/py37/lib/python3.7/site-packages/sklearn/manifold/_t_sne.py:793: FutureWarning: The default learning rate in TSNE will change from 200.0 to 'auto' in 1.2.\n",
      "  FutureWarning,\n"
     ]
    },
    {
     "name": "stdout",
     "output_type": "stream",
     "text": [
      "PCA 15D t-SNE\n",
      "0.7823164420046588\n",
      "PCA 15D UMAP\n",
      "0.8847147726872638\n",
      "PCA 15D t-SNE\n",
      "0.7820930137943384\n",
      "PCA 15D UMAP\n",
      "0.8844628960107324\n",
      "PCA 15D t-SNE\n",
      "0.7813947646558044\n",
      "PCA 15D UMAP\n",
      "0.8843410435576308\n"
     ]
    },
    {
     "name": "stderr",
     "output_type": "stream",
     "text": [
      "/home/tchari/miniconda3/envs/py37/lib/python3.7/site-packages/sklearn/manifold/_t_sne.py:783: FutureWarning: The default initialization in TSNE will change from 'random' to 'pca' in 1.2.\n",
      "  FutureWarning,\n",
      "/home/tchari/miniconda3/envs/py37/lib/python3.7/site-packages/sklearn/manifold/_t_sne.py:793: FutureWarning: The default learning rate in TSNE will change from 200.0 to 'auto' in 1.2.\n",
      "  FutureWarning,\n"
     ]
    },
    {
     "name": "stdout",
     "output_type": "stream",
     "text": [
      "PCA 15D t-SNE\n",
      "0.8715768511492088\n",
      "PCA 15D UMAP\n",
      "0.9226417714651926\n",
      "PCA 15D t-SNE\n",
      "0.8716047253187081\n",
      "PCA 15D UMAP\n",
      "0.9222842967379897\n",
      "PCA 15D t-SNE\n",
      "0.8714845927773217\n",
      "PCA 15D UMAP\n",
      "0.9227132796115\n",
      "PCA 50D t-SNE\n",
      "0.8411496864944519\n",
      "PCA 50D UMAP\n",
      "0.9136381943307929\n"
     ]
    },
    {
     "name": "stderr",
     "output_type": "stream",
     "text": [
      "/home/tchari/miniconda3/envs/py37/lib/python3.7/site-packages/sklearn/manifold/_t_sne.py:783: FutureWarning: The default initialization in TSNE will change from 'random' to 'pca' in 1.2.\n",
      "  FutureWarning,\n",
      "/home/tchari/miniconda3/envs/py37/lib/python3.7/site-packages/sklearn/manifold/_t_sne.py:793: FutureWarning: The default learning rate in TSNE will change from 200.0 to 'auto' in 1.2.\n",
      "  FutureWarning,\n"
     ]
    },
    {
     "name": "stdout",
     "output_type": "stream",
     "text": [
      "PCA 15D t-SNE\n",
      "0.8715768511492088\n",
      "PCA 15D UMAP\n",
      "0.9226417714651926\n",
      "PCA 15D t-SNE\n",
      "0.8716047253187081\n",
      "PCA 15D UMAP\n",
      "0.9222842967379897\n",
      "PCA 15D t-SNE\n",
      "0.8714845927773217\n",
      "PCA 15D UMAP\n",
      "0.9227132796115\n",
      "PCA 50D t-SNE\n",
      "0.8411496864944519\n",
      "PCA 50D UMAP\n",
      "0.9136381943307929\n",
      "PCA 50D t-SNE\n",
      "0.8422376958077351\n",
      "PCA 50D UMAP\n",
      "0.9142763281181758\n"
     ]
    },
    {
     "name": "stderr",
     "output_type": "stream",
     "text": [
      "/home/tchari/miniconda3/envs/py37/lib/python3.7/site-packages/sklearn/manifold/_t_sne.py:783: FutureWarning: The default initialization in TSNE will change from 'random' to 'pca' in 1.2.\n",
      "  FutureWarning,\n",
      "/home/tchari/miniconda3/envs/py37/lib/python3.7/site-packages/sklearn/manifold/_t_sne.py:793: FutureWarning: The default learning rate in TSNE will change from 200.0 to 'auto' in 1.2.\n",
      "  FutureWarning,\n"
     ]
    },
    {
     "name": "stdout",
     "output_type": "stream",
     "text": [
      "PCA 15D t-SNE\n",
      "0.8715768511492088\n",
      "PCA 15D UMAP\n",
      "0.9226417714651926\n",
      "PCA 15D t-SNE\n",
      "0.8716047253187081\n",
      "PCA 15D UMAP\n",
      "0.9222842967379897\n",
      "PCA 15D t-SNE\n",
      "0.8714845927773217\n",
      "PCA 15D UMAP\n",
      "0.9227132796115\n",
      "PCA 50D t-SNE\n",
      "0.8411496864944519\n",
      "PCA 50D UMAP\n",
      "0.9136381943307929\n",
      "PCA 50D t-SNE\n",
      "0.8422376958077351\n",
      "PCA 50D UMAP\n",
      "0.9142763281181758\n",
      "PCA 50D t-SNE\n",
      "0.8416468257649286\n",
      "PCA 50D UMAP\n",
      "0.914352542818795\n"
     ]
    },
    {
     "name": "stderr",
     "output_type": "stream",
     "text": [
      "/home/tchari/miniconda3/envs/py37/lib/python3.7/site-packages/sklearn/manifold/_t_sne.py:783: FutureWarning: The default initialization in TSNE will change from 'random' to 'pca' in 1.2.\n",
      "  FutureWarning,\n",
      "/home/tchari/miniconda3/envs/py37/lib/python3.7/site-packages/sklearn/manifold/_t_sne.py:793: FutureWarning: The default learning rate in TSNE will change from 200.0 to 'auto' in 1.2.\n",
      "  FutureWarning,\n"
     ]
    },
    {
     "name": "stdout",
     "output_type": "stream",
     "text": [
      "PCA 15D t-SNE\n",
      "0.9041136836391811\n",
      "PCA 15D UMAP\n",
      "0.9380851846098588\n",
      "PCA 15D t-SNE\n",
      "0.9039618612103476\n",
      "PCA 15D UMAP\n",
      "0.9378597152282564\n",
      "PCA 15D t-SNE\n",
      "0.9039838932707388\n",
      "PCA 15D UMAP\n",
      "0.9383512115945074\n",
      "PCA 50D t-SNE\n",
      "0.8850803785235049\n",
      "PCA 50D UMAP\n",
      "0.9319988100755396\n",
      "PCA 50D t-SNE\n",
      "0.8853160977116087\n",
      "PCA 50D UMAP\n",
      "0.9324145735642776\n",
      "PCA 50D t-SNE\n",
      "0.8850354075483519\n",
      "PCA 50D UMAP\n",
      "0.9325204560747262\n",
      "PCA 100D t-SNE\n",
      "0.8749724899886686\n",
      "PCA 100D UMAP\n",
      "0.9318190424205686\n"
     ]
    },
    {
     "name": "stderr",
     "output_type": "stream",
     "text": [
      "/home/tchari/miniconda3/envs/py37/lib/python3.7/site-packages/sklearn/manifold/_t_sne.py:783: FutureWarning: The default initialization in TSNE will change from 'random' to 'pca' in 1.2.\n",
      "  FutureWarning,\n",
      "/home/tchari/miniconda3/envs/py37/lib/python3.7/site-packages/sklearn/manifold/_t_sne.py:793: FutureWarning: The default learning rate in TSNE will change from 200.0 to 'auto' in 1.2.\n",
      "  FutureWarning,\n"
     ]
    },
    {
     "name": "stdout",
     "output_type": "stream",
     "text": [
      "PCA 15D t-SNE\n",
      "0.9041136836391811\n",
      "PCA 15D UMAP\n",
      "0.9380851846098588\n",
      "PCA 15D t-SNE\n",
      "0.9039618612103476\n",
      "PCA 15D UMAP\n",
      "0.9378597152282564\n",
      "PCA 15D t-SNE\n",
      "0.9039838932707388\n",
      "PCA 15D UMAP\n",
      "0.9383512115945074\n",
      "PCA 50D t-SNE\n",
      "0.8850803785235049\n",
      "PCA 50D UMAP\n",
      "0.9319988100755396\n",
      "PCA 50D t-SNE\n",
      "0.8853160977116087\n",
      "PCA 50D UMAP\n",
      "0.9324145735642776\n",
      "PCA 50D t-SNE\n",
      "0.8850354075483519\n",
      "PCA 50D UMAP\n",
      "0.9325204560747262\n",
      "PCA 100D t-SNE\n",
      "0.8749724899886686\n",
      "PCA 100D UMAP\n",
      "0.9318190424205686\n",
      "PCA 100D t-SNE\n",
      "0.8746936484477223\n",
      "PCA 100D UMAP\n",
      "0.9314712506139984\n"
     ]
    },
    {
     "name": "stderr",
     "output_type": "stream",
     "text": [
      "/home/tchari/miniconda3/envs/py37/lib/python3.7/site-packages/sklearn/manifold/_t_sne.py:783: FutureWarning: The default initialization in TSNE will change from 'random' to 'pca' in 1.2.\n",
      "  FutureWarning,\n",
      "/home/tchari/miniconda3/envs/py37/lib/python3.7/site-packages/sklearn/manifold/_t_sne.py:793: FutureWarning: The default learning rate in TSNE will change from 200.0 to 'auto' in 1.2.\n",
      "  FutureWarning,\n"
     ]
    },
    {
     "name": "stdout",
     "output_type": "stream",
     "text": [
      "PCA 15D t-SNE\n",
      "0.9041136836391811\n",
      "PCA 15D UMAP\n",
      "0.9380851846098588\n",
      "PCA 15D t-SNE\n",
      "0.9039618612103476\n",
      "PCA 15D UMAP\n",
      "0.9378597152282564\n",
      "PCA 15D t-SNE\n",
      "0.9039838932707388\n",
      "PCA 15D UMAP\n",
      "0.9383512115945074\n",
      "PCA 50D t-SNE\n",
      "0.8850803785235049\n",
      "PCA 50D UMAP\n",
      "0.9319988100755396\n",
      "PCA 50D t-SNE\n",
      "0.8853160977116087\n",
      "PCA 50D UMAP\n",
      "0.9324145735642776\n",
      "PCA 50D t-SNE\n",
      "0.8850354075483519\n",
      "PCA 50D UMAP\n",
      "0.9325204560747262\n",
      "PCA 100D t-SNE\n",
      "0.8749724899886686\n",
      "PCA 100D UMAP\n",
      "0.9318190424205686\n",
      "PCA 100D t-SNE\n",
      "0.8746936484477223\n",
      "PCA 100D UMAP\n",
      "0.9314712506139984\n",
      "PCA 100D t-SNE\n",
      "0.8747993516303249\n",
      "PCA 100D UMAP\n",
      "0.932567132178554\n",
      "          x         latent\n",
      "0  0.461538  PCA 15D t-SNE\n",
      "1  0.604651  PCA 15D t-SNE\n",
      "2  0.888889  PCA 15D t-SNE\n",
      "3  0.723404  PCA 15D t-SNE\n",
      "4  0.867925  PCA 15D t-SNE\n"
     ]
    }
   ],
   "source": [
    "#Get KNN Jaccard distances\n",
    "tenxAmb = latentComp(scaled_mat,count_mat, ndims=2, pcs=[15,50,100], rounds = 3, set_p=2)\n",
    "print(tenxAmb.head())\n",
    "tenxPCAAmb = latentPCAComp(scaled_mat, ndims=2, pcs=[15,50,100], rounds = 3,set_p=2)\n",
    "print(tenxPCAAmb.head())"
   ]
  },
  {
   "cell_type": "code",
   "execution_count": 51,
   "metadata": {},
   "outputs": [
    {
     "name": "stdout",
     "output_type": "stream",
     "text": [
      "mkdir: cannot create directory ‘allOuts’: File exists\r\n"
     ]
    }
   ],
   "source": [
    "!mkdir allOuts"
   ]
  },
  {
   "cell_type": "code",
   "execution_count": 52,
   "metadata": {},
   "outputs": [],
   "source": [
    "tenxPCAAmb.to_csv('allOuts/tenxPCAAmb.csv')\n",
    "tenxAmb.to_csv('allOuts/tenxAmb.csv')"
   ]
  },
  {
   "cell_type": "markdown",
   "metadata": {
    "id": "mxo06MbxQh8x"
   },
   "source": [
    "**Read in SMART-Seq VMH data**"
   ]
  },
  {
   "cell_type": "code",
   "execution_count": 53,
   "metadata": {
    "colab": {
     "base_uri": "https://localhost:8080/"
    },
    "id": "CBLRYVLtaH8C",
    "outputId": "697451d8-2912-4303-a974-35c2dcbf2503"
   },
   "outputs": [
    {
     "data": {
      "text/plain": [
       "(3850, 1999)"
      ]
     },
     "execution_count": 53,
     "metadata": {},
     "output_type": "execute_result"
    }
   ],
   "source": [
    "count_mat = sio.mmread(data_path+'/smartseq.mtx')\n",
    "count_mat.shape"
   ]
  },
  {
   "cell_type": "code",
   "execution_count": 54,
   "metadata": {
    "id": "3PGhydkraH8D"
   },
   "outputs": [],
   "source": [
    "#Center and scale log-normalized data\n",
    "scaled_mat = scale(count_mat)"
   ]
  },
  {
   "cell_type": "code",
   "execution_count": 55,
   "metadata": {
    "colab": {
     "base_uri": "https://localhost:8080/",
     "height": 204
    },
    "id": "YF8SGznEaH8D",
    "outputId": "bac0a909-f4c5-4673-fddf-4c2a4394ba12"
   },
   "outputs": [
    {
     "data": {
      "text/html": [
       "<div>\n",
       "<style scoped>\n",
       "    .dataframe tbody tr th:only-of-type {\n",
       "        vertical-align: middle;\n",
       "    }\n",
       "\n",
       "    .dataframe tbody tr th {\n",
       "        vertical-align: top;\n",
       "    }\n",
       "\n",
       "    .dataframe thead th {\n",
       "        text-align: right;\n",
       "    }\n",
       "</style>\n",
       "<table border=\"1\" class=\"dataframe\">\n",
       "  <thead>\n",
       "    <tr style=\"text-align: right;\">\n",
       "      <th></th>\n",
       "      <th>sample_name</th>\n",
       "      <th>smartseq_cluster_id</th>\n",
       "      <th>smartseq_cluster</th>\n",
       "      <th>sex_label</th>\n",
       "      <th>smartseq_cluster_color</th>\n",
       "      <th>medical_cond_label</th>\n",
       "      <th>cell_counts</th>\n",
       "      <th>n_genes</th>\n",
       "      <th>percent_mito</th>\n",
       "      <th>pass_count_filter</th>\n",
       "      <th>pass_mito_filter</th>\n",
       "    </tr>\n",
       "  </thead>\n",
       "  <tbody>\n",
       "    <tr>\n",
       "      <th>SM-GE4R2_S062_E1-50</th>\n",
       "      <td>SM-GE4R2_S062_E1-50</td>\n",
       "      <td>46</td>\n",
       "      <td>Nr5a1_9|11 Rorb</td>\n",
       "      <td>M</td>\n",
       "      <td>#6C39A6</td>\n",
       "      <td>behavior - none</td>\n",
       "      <td>964371.56</td>\n",
       "      <td>9772</td>\n",
       "      <td>0.0</td>\n",
       "      <td>True</td>\n",
       "      <td>True</td>\n",
       "    </tr>\n",
       "    <tr>\n",
       "      <th>SM-GE4SI_S356_E1-50</th>\n",
       "      <td>SM-GE4SI_S356_E1-50</td>\n",
       "      <td>46</td>\n",
       "      <td>Nr5a1_9|11 Rorb</td>\n",
       "      <td>M</td>\n",
       "      <td>#6C39A6</td>\n",
       "      <td>behavior - none</td>\n",
       "      <td>973072.06</td>\n",
       "      <td>8253</td>\n",
       "      <td>0.0</td>\n",
       "      <td>True</td>\n",
       "      <td>True</td>\n",
       "    </tr>\n",
       "    <tr>\n",
       "      <th>SM-GE4SI_S172_E1-50</th>\n",
       "      <td>SM-GE4SI_S172_E1-50</td>\n",
       "      <td>46</td>\n",
       "      <td>Nr5a1_9|11 Rorb</td>\n",
       "      <td>M</td>\n",
       "      <td>#6C39A6</td>\n",
       "      <td>behavior - none</td>\n",
       "      <td>977132.60</td>\n",
       "      <td>9394</td>\n",
       "      <td>0.0</td>\n",
       "      <td>True</td>\n",
       "      <td>True</td>\n",
       "    </tr>\n",
       "    <tr>\n",
       "      <th>LS-15034_S07_E1-50</th>\n",
       "      <td>LS-15034_S07_E1-50</td>\n",
       "      <td>42</td>\n",
       "      <td>Nr5a1_4|7 Glipr1</td>\n",
       "      <td>M</td>\n",
       "      <td>#763BFF</td>\n",
       "      <td>behavior - none</td>\n",
       "      <td>948605.44</td>\n",
       "      <td>10643</td>\n",
       "      <td>0.0</td>\n",
       "      <td>True</td>\n",
       "      <td>True</td>\n",
       "    </tr>\n",
       "    <tr>\n",
       "      <th>LS-15034_S28_E1-50</th>\n",
       "      <td>LS-15034_S28_E1-50</td>\n",
       "      <td>42</td>\n",
       "      <td>Nr5a1_4|7 Glipr1</td>\n",
       "      <td>F</td>\n",
       "      <td>#763BFF</td>\n",
       "      <td>behavior - none</td>\n",
       "      <td>951803.00</td>\n",
       "      <td>10550</td>\n",
       "      <td>0.0</td>\n",
       "      <td>True</td>\n",
       "      <td>True</td>\n",
       "    </tr>\n",
       "  </tbody>\n",
       "</table>\n",
       "</div>"
      ],
      "text/plain": [
       "                             sample_name  smartseq_cluster_id  \\\n",
       "SM-GE4R2_S062_E1-50  SM-GE4R2_S062_E1-50                   46   \n",
       "SM-GE4SI_S356_E1-50  SM-GE4SI_S356_E1-50                   46   \n",
       "SM-GE4SI_S172_E1-50  SM-GE4SI_S172_E1-50                   46   \n",
       "LS-15034_S07_E1-50    LS-15034_S07_E1-50                   42   \n",
       "LS-15034_S28_E1-50    LS-15034_S28_E1-50                   42   \n",
       "\n",
       "                     smartseq_cluster sex_label smartseq_cluster_color  \\\n",
       "SM-GE4R2_S062_E1-50   Nr5a1_9|11 Rorb         M                #6C39A6   \n",
       "SM-GE4SI_S356_E1-50   Nr5a1_9|11 Rorb         M                #6C39A6   \n",
       "SM-GE4SI_S172_E1-50   Nr5a1_9|11 Rorb         M                #6C39A6   \n",
       "LS-15034_S07_E1-50   Nr5a1_4|7 Glipr1         M                #763BFF   \n",
       "LS-15034_S28_E1-50   Nr5a1_4|7 Glipr1         F                #763BFF   \n",
       "\n",
       "                    medical_cond_label  cell_counts  n_genes  percent_mito  \\\n",
       "SM-GE4R2_S062_E1-50    behavior - none    964371.56     9772           0.0   \n",
       "SM-GE4SI_S356_E1-50    behavior - none    973072.06     8253           0.0   \n",
       "SM-GE4SI_S172_E1-50    behavior - none    977132.60     9394           0.0   \n",
       "LS-15034_S07_E1-50     behavior - none    948605.44    10643           0.0   \n",
       "LS-15034_S28_E1-50     behavior - none    951803.00    10550           0.0   \n",
       "\n",
       "                     pass_count_filter  pass_mito_filter  \n",
       "SM-GE4R2_S062_E1-50               True              True  \n",
       "SM-GE4SI_S356_E1-50               True              True  \n",
       "SM-GE4SI_S172_E1-50               True              True  \n",
       "LS-15034_S07_E1-50                True              True  \n",
       "LS-15034_S28_E1-50                True              True  "
      ]
     },
     "execution_count": 55,
     "metadata": {},
     "output_type": "execute_result"
    }
   ],
   "source": [
    "meta = pd.read_csv(data_path+'/smartmetadata.csv',index_col = 0)\n",
    "meta.head()"
   ]
  },
  {
   "cell_type": "code",
   "execution_count": 56,
   "metadata": {
    "colab": {
     "base_uri": "https://localhost:8080/"
    },
    "id": "UDQbv9qAXJfg",
    "outputId": "54213457-be4d-446d-f54c-b244e426d3d2"
   },
   "outputs": [
    {
     "name": "stdout",
     "output_type": "stream",
     "text": [
      "7.406113537117904\n",
      "458\n"
     ]
    }
   ],
   "source": [
    "print(meta.sex_label.value_counts()[0]/meta.sex_label.value_counts()[1])\n",
    "print(meta.sex_label.value_counts()[1])"
   ]
  },
  {
   "cell_type": "code",
   "execution_count": 57,
   "metadata": {
    "id": "acze0V4LTZes"
   },
   "outputs": [],
   "source": [
    "lab1 = list(meta.smartseq_cluster)\n",
    "lab2 = list(meta.sex_label)\n",
    "lab3 = list(meta.medical_cond_label)\n",
    "\n",
    "\n",
    "allLabs = np.array([lab1,lab2])\n",
    "\n",
    "nanLabs = np.array([[np.nan]*len(lab1)])\n",
    "\n",
    "#Shuffled labels for over-fitting check\n",
    "shuff_lab1 = random.sample(lab1, len(lab1))  \n",
    "shuff_lab2 = random.sample(lab2, len(lab2))  \n",
    "shuff_allLabs = np.array([shuff_lab1,shuff_lab2])\n",
    "\n",
    "clus_colors = list(pd.unique(meta.smartseq_cluster_color))\n",
    "\n",
    "sex_colors = ['#abacb7','#F8C471']"
   ]
  },
  {
   "cell_type": "code",
   "execution_count": null,
   "metadata": {
    "id": "CtiGWRGpQkDQ"
   },
   "outputs": [],
   "source": []
  },
  {
   "cell_type": "code",
   "execution_count": null,
   "metadata": {},
   "outputs": [],
   "source": []
  },
  {
   "cell_type": "code",
   "execution_count": 58,
   "metadata": {
    "id": "jtT71OsMQkFw"
   },
   "outputs": [
    {
     "name": "stderr",
     "output_type": "stream",
     "text": [
      "/home/tchari/miniconda3/envs/py37/lib/python3.7/site-packages/sklearn/manifold/_t_sne.py:783: FutureWarning: The default initialization in TSNE will change from 'random' to 'pca' in 1.2.\n",
      "  FutureWarning,\n",
      "/home/tchari/miniconda3/envs/py37/lib/python3.7/site-packages/sklearn/manifold/_t_sne.py:793: FutureWarning: The default learning rate in TSNE will change from 200.0 to 'auto' in 1.2.\n",
      "  FutureWarning,\n",
      "/home/tchari/miniconda3/envs/py37/lib/python3.7/site-packages/sklearn/manifold/_t_sne.py:783: FutureWarning: The default initialization in TSNE will change from 'random' to 'pca' in 1.2.\n",
      "  FutureWarning,\n",
      "/home/tchari/miniconda3/envs/py37/lib/python3.7/site-packages/sklearn/manifold/_t_sne.py:793: FutureWarning: The default learning rate in TSNE will change from 200.0 to 'auto' in 1.2.\n",
      "  FutureWarning,\n",
      "/home/tchari/miniconda3/envs/py37/lib/python3.7/site-packages/sklearn/manifold/_t_sne.py:783: FutureWarning: The default initialization in TSNE will change from 'random' to 'pca' in 1.2.\n",
      "  FutureWarning,\n",
      "/home/tchari/miniconda3/envs/py37/lib/python3.7/site-packages/sklearn/manifold/_t_sne.py:793: FutureWarning: The default learning rate in TSNE will change from 200.0 to 'auto' in 1.2.\n",
      "  FutureWarning,\n",
      "/home/tchari/miniconda3/envs/py37/lib/python3.7/site-packages/sklearn/manifold/_t_sne.py:783: FutureWarning: The default initialization in TSNE will change from 'random' to 'pca' in 1.2.\n",
      "  FutureWarning,\n",
      "/home/tchari/miniconda3/envs/py37/lib/python3.7/site-packages/sklearn/manifold/_t_sne.py:793: FutureWarning: The default learning rate in TSNE will change from 200.0 to 'auto' in 1.2.\n",
      "  FutureWarning,\n",
      "/home/tchari/miniconda3/envs/py37/lib/python3.7/site-packages/sklearn/manifold/_t_sne.py:783: FutureWarning: The default initialization in TSNE will change from 'random' to 'pca' in 1.2.\n",
      "  FutureWarning,\n",
      "/home/tchari/miniconda3/envs/py37/lib/python3.7/site-packages/sklearn/manifold/_t_sne.py:793: FutureWarning: The default learning rate in TSNE will change from 200.0 to 'auto' in 1.2.\n",
      "  FutureWarning,\n",
      "/home/tchari/miniconda3/envs/py37/lib/python3.7/site-packages/sklearn/manifold/_t_sne.py:783: FutureWarning: The default initialization in TSNE will change from 'random' to 'pca' in 1.2.\n",
      "  FutureWarning,\n",
      "/home/tchari/miniconda3/envs/py37/lib/python3.7/site-packages/sklearn/manifold/_t_sne.py:793: FutureWarning: The default learning rate in TSNE will change from 200.0 to 'auto' in 1.2.\n",
      "  FutureWarning,\n",
      "/home/tchari/miniconda3/envs/py37/lib/python3.7/site-packages/sklearn/manifold/_t_sne.py:783: FutureWarning: The default initialization in TSNE will change from 'random' to 'pca' in 1.2.\n",
      "  FutureWarning,\n",
      "/home/tchari/miniconda3/envs/py37/lib/python3.7/site-packages/sklearn/manifold/_t_sne.py:793: FutureWarning: The default learning rate in TSNE will change from 200.0 to 'auto' in 1.2.\n",
      "  FutureWarning,\n",
      "/home/tchari/miniconda3/envs/py37/lib/python3.7/site-packages/sklearn/manifold/_t_sne.py:783: FutureWarning: The default initialization in TSNE will change from 'random' to 'pca' in 1.2.\n",
      "  FutureWarning,\n",
      "/home/tchari/miniconda3/envs/py37/lib/python3.7/site-packages/sklearn/manifold/_t_sne.py:793: FutureWarning: The default learning rate in TSNE will change from 200.0 to 'auto' in 1.2.\n",
      "  FutureWarning,\n",
      "/home/tchari/miniconda3/envs/py37/lib/python3.7/site-packages/sklearn/manifold/_t_sne.py:783: FutureWarning: The default initialization in TSNE will change from 'random' to 'pca' in 1.2.\n",
      "  FutureWarning,\n",
      "/home/tchari/miniconda3/envs/py37/lib/python3.7/site-packages/sklearn/manifold/_t_sne.py:793: FutureWarning: The default learning rate in TSNE will change from 200.0 to 'auto' in 1.2.\n",
      "  FutureWarning,\n",
      "/home/tchari/miniconda3/envs/py37/lib/python3.7/site-packages/sklearn/manifold/_t_sne.py:783: FutureWarning: The default initialization in TSNE will change from 'random' to 'pca' in 1.2.\n",
      "  FutureWarning,\n",
      "/home/tchari/miniconda3/envs/py37/lib/python3.7/site-packages/sklearn/manifold/_t_sne.py:793: FutureWarning: The default learning rate in TSNE will change from 200.0 to 'auto' in 1.2.\n",
      "  FutureWarning,\n",
      "/home/tchari/miniconda3/envs/py37/lib/python3.7/site-packages/sklearn/manifold/_t_sne.py:783: FutureWarning: The default initialization in TSNE will change from 'random' to 'pca' in 1.2.\n",
      "  FutureWarning,\n",
      "/home/tchari/miniconda3/envs/py37/lib/python3.7/site-packages/sklearn/manifold/_t_sne.py:793: FutureWarning: The default learning rate in TSNE will change from 200.0 to 'auto' in 1.2.\n",
      "  FutureWarning,\n",
      "/home/tchari/miniconda3/envs/py37/lib/python3.7/site-packages/sklearn/manifold/_t_sne.py:783: FutureWarning: The default initialization in TSNE will change from 'random' to 'pca' in 1.2.\n",
      "  FutureWarning,\n",
      "/home/tchari/miniconda3/envs/py37/lib/python3.7/site-packages/sklearn/manifold/_t_sne.py:793: FutureWarning: The default learning rate in TSNE will change from 200.0 to 'auto' in 1.2.\n",
      "  FutureWarning,\n"
     ]
    },
    {
     "name": "stdout",
     "output_type": "stream",
     "text": [
      "PCA 15D\n",
      "0.7106414082752117\n",
      "PCA 15D t-SNE\n",
      "0.7820017335550057\n",
      "PCA 15D UMAP\n",
      "0.7900949830130082\n",
      "PCA 50D\n",
      "0.6344504407147893\n",
      "PCA 50D t-SNE\n",
      "0.7297169403127267\n",
      "PCA 50D UMAP\n",
      "0.7492569497069389\n",
      "PCA 100D\n",
      "0.6393889161300619\n",
      "PCA 100D t-SNE\n",
      "0.7220330068359369\n",
      "PCA 100D UMAP\n",
      "0.7465526670459457\n",
      "PCA 2D\n",
      "0.9455165878866275\n",
      "t-SNE 2D\n",
      "0.7851379334263499\n",
      "UMAP 2D\n",
      "0.8116823701732382\n",
      "PCA 15D\n",
      "0.7105120377878659\n",
      "PCA 15D t-SNE\n",
      "0.7814244105061523\n",
      "PCA 15D UMAP\n",
      "0.7926207612251794\n",
      "PCA 50D\n",
      "0.6349559772905675\n",
      "PCA 50D t-SNE\n",
      "0.7312486157865523\n",
      "PCA 50D UMAP\n",
      "0.7496216313562678\n",
      "PCA 100D\n",
      "0.6396839276591281\n",
      "PCA 100D t-SNE\n",
      "0.7204469782481006\n",
      "PCA 100D UMAP\n",
      "0.7453288903766664\n",
      "PCA 2D\n",
      "0.9455115280114378\n",
      "t-SNE 2D\n",
      "0.7838682338050421\n",
      "UMAP 2D\n",
      "0.8112493679602192\n",
      "PCA 15D\n",
      "0.71022426656265\n",
      "PCA 15D t-SNE\n",
      "0.7799327771782684\n",
      "PCA 15D UMAP\n",
      "0.7954650677219967\n",
      "PCA 50D\n",
      "0.6331902273000419\n",
      "PCA 50D t-SNE\n",
      "0.7293770308770591\n",
      "PCA 50D UMAP\n",
      "0.7478241666748191\n",
      "PCA 100D\n",
      "0.639727155539877\n",
      "PCA 100D t-SNE\n",
      "0.720123918697237\n",
      "PCA 100D UMAP\n",
      "0.7451983166295728\n",
      "PCA 2D\n",
      "0.9455160821948346\n",
      "t-SNE 2D\n",
      "0.7848796050392435\n",
      "UMAP 2D\n",
      "0.8121228404826932\n",
      "          x   latent\n",
      "0  0.800000  PCA 15D\n",
      "1  0.846154  PCA 15D\n",
      "2  0.800000  PCA 15D\n",
      "3  0.775510  PCA 15D\n",
      "4  0.823529  PCA 15D\n"
     ]
    },
    {
     "name": "stderr",
     "output_type": "stream",
     "text": [
      "/home/tchari/miniconda3/envs/py37/lib/python3.7/site-packages/sklearn/manifold/_t_sne.py:783: FutureWarning: The default initialization in TSNE will change from 'random' to 'pca' in 1.2.\n",
      "  FutureWarning,\n",
      "/home/tchari/miniconda3/envs/py37/lib/python3.7/site-packages/sklearn/manifold/_t_sne.py:793: FutureWarning: The default learning rate in TSNE will change from 200.0 to 'auto' in 1.2.\n",
      "  FutureWarning,\n"
     ]
    },
    {
     "name": "stdout",
     "output_type": "stream",
     "text": [
      "PCA 15D t-SNE\n",
      "0.6010135239488161\n",
      "PCA 15D UMAP\n",
      "0.645950311118086\n"
     ]
    },
    {
     "name": "stderr",
     "output_type": "stream",
     "text": [
      "/home/tchari/miniconda3/envs/py37/lib/python3.7/site-packages/sklearn/manifold/_t_sne.py:783: FutureWarning: The default initialization in TSNE will change from 'random' to 'pca' in 1.2.\n",
      "  FutureWarning,\n",
      "/home/tchari/miniconda3/envs/py37/lib/python3.7/site-packages/sklearn/manifold/_t_sne.py:793: FutureWarning: The default learning rate in TSNE will change from 200.0 to 'auto' in 1.2.\n",
      "  FutureWarning,\n"
     ]
    },
    {
     "name": "stdout",
     "output_type": "stream",
     "text": [
      "PCA 15D t-SNE\n",
      "0.6010135239488161\n",
      "PCA 15D UMAP\n",
      "0.645950311118086\n",
      "PCA 15D t-SNE\n",
      "0.5995727736258988\n",
      "PCA 15D UMAP\n",
      "0.6438273003095718\n"
     ]
    },
    {
     "name": "stderr",
     "output_type": "stream",
     "text": [
      "/home/tchari/miniconda3/envs/py37/lib/python3.7/site-packages/sklearn/manifold/_t_sne.py:783: FutureWarning: The default initialization in TSNE will change from 'random' to 'pca' in 1.2.\n",
      "  FutureWarning,\n",
      "/home/tchari/miniconda3/envs/py37/lib/python3.7/site-packages/sklearn/manifold/_t_sne.py:793: FutureWarning: The default learning rate in TSNE will change from 200.0 to 'auto' in 1.2.\n",
      "  FutureWarning,\n"
     ]
    },
    {
     "name": "stdout",
     "output_type": "stream",
     "text": [
      "PCA 15D t-SNE\n",
      "0.6010135239488161\n",
      "PCA 15D UMAP\n",
      "0.645950311118086\n",
      "PCA 15D t-SNE\n",
      "0.5995727736258988\n",
      "PCA 15D UMAP\n",
      "0.6438273003095718\n",
      "PCA 15D t-SNE\n",
      "0.6003662228098546\n",
      "PCA 15D UMAP\n",
      "0.6442915843911601\n"
     ]
    },
    {
     "name": "stderr",
     "output_type": "stream",
     "text": [
      "/home/tchari/miniconda3/envs/py37/lib/python3.7/site-packages/sklearn/manifold/_t_sne.py:783: FutureWarning: The default initialization in TSNE will change from 'random' to 'pca' in 1.2.\n",
      "  FutureWarning,\n",
      "/home/tchari/miniconda3/envs/py37/lib/python3.7/site-packages/sklearn/manifold/_t_sne.py:793: FutureWarning: The default learning rate in TSNE will change from 200.0 to 'auto' in 1.2.\n",
      "  FutureWarning,\n"
     ]
    },
    {
     "name": "stdout",
     "output_type": "stream",
     "text": [
      "PCA 15D t-SNE\n",
      "0.681434977977709\n",
      "PCA 15D UMAP\n",
      "0.7110367118223919\n",
      "PCA 15D t-SNE\n",
      "0.6798059051707369\n",
      "PCA 15D UMAP\n",
      "0.7084306427314111\n",
      "PCA 15D t-SNE\n",
      "0.6809787248523549\n",
      "PCA 15D UMAP\n",
      "0.7078421096417103\n",
      "PCA 50D t-SNE\n",
      "0.6196293654430574\n",
      "PCA 50D UMAP\n",
      "0.668196675713666\n"
     ]
    },
    {
     "name": "stderr",
     "output_type": "stream",
     "text": [
      "/home/tchari/miniconda3/envs/py37/lib/python3.7/site-packages/sklearn/manifold/_t_sne.py:783: FutureWarning: The default initialization in TSNE will change from 'random' to 'pca' in 1.2.\n",
      "  FutureWarning,\n",
      "/home/tchari/miniconda3/envs/py37/lib/python3.7/site-packages/sklearn/manifold/_t_sne.py:793: FutureWarning: The default learning rate in TSNE will change from 200.0 to 'auto' in 1.2.\n",
      "  FutureWarning,\n"
     ]
    },
    {
     "name": "stdout",
     "output_type": "stream",
     "text": [
      "PCA 15D t-SNE\n",
      "0.681434977977709\n",
      "PCA 15D UMAP\n",
      "0.7110367118223919\n",
      "PCA 15D t-SNE\n",
      "0.6798059051707369\n",
      "PCA 15D UMAP\n",
      "0.7084306427314111\n",
      "PCA 15D t-SNE\n",
      "0.6809787248523549\n",
      "PCA 15D UMAP\n",
      "0.7078421096417103\n",
      "PCA 50D t-SNE\n",
      "0.6196293654430574\n",
      "PCA 50D UMAP\n",
      "0.668196675713666\n",
      "PCA 50D t-SNE\n",
      "0.6201540027969967\n",
      "PCA 50D UMAP\n",
      "0.6679924918840704\n"
     ]
    },
    {
     "name": "stderr",
     "output_type": "stream",
     "text": [
      "/home/tchari/miniconda3/envs/py37/lib/python3.7/site-packages/sklearn/manifold/_t_sne.py:783: FutureWarning: The default initialization in TSNE will change from 'random' to 'pca' in 1.2.\n",
      "  FutureWarning,\n",
      "/home/tchari/miniconda3/envs/py37/lib/python3.7/site-packages/sklearn/manifold/_t_sne.py:793: FutureWarning: The default learning rate in TSNE will change from 200.0 to 'auto' in 1.2.\n",
      "  FutureWarning,\n"
     ]
    },
    {
     "name": "stdout",
     "output_type": "stream",
     "text": [
      "PCA 15D t-SNE\n",
      "0.681434977977709\n",
      "PCA 15D UMAP\n",
      "0.7110367118223919\n",
      "PCA 15D t-SNE\n",
      "0.6798059051707369\n",
      "PCA 15D UMAP\n",
      "0.7084306427314111\n",
      "PCA 15D t-SNE\n",
      "0.6809787248523549\n",
      "PCA 15D UMAP\n",
      "0.7078421096417103\n",
      "PCA 50D t-SNE\n",
      "0.6196293654430574\n",
      "PCA 50D UMAP\n",
      "0.668196675713666\n",
      "PCA 50D t-SNE\n",
      "0.6201540027969967\n",
      "PCA 50D UMAP\n",
      "0.6679924918840704\n",
      "PCA 50D t-SNE\n",
      "0.6195963728936686\n",
      "PCA 50D UMAP\n",
      "0.6709836497854764\n"
     ]
    },
    {
     "name": "stderr",
     "output_type": "stream",
     "text": [
      "/home/tchari/miniconda3/envs/py37/lib/python3.7/site-packages/sklearn/manifold/_t_sne.py:783: FutureWarning: The default initialization in TSNE will change from 'random' to 'pca' in 1.2.\n",
      "  FutureWarning,\n",
      "/home/tchari/miniconda3/envs/py37/lib/python3.7/site-packages/sklearn/manifold/_t_sne.py:793: FutureWarning: The default learning rate in TSNE will change from 200.0 to 'auto' in 1.2.\n",
      "  FutureWarning,\n"
     ]
    },
    {
     "name": "stdout",
     "output_type": "stream",
     "text": [
      "PCA 15D t-SNE\n",
      "0.7297021799475937\n",
      "PCA 15D UMAP\n",
      "0.7507176353841314\n",
      "PCA 15D t-SNE\n",
      "0.727324856181913\n",
      "PCA 15D UMAP\n",
      "0.7490351830034727\n",
      "PCA 15D t-SNE\n",
      "0.7287866233897996\n",
      "PCA 15D UMAP\n",
      "0.7483987756288996\n",
      "PCA 50D t-SNE\n",
      "0.6711856386712907\n",
      "PCA 50D UMAP\n",
      "0.7097299863521483\n",
      "PCA 50D t-SNE\n",
      "0.6712996409354401\n",
      "PCA 50D UMAP\n",
      "0.7094904468807723\n",
      "PCA 50D t-SNE\n",
      "0.6709946040912788\n",
      "PCA 50D UMAP\n",
      "0.7120095112977144\n",
      "PCA 100D t-SNE\n",
      "0.6635395471032832\n",
      "PCA 100D UMAP\n",
      "0.7110720667773516\n"
     ]
    },
    {
     "name": "stderr",
     "output_type": "stream",
     "text": [
      "/home/tchari/miniconda3/envs/py37/lib/python3.7/site-packages/sklearn/manifold/_t_sne.py:783: FutureWarning: The default initialization in TSNE will change from 'random' to 'pca' in 1.2.\n",
      "  FutureWarning,\n",
      "/home/tchari/miniconda3/envs/py37/lib/python3.7/site-packages/sklearn/manifold/_t_sne.py:793: FutureWarning: The default learning rate in TSNE will change from 200.0 to 'auto' in 1.2.\n",
      "  FutureWarning,\n"
     ]
    },
    {
     "name": "stdout",
     "output_type": "stream",
     "text": [
      "PCA 15D t-SNE\n",
      "0.7297021799475937\n",
      "PCA 15D UMAP\n",
      "0.7507176353841314\n",
      "PCA 15D t-SNE\n",
      "0.727324856181913\n",
      "PCA 15D UMAP\n",
      "0.7490351830034727\n",
      "PCA 15D t-SNE\n",
      "0.7287866233897996\n",
      "PCA 15D UMAP\n",
      "0.7483987756288996\n",
      "PCA 50D t-SNE\n",
      "0.6711856386712907\n",
      "PCA 50D UMAP\n",
      "0.7097299863521483\n",
      "PCA 50D t-SNE\n",
      "0.6712996409354401\n",
      "PCA 50D UMAP\n",
      "0.7094904468807723\n",
      "PCA 50D t-SNE\n",
      "0.6709946040912788\n",
      "PCA 50D UMAP\n",
      "0.7120095112977144\n",
      "PCA 100D t-SNE\n",
      "0.6635395471032832\n",
      "PCA 100D UMAP\n",
      "0.7110720667773516\n",
      "PCA 100D t-SNE\n",
      "0.6645854816271022\n",
      "PCA 100D UMAP\n",
      "0.7100312555801384\n"
     ]
    },
    {
     "name": "stderr",
     "output_type": "stream",
     "text": [
      "/home/tchari/miniconda3/envs/py37/lib/python3.7/site-packages/sklearn/manifold/_t_sne.py:783: FutureWarning: The default initialization in TSNE will change from 'random' to 'pca' in 1.2.\n",
      "  FutureWarning,\n",
      "/home/tchari/miniconda3/envs/py37/lib/python3.7/site-packages/sklearn/manifold/_t_sne.py:793: FutureWarning: The default learning rate in TSNE will change from 200.0 to 'auto' in 1.2.\n",
      "  FutureWarning,\n"
     ]
    },
    {
     "name": "stdout",
     "output_type": "stream",
     "text": [
      "PCA 15D t-SNE\n",
      "0.7297021799475937\n",
      "PCA 15D UMAP\n",
      "0.7507176353841314\n",
      "PCA 15D t-SNE\n",
      "0.727324856181913\n",
      "PCA 15D UMAP\n",
      "0.7490351830034727\n",
      "PCA 15D t-SNE\n",
      "0.7287866233897996\n",
      "PCA 15D UMAP\n",
      "0.7483987756288996\n",
      "PCA 50D t-SNE\n",
      "0.6711856386712907\n",
      "PCA 50D UMAP\n",
      "0.7097299863521483\n",
      "PCA 50D t-SNE\n",
      "0.6712996409354401\n",
      "PCA 50D UMAP\n",
      "0.7094904468807723\n",
      "PCA 50D t-SNE\n",
      "0.6709946040912788\n",
      "PCA 50D UMAP\n",
      "0.7120095112977144\n",
      "PCA 100D t-SNE\n",
      "0.6635395471032832\n",
      "PCA 100D UMAP\n",
      "0.7110720667773516\n",
      "PCA 100D t-SNE\n",
      "0.6645854816271022\n",
      "PCA 100D UMAP\n",
      "0.7100312555801384\n",
      "PCA 100D t-SNE\n",
      "0.6638357719363355\n",
      "PCA 100D UMAP\n",
      "0.711839310556496\n",
      "          x         latent\n",
      "0  0.775510  PCA 15D t-SNE\n",
      "1  0.636364  PCA 15D t-SNE\n",
      "2  0.604651  PCA 15D t-SNE\n",
      "3  0.695652  PCA 15D t-SNE\n",
      "4  0.750000  PCA 15D t-SNE\n"
     ]
    }
   ],
   "source": [
    "#Get KNN Jaccard distances\n",
    "smartAmb = latentComp(scaled_mat,count_mat, ndims=2, pcs=[15,50,100], rounds = 3,set_p=2)\n",
    "print(smartAmb.head())\n",
    "smartPCAAmb = latentPCAComp(scaled_mat, ndims=2, pcs=[15,50,100], rounds = 3,set_p=2)\n",
    "print(smartPCAAmb.head())"
   ]
  },
  {
   "cell_type": "code",
   "execution_count": 59,
   "metadata": {},
   "outputs": [],
   "source": [
    "smartPCAAmb.to_csv('allOuts/smartPCAAmb.csv')\n",
    "smartAmb.to_csv('allOuts/smartAmb.csv')\n"
   ]
  },
  {
   "cell_type": "markdown",
   "metadata": {
    "id": "K_oDzPS6QrNW"
   },
   "source": [
    "**Read in MERFISH Data**"
   ]
  },
  {
   "cell_type": "code",
   "execution_count": 60,
   "metadata": {
    "colab": {
     "base_uri": "https://localhost:8080/"
    },
    "id": "vIFNIqgjYGlo",
    "outputId": "86808507-5f41-43e9-d2c8-6529ce475000"
   },
   "outputs": [
    {
     "name": "stdout",
     "output_type": "stream",
     "text": [
      "AnnData object with n_obs × n_vars = 280327 × 254\n",
      "     Unnamed: 0  fovID     fov_x     fov_y       volume     center_x  \\\n",
      "0  1.000010e+37     13  4539.310  2986.899   992.830060  4738.397298   \n",
      "1  1.000020e+38    290 -4016.860  1404.780   610.091871 -3964.711404   \n",
      "2  1.000070e+38    113   750.406  1143.102   148.277718   805.843523   \n",
      "3  1.000070e+38    432  1262.680 -3752.030   249.515471  1348.686198   \n",
      "4  1.000090e+38    354 -3627.450 -1987.730  1779.831996 -3584.650904   \n",
      "\n",
      "      center_y         slice_id         sample_id     label     subclass  \\\n",
      "0  3075.327399   mouse2_slice31  dataset2_sample4   Astro_1   Astrocytes   \n",
      "1  1451.889047  mouse2_slice160  dataset2_sample5      Endo  Endothelial   \n",
      "2  1215.035473  mouse2_slice109  dataset2_sample6       SMC          SMC   \n",
      "3 -3589.955255   mouse1_slice71  dataset1_sample2      Endo  Endothelial   \n",
      "4 -1883.105955  mouse2_slice219  dataset2_sample5  L23_IT_3       L23_IT   \n",
      "\n",
      "     class_label  \n",
      "0          Other  \n",
      "1          Other  \n",
      "2          Other  \n",
      "3          Other  \n",
      "4  Glutamatergic  \n"
     ]
    }
   ],
   "source": [
    "counts = anndata.read(data_path+'/counts.h5ad')\n",
    "print(counts)\n",
    "\n",
    "cellMeta = pd.read_csv(data_path+'/metadata.csv')\n",
    "print(cellMeta.head())"
   ]
  },
  {
   "cell_type": "code",
   "execution_count": 61,
   "metadata": {
    "colab": {
     "base_uri": "https://localhost:8080/"
    },
    "id": "PiE-MLBPe99h",
    "outputId": "91755c01-7af5-4265-9184-7c6252301356"
   },
   "outputs": [
    {
     "data": {
      "text/plain": [
       "Index(['Unnamed: 0', 'fovID', 'fov_x', 'fov_y', 'volume', 'center_x',\n",
       "       'center_y', 'slice_id', 'sample_id', 'label', 'subclass',\n",
       "       'class_label'],\n",
       "      dtype='object')"
      ]
     },
     "execution_count": 61,
     "metadata": {},
     "output_type": "execute_result"
    }
   ],
   "source": [
    "cellMeta.columns"
   ]
  },
  {
   "cell_type": "code",
   "execution_count": 62,
   "metadata": {
    "colab": {
     "base_uri": "https://localhost:8080/",
     "height": 35
    },
    "id": "Bpjx6SNMY_JE",
    "outputId": "71a4b3ba-60cc-47ac-ac72-5a6773d42abc"
   },
   "outputs": [
    {
     "data": {
      "text/plain": [
       "'mouse1_slice162'"
      ]
     },
     "execution_count": 62,
     "metadata": {},
     "output_type": "execute_result"
    }
   ],
   "source": [
    "choice = np.unique(cellMeta.slice_id)[7] #7\n",
    "choice"
   ]
  },
  {
   "cell_type": "code",
   "execution_count": 63,
   "metadata": {
    "id": "8_nNHSLjY_sT"
   },
   "outputs": [],
   "source": [
    "counts.obs['slice'] = pd.Categorical(cellMeta.slice_id)\n",
    "counts.obs['type'] = pd.Categorical(cellMeta.subclass)\n",
    "counts.obs['x'] = list(cellMeta.center_x)\n",
    "counts.obs['y'] = list(cellMeta.center_y)\n"
   ]
  },
  {
   "cell_type": "code",
   "execution_count": 64,
   "metadata": {
    "colab": {
     "base_uri": "https://localhost:8080/"
    },
    "id": "_EiPasMqfDlF",
    "outputId": "db6b4a18-1894-4a2b-954b-55a47c7aa148"
   },
   "outputs": [
    {
     "name": "stdout",
     "output_type": "stream",
     "text": [
      "View of AnnData object with n_obs × n_vars = 6963 × 254\n",
      "    obs: 'slice', 'type', 'x', 'y'\n"
     ]
    }
   ],
   "source": [
    "sub = counts[counts.obs['slice'].isin([choice])]\n",
    "print(sub)\n",
    "\n",
    "colors = np.random.rand(len(sub.obs['type']),3)\n",
    "nanLabs = np.array([[np.nan]*len(sub.obs['type'])])\n",
    "\n",
    "labs = np.array([list(sub.obs['type'])])\n",
    "labs_cont = np.array([list(sub.obs['x']),list(sub.obs['y'])])"
   ]
  },
  {
   "cell_type": "markdown",
   "metadata": {
    "id": "rLbg_eYQa8pm"
   },
   "source": [
    "Make log-normalized, and scaled count matrices (separately)"
   ]
  },
  {
   "cell_type": "code",
   "execution_count": 65,
   "metadata": {
    "id": "2utjpJoWfRfx"
   },
   "outputs": [],
   "source": [
    "orig_mat = sub.X"
   ]
  },
  {
   "cell_type": "code",
   "execution_count": 66,
   "metadata": {
    "id": "rtRbRvW8fUXk"
   },
   "outputs": [],
   "source": [
    "log_mat = np.log1p(sub.X)"
   ]
  },
  {
   "cell_type": "code",
   "execution_count": 67,
   "metadata": {
    "colab": {
     "base_uri": "https://localhost:8080/"
    },
    "id": "faGWyj6Xga1-",
    "outputId": "4fc4f05f-4c36-47dc-93b4-88a223bc81d3"
   },
   "outputs": [
    {
     "name": "stderr",
     "output_type": "stream",
     "text": [
      "/home/tchari/miniconda3/envs/py37/lib/python3.7/site-packages/scanpy/preprocessing/_simple.py:339: UserWarning: Revieved a view of an AnnData. Making a copy.\n",
      "  view_to_actual(adata)\n"
     ]
    }
   ],
   "source": [
    "sc.pp.log1p(sub)\n",
    "\n",
    "#Center scale\n",
    "sc.pp.scale(sub, max_value=10)\n",
    "\n",
    "scaled_mat = sub.X"
   ]
  },
  {
   "cell_type": "code",
   "execution_count": null,
   "metadata": {
    "id": "zOJNtNj5QtLa"
   },
   "outputs": [],
   "source": []
  },
  {
   "cell_type": "code",
   "execution_count": 68,
   "metadata": {
    "id": "s9kZl0AHQtOK"
   },
   "outputs": [
    {
     "name": "stderr",
     "output_type": "stream",
     "text": [
      "/home/tchari/miniconda3/envs/py37/lib/python3.7/site-packages/sklearn/manifold/_t_sne.py:783: FutureWarning: The default initialization in TSNE will change from 'random' to 'pca' in 1.2.\n",
      "  FutureWarning,\n",
      "/home/tchari/miniconda3/envs/py37/lib/python3.7/site-packages/sklearn/manifold/_t_sne.py:793: FutureWarning: The default learning rate in TSNE will change from 200.0 to 'auto' in 1.2.\n",
      "  FutureWarning,\n",
      "/home/tchari/miniconda3/envs/py37/lib/python3.7/site-packages/sklearn/manifold/_t_sne.py:783: FutureWarning: The default initialization in TSNE will change from 'random' to 'pca' in 1.2.\n",
      "  FutureWarning,\n",
      "/home/tchari/miniconda3/envs/py37/lib/python3.7/site-packages/sklearn/manifold/_t_sne.py:793: FutureWarning: The default learning rate in TSNE will change from 200.0 to 'auto' in 1.2.\n",
      "  FutureWarning,\n",
      "/home/tchari/miniconda3/envs/py37/lib/python3.7/site-packages/sklearn/manifold/_t_sne.py:783: FutureWarning: The default initialization in TSNE will change from 'random' to 'pca' in 1.2.\n",
      "  FutureWarning,\n",
      "/home/tchari/miniconda3/envs/py37/lib/python3.7/site-packages/sklearn/manifold/_t_sne.py:793: FutureWarning: The default learning rate in TSNE will change from 200.0 to 'auto' in 1.2.\n",
      "  FutureWarning,\n",
      "/home/tchari/miniconda3/envs/py37/lib/python3.7/site-packages/sklearn/manifold/_t_sne.py:783: FutureWarning: The default initialization in TSNE will change from 'random' to 'pca' in 1.2.\n",
      "  FutureWarning,\n",
      "/home/tchari/miniconda3/envs/py37/lib/python3.7/site-packages/sklearn/manifold/_t_sne.py:793: FutureWarning: The default learning rate in TSNE will change from 200.0 to 'auto' in 1.2.\n",
      "  FutureWarning,\n",
      "/home/tchari/miniconda3/envs/py37/lib/python3.7/site-packages/sklearn/manifold/_t_sne.py:783: FutureWarning: The default initialization in TSNE will change from 'random' to 'pca' in 1.2.\n",
      "  FutureWarning,\n",
      "/home/tchari/miniconda3/envs/py37/lib/python3.7/site-packages/sklearn/manifold/_t_sne.py:793: FutureWarning: The default learning rate in TSNE will change from 200.0 to 'auto' in 1.2.\n",
      "  FutureWarning,\n",
      "/home/tchari/miniconda3/envs/py37/lib/python3.7/site-packages/sklearn/manifold/_t_sne.py:783: FutureWarning: The default initialization in TSNE will change from 'random' to 'pca' in 1.2.\n",
      "  FutureWarning,\n",
      "/home/tchari/miniconda3/envs/py37/lib/python3.7/site-packages/sklearn/manifold/_t_sne.py:793: FutureWarning: The default learning rate in TSNE will change from 200.0 to 'auto' in 1.2.\n",
      "  FutureWarning,\n",
      "/home/tchari/miniconda3/envs/py37/lib/python3.7/site-packages/sklearn/manifold/_t_sne.py:783: FutureWarning: The default initialization in TSNE will change from 'random' to 'pca' in 1.2.\n",
      "  FutureWarning,\n",
      "/home/tchari/miniconda3/envs/py37/lib/python3.7/site-packages/sklearn/manifold/_t_sne.py:793: FutureWarning: The default learning rate in TSNE will change from 200.0 to 'auto' in 1.2.\n",
      "  FutureWarning,\n",
      "/home/tchari/miniconda3/envs/py37/lib/python3.7/site-packages/sklearn/manifold/_t_sne.py:783: FutureWarning: The default initialization in TSNE will change from 'random' to 'pca' in 1.2.\n",
      "  FutureWarning,\n",
      "/home/tchari/miniconda3/envs/py37/lib/python3.7/site-packages/sklearn/manifold/_t_sne.py:793: FutureWarning: The default learning rate in TSNE will change from 200.0 to 'auto' in 1.2.\n",
      "  FutureWarning,\n",
      "/home/tchari/miniconda3/envs/py37/lib/python3.7/site-packages/sklearn/manifold/_t_sne.py:783: FutureWarning: The default initialization in TSNE will change from 'random' to 'pca' in 1.2.\n",
      "  FutureWarning,\n",
      "/home/tchari/miniconda3/envs/py37/lib/python3.7/site-packages/sklearn/manifold/_t_sne.py:793: FutureWarning: The default learning rate in TSNE will change from 200.0 to 'auto' in 1.2.\n",
      "  FutureWarning,\n",
      "/home/tchari/miniconda3/envs/py37/lib/python3.7/site-packages/sklearn/manifold/_t_sne.py:783: FutureWarning: The default initialization in TSNE will change from 'random' to 'pca' in 1.2.\n",
      "  FutureWarning,\n",
      "/home/tchari/miniconda3/envs/py37/lib/python3.7/site-packages/sklearn/manifold/_t_sne.py:793: FutureWarning: The default learning rate in TSNE will change from 200.0 to 'auto' in 1.2.\n",
      "  FutureWarning,\n",
      "/home/tchari/miniconda3/envs/py37/lib/python3.7/site-packages/sklearn/manifold/_t_sne.py:783: FutureWarning: The default initialization in TSNE will change from 'random' to 'pca' in 1.2.\n",
      "  FutureWarning,\n",
      "/home/tchari/miniconda3/envs/py37/lib/python3.7/site-packages/sklearn/manifold/_t_sne.py:793: FutureWarning: The default learning rate in TSNE will change from 200.0 to 'auto' in 1.2.\n",
      "  FutureWarning,\n",
      "/home/tchari/miniconda3/envs/py37/lib/python3.7/site-packages/sklearn/manifold/_t_sne.py:783: FutureWarning: The default initialization in TSNE will change from 'random' to 'pca' in 1.2.\n",
      "  FutureWarning,\n",
      "/home/tchari/miniconda3/envs/py37/lib/python3.7/site-packages/sklearn/manifold/_t_sne.py:793: FutureWarning: The default learning rate in TSNE will change from 200.0 to 'auto' in 1.2.\n",
      "  FutureWarning,\n"
     ]
    },
    {
     "name": "stdout",
     "output_type": "stream",
     "text": [
      "PCA 15D\n",
      "0.7497940377239027\n",
      "PCA 15D t-SNE\n",
      "0.8142764182146578\n",
      "PCA 15D UMAP\n",
      "0.8320177584888095\n",
      "PCA 50D\n",
      "0.6867214554430645\n",
      "PCA 50D t-SNE\n",
      "0.7848947486167662\n",
      "PCA 50D UMAP\n",
      "0.8098983488818902\n",
      "PCA 100D\n",
      "0.71672642026935\n",
      "PCA 100D t-SNE\n",
      "0.790830559409561\n",
      "PCA 100D UMAP\n",
      "0.8175481595665884\n",
      "PCA 2D\n",
      "0.947151728555187\n",
      "t-SNE 2D\n",
      "0.7678065017093937\n",
      "UMAP 2D\n",
      "0.806353689478992\n",
      "PCA 15D\n",
      "0.7492666710206867\n",
      "PCA 15D t-SNE\n",
      "0.8134151359792472\n",
      "PCA 15D UMAP\n",
      "0.8326843383723533\n",
      "PCA 50D\n",
      "0.6889168629655156\n",
      "PCA 50D t-SNE\n",
      "0.7855614616174974\n",
      "PCA 50D UMAP\n",
      "0.8103040965361805\n",
      "PCA 100D\n",
      "0.7169823683970555\n",
      "PCA 100D t-SNE\n",
      "0.7885686247470586\n",
      "PCA 100D UMAP\n",
      "0.8171617089595379\n",
      "PCA 2D\n",
      "0.9471513289311235\n",
      "t-SNE 2D\n",
      "0.7679360969426738\n",
      "UMAP 2D\n",
      "0.8081593833413856\n",
      "PCA 15D\n",
      "0.7497289066155448\n",
      "PCA 15D t-SNE\n",
      "0.8136596120220213\n",
      "PCA 15D UMAP\n",
      "0.833832941237358\n",
      "PCA 50D\n",
      "0.6874206156247019\n",
      "PCA 50D t-SNE\n",
      "0.7846257434559382\n",
      "PCA 50D UMAP\n",
      "0.8101403898877241\n",
      "PCA 100D\n",
      "0.7161609810876144\n",
      "PCA 100D t-SNE\n",
      "0.7886101190221568\n",
      "PCA 100D UMAP\n",
      "0.8145018160482275\n",
      "PCA 2D\n",
      "0.9471457651534045\n",
      "t-SNE 2D\n",
      "0.7670302448498042\n",
      "UMAP 2D\n",
      "0.8068450242812989\n",
      "          x   latent\n",
      "0  0.695652  PCA 15D\n",
      "1  0.636364  PCA 15D\n",
      "2  0.666667  PCA 15D\n",
      "3  0.750000  PCA 15D\n",
      "4  0.750000  PCA 15D\n"
     ]
    },
    {
     "name": "stderr",
     "output_type": "stream",
     "text": [
      "/home/tchari/miniconda3/envs/py37/lib/python3.7/site-packages/sklearn/manifold/_t_sne.py:783: FutureWarning: The default initialization in TSNE will change from 'random' to 'pca' in 1.2.\n",
      "  FutureWarning,\n",
      "/home/tchari/miniconda3/envs/py37/lib/python3.7/site-packages/sklearn/manifold/_t_sne.py:793: FutureWarning: The default learning rate in TSNE will change from 200.0 to 'auto' in 1.2.\n",
      "  FutureWarning,\n"
     ]
    },
    {
     "name": "stdout",
     "output_type": "stream",
     "text": [
      "PCA 15D t-SNE\n",
      "0.627758291815393\n",
      "PCA 15D UMAP\n",
      "0.6800395376861319\n"
     ]
    },
    {
     "name": "stderr",
     "output_type": "stream",
     "text": [
      "/home/tchari/miniconda3/envs/py37/lib/python3.7/site-packages/sklearn/manifold/_t_sne.py:783: FutureWarning: The default initialization in TSNE will change from 'random' to 'pca' in 1.2.\n",
      "  FutureWarning,\n",
      "/home/tchari/miniconda3/envs/py37/lib/python3.7/site-packages/sklearn/manifold/_t_sne.py:793: FutureWarning: The default learning rate in TSNE will change from 200.0 to 'auto' in 1.2.\n",
      "  FutureWarning,\n"
     ]
    },
    {
     "name": "stdout",
     "output_type": "stream",
     "text": [
      "PCA 15D t-SNE\n",
      "0.627758291815393\n",
      "PCA 15D UMAP\n",
      "0.6800395376861319\n",
      "PCA 15D t-SNE\n",
      "0.6276779060636928\n",
      "PCA 15D UMAP\n",
      "0.6806989467637732\n"
     ]
    },
    {
     "name": "stderr",
     "output_type": "stream",
     "text": [
      "/home/tchari/miniconda3/envs/py37/lib/python3.7/site-packages/sklearn/manifold/_t_sne.py:783: FutureWarning: The default initialization in TSNE will change from 'random' to 'pca' in 1.2.\n",
      "  FutureWarning,\n",
      "/home/tchari/miniconda3/envs/py37/lib/python3.7/site-packages/sklearn/manifold/_t_sne.py:793: FutureWarning: The default learning rate in TSNE will change from 200.0 to 'auto' in 1.2.\n",
      "  FutureWarning,\n"
     ]
    },
    {
     "name": "stdout",
     "output_type": "stream",
     "text": [
      "PCA 15D t-SNE\n",
      "0.627758291815393\n",
      "PCA 15D UMAP\n",
      "0.6800395376861319\n",
      "PCA 15D t-SNE\n",
      "0.6276779060636928\n",
      "PCA 15D UMAP\n",
      "0.6806989467637732\n",
      "PCA 15D t-SNE\n",
      "0.6297854013549983\n",
      "PCA 15D UMAP\n",
      "0.6803878813282631\n"
     ]
    },
    {
     "name": "stderr",
     "output_type": "stream",
     "text": [
      "/home/tchari/miniconda3/envs/py37/lib/python3.7/site-packages/sklearn/manifold/_t_sne.py:783: FutureWarning: The default initialization in TSNE will change from 'random' to 'pca' in 1.2.\n",
      "  FutureWarning,\n",
      "/home/tchari/miniconda3/envs/py37/lib/python3.7/site-packages/sklearn/manifold/_t_sne.py:793: FutureWarning: The default learning rate in TSNE will change from 200.0 to 'auto' in 1.2.\n",
      "  FutureWarning,\n"
     ]
    },
    {
     "name": "stdout",
     "output_type": "stream",
     "text": [
      "PCA 15D t-SNE\n",
      "0.7754258961952771\n",
      "PCA 15D UMAP\n",
      "0.7981880908300049\n",
      "PCA 15D t-SNE\n",
      "0.7750615373211508\n",
      "PCA 15D UMAP\n",
      "0.7979847451824408\n",
      "PCA 15D t-SNE\n",
      "0.7762337417843801\n",
      "PCA 15D UMAP\n",
      "0.7977408522916918\n",
      "PCA 50D t-SNE\n",
      "0.7089615531934077\n",
      "PCA 50D UMAP\n",
      "0.7636835282024774\n"
     ]
    },
    {
     "name": "stderr",
     "output_type": "stream",
     "text": [
      "/home/tchari/miniconda3/envs/py37/lib/python3.7/site-packages/sklearn/manifold/_t_sne.py:783: FutureWarning: The default initialization in TSNE will change from 'random' to 'pca' in 1.2.\n",
      "  FutureWarning,\n",
      "/home/tchari/miniconda3/envs/py37/lib/python3.7/site-packages/sklearn/manifold/_t_sne.py:793: FutureWarning: The default learning rate in TSNE will change from 200.0 to 'auto' in 1.2.\n",
      "  FutureWarning,\n"
     ]
    },
    {
     "name": "stdout",
     "output_type": "stream",
     "text": [
      "PCA 15D t-SNE\n",
      "0.7754258961952771\n",
      "PCA 15D UMAP\n",
      "0.7981880908300049\n",
      "PCA 15D t-SNE\n",
      "0.7750615373211508\n",
      "PCA 15D UMAP\n",
      "0.7979847451824408\n",
      "PCA 15D t-SNE\n",
      "0.7762337417843801\n",
      "PCA 15D UMAP\n",
      "0.7977408522916918\n",
      "PCA 50D t-SNE\n",
      "0.7089615531934077\n",
      "PCA 50D UMAP\n",
      "0.7636835282024774\n",
      "PCA 50D t-SNE\n",
      "0.7093390086160186\n",
      "PCA 50D UMAP\n",
      "0.7626726545184482\n"
     ]
    },
    {
     "name": "stderr",
     "output_type": "stream",
     "text": [
      "/home/tchari/miniconda3/envs/py37/lib/python3.7/site-packages/sklearn/manifold/_t_sne.py:783: FutureWarning: The default initialization in TSNE will change from 'random' to 'pca' in 1.2.\n",
      "  FutureWarning,\n",
      "/home/tchari/miniconda3/envs/py37/lib/python3.7/site-packages/sklearn/manifold/_t_sne.py:793: FutureWarning: The default learning rate in TSNE will change from 200.0 to 'auto' in 1.2.\n",
      "  FutureWarning,\n"
     ]
    },
    {
     "name": "stdout",
     "output_type": "stream",
     "text": [
      "PCA 15D t-SNE\n",
      "0.7754258961952771\n",
      "PCA 15D UMAP\n",
      "0.7981880908300049\n",
      "PCA 15D t-SNE\n",
      "0.7750615373211508\n",
      "PCA 15D UMAP\n",
      "0.7979847451824408\n",
      "PCA 15D t-SNE\n",
      "0.7762337417843801\n",
      "PCA 15D UMAP\n",
      "0.7977408522916918\n",
      "PCA 50D t-SNE\n",
      "0.7089615531934077\n",
      "PCA 50D UMAP\n",
      "0.7636835282024774\n",
      "PCA 50D t-SNE\n",
      "0.7093390086160186\n",
      "PCA 50D UMAP\n",
      "0.7626726545184482\n",
      "PCA 50D t-SNE\n",
      "0.7091096405006553\n",
      "PCA 50D UMAP\n",
      "0.76283488050379\n"
     ]
    },
    {
     "name": "stderr",
     "output_type": "stream",
     "text": [
      "/home/tchari/miniconda3/envs/py37/lib/python3.7/site-packages/sklearn/manifold/_t_sne.py:783: FutureWarning: The default initialization in TSNE will change from 'random' to 'pca' in 1.2.\n",
      "  FutureWarning,\n",
      "/home/tchari/miniconda3/envs/py37/lib/python3.7/site-packages/sklearn/manifold/_t_sne.py:793: FutureWarning: The default learning rate in TSNE will change from 200.0 to 'auto' in 1.2.\n",
      "  FutureWarning,\n"
     ]
    },
    {
     "name": "stdout",
     "output_type": "stream",
     "text": [
      "PCA 15D t-SNE\n",
      "0.8266792623875097\n",
      "PCA 15D UMAP\n",
      "0.8421181836454342\n",
      "PCA 15D t-SNE\n",
      "0.8271676221504586\n",
      "PCA 15D UMAP\n",
      "0.8419450645652492\n",
      "PCA 15D t-SNE\n",
      "0.8274121907456408\n",
      "PCA 15D UMAP\n",
      "0.8420002025934948\n",
      "PCA 50D t-SNE\n",
      "0.7731474178188072\n",
      "PCA 50D UMAP\n",
      "0.8115667040452166\n",
      "PCA 50D t-SNE\n",
      "0.774227699684713\n",
      "PCA 50D UMAP\n",
      "0.8111088171458385\n",
      "PCA 50D t-SNE\n",
      "0.7737735557709355\n",
      "PCA 50D UMAP\n",
      "0.8114575768255025\n",
      "PCA 100D t-SNE\n",
      "0.7559796031872955\n",
      "PCA 100D UMAP\n",
      "0.805520984937896\n"
     ]
    },
    {
     "name": "stderr",
     "output_type": "stream",
     "text": [
      "/home/tchari/miniconda3/envs/py37/lib/python3.7/site-packages/sklearn/manifold/_t_sne.py:783: FutureWarning: The default initialization in TSNE will change from 'random' to 'pca' in 1.2.\n",
      "  FutureWarning,\n",
      "/home/tchari/miniconda3/envs/py37/lib/python3.7/site-packages/sklearn/manifold/_t_sne.py:793: FutureWarning: The default learning rate in TSNE will change from 200.0 to 'auto' in 1.2.\n",
      "  FutureWarning,\n"
     ]
    },
    {
     "name": "stdout",
     "output_type": "stream",
     "text": [
      "PCA 15D t-SNE\n",
      "0.8266792623875097\n",
      "PCA 15D UMAP\n",
      "0.8421181836454342\n",
      "PCA 15D t-SNE\n",
      "0.8271676221504586\n",
      "PCA 15D UMAP\n",
      "0.8419450645652492\n",
      "PCA 15D t-SNE\n",
      "0.8274121907456408\n",
      "PCA 15D UMAP\n",
      "0.8420002025934948\n",
      "PCA 50D t-SNE\n",
      "0.7731474178188072\n",
      "PCA 50D UMAP\n",
      "0.8115667040452166\n",
      "PCA 50D t-SNE\n",
      "0.774227699684713\n",
      "PCA 50D UMAP\n",
      "0.8111088171458385\n",
      "PCA 50D t-SNE\n",
      "0.7737735557709355\n",
      "PCA 50D UMAP\n",
      "0.8114575768255025\n",
      "PCA 100D t-SNE\n",
      "0.7559796031872955\n",
      "PCA 100D UMAP\n",
      "0.805520984937896\n",
      "PCA 100D t-SNE\n",
      "0.7548958137968543\n",
      "PCA 100D UMAP\n",
      "0.8045799600906047\n"
     ]
    },
    {
     "name": "stderr",
     "output_type": "stream",
     "text": [
      "/home/tchari/miniconda3/envs/py37/lib/python3.7/site-packages/sklearn/manifold/_t_sne.py:783: FutureWarning: The default initialization in TSNE will change from 'random' to 'pca' in 1.2.\n",
      "  FutureWarning,\n",
      "/home/tchari/miniconda3/envs/py37/lib/python3.7/site-packages/sklearn/manifold/_t_sne.py:793: FutureWarning: The default learning rate in TSNE will change from 200.0 to 'auto' in 1.2.\n",
      "  FutureWarning,\n"
     ]
    },
    {
     "name": "stdout",
     "output_type": "stream",
     "text": [
      "PCA 15D t-SNE\n",
      "0.8266792623875097\n",
      "PCA 15D UMAP\n",
      "0.8421181836454342\n",
      "PCA 15D t-SNE\n",
      "0.8271676221504586\n",
      "PCA 15D UMAP\n",
      "0.8419450645652492\n",
      "PCA 15D t-SNE\n",
      "0.8274121907456408\n",
      "PCA 15D UMAP\n",
      "0.8420002025934948\n",
      "PCA 50D t-SNE\n",
      "0.7731474178188072\n",
      "PCA 50D UMAP\n",
      "0.8115667040452166\n",
      "PCA 50D t-SNE\n",
      "0.774227699684713\n",
      "PCA 50D UMAP\n",
      "0.8111088171458385\n",
      "PCA 50D t-SNE\n",
      "0.7737735557709355\n",
      "PCA 50D UMAP\n",
      "0.8114575768255025\n",
      "PCA 100D t-SNE\n",
      "0.7559796031872955\n",
      "PCA 100D UMAP\n",
      "0.805520984937896\n",
      "PCA 100D t-SNE\n",
      "0.7548958137968543\n",
      "PCA 100D UMAP\n",
      "0.8045799600906047\n",
      "PCA 100D t-SNE\n",
      "0.7545033625843434\n",
      "PCA 100D UMAP\n",
      "0.8034048334573239\n",
      "          x         latent\n",
      "0  0.775510  PCA 15D t-SNE\n",
      "1  0.636364  PCA 15D t-SNE\n",
      "2  0.666667  PCA 15D t-SNE\n",
      "3  0.695652  PCA 15D t-SNE\n",
      "4  0.421053  PCA 15D t-SNE\n"
     ]
    }
   ],
   "source": [
    "#Get KNN Jaccard distances\n",
    "merAmb = latentComp(scaled_mat,log_mat, ndims=2, pcs=[15,50,100], rounds = 3,set_p=2)\n",
    "print(merAmb.head())\n",
    "merPCAAmb = latentPCAComp(scaled_mat, ndims=2, pcs=[15,50,100], rounds = 3,set_p=2)\n",
    "print(merPCAAmb.head())"
   ]
  },
  {
   "cell_type": "code",
   "execution_count": 69,
   "metadata": {},
   "outputs": [],
   "source": [
    "merPCAAmb.to_csv('allOuts/merPCAAmb.csv')\n",
    "merAmb.to_csv('allOuts/merAmb.csv')"
   ]
  },
  {
   "cell_type": "markdown",
   "metadata": {
    "id": "L69aixNDSx7B"
   },
   "source": [
    "**Read in Ex-Utero E8.5 Data**"
   ]
  },
  {
   "cell_type": "code",
   "execution_count": 70,
   "metadata": {
    "id": "bFpcuY73LWrN"
   },
   "outputs": [],
   "source": [
    "cell_types = {'0': 'Blood', '1': 'Mixed Mesoderm', '2': 'Foregut', '3': 'Cardiac', '4': 'Mid Hind Brain',\n",
    "'5': 'Endothelial', '6': 'Presomitic Mesoderm', '7':'Amnion', '8':'Extra-Embryonic Endoderm', '9':'Pharyngeal Mesoderm',\n",
    "'10': 'Extra-Embryonic Ectoderm', '11': 'Blood' , '12':'Placodes', '13': 'Neural Tube', '14':'Extra-Embryonic Mesoderm',\n",
    "'15':'Somitic Mesoderm', '16':'Neural Crest', '17':'Amnion', '18':'Mid Hind Gut'}"
   ]
  },
  {
   "cell_type": "markdown",
   "metadata": {
    "id": "YXAC9EKJdmS1"
   },
   "source": [
    "Reading in log-normalized counts only"
   ]
  },
  {
   "cell_type": "code",
   "execution_count": 72,
   "metadata": {
    "colab": {
     "base_uri": "https://localhost:8080/"
    },
    "id": "aMu70on0YTIV",
    "outputId": "0610d690-b65d-48e5-9b30-f201c9c9536b"
   },
   "outputs": [
    {
     "name": "stdout",
     "output_type": "stream",
     "text": [
      "        AAACGAAAGTCCCGAC-1  AAACGAAGTCGAGTTT-1  AAACGCTAGGACTTCT-1  \\\n",
      "Xkr4              0.000000            0.000000            0.000000   \n",
      "Rp1               0.000000            0.000000            0.597661   \n",
      "Sox17             0.000000            0.000000            0.000000   \n",
      "Mrpl15            1.175618            0.559627            0.597661   \n",
      "Lypla1            0.751450            0.916306            0.597661   \n",
      "\n",
      "        AAACGCTCAACGCCCA-1  AAACGCTTCTGTGCGG-1  AAACGCTTCTTCTAAC-1  \\\n",
      "Xkr4                   0.0            0.000000            0.000000   \n",
      "Rp1                    0.0            0.000000            0.000000   \n",
      "Sox17                  0.0            0.000000            0.000000   \n",
      "Mrpl15                 0.0            1.487989            0.770525   \n",
      "Lypla1                 0.0            0.000000            0.000000   \n",
      "\n",
      "        AAAGAACGTCTACACA-1  AAAGAACTCGACGACC-1  AAAGGATCAGTTCTAG-1  \\\n",
      "Xkr4                   0.0                 0.0            0.000000   \n",
      "Rp1                    0.0                 0.0            0.000000   \n",
      "Sox17                  0.0                 0.0            0.000000   \n",
      "Mrpl15                 0.0                 0.0            1.147622   \n",
      "Lypla1                 0.0                 0.0            1.667968   \n",
      "\n",
      "        AAAGGATCATCGGTTA-1  ...  TTTCGATGTGTCCAAT-4  TTTCGATGTTTGGGAG-4  \\\n",
      "Xkr4                   0.0  ...            0.000000            0.000000   \n",
      "Rp1                    0.0  ...            0.000000            0.000000   \n",
      "Sox17                  0.0  ...            0.000000            0.000000   \n",
      "Mrpl15                 0.0  ...            1.325133            1.335193   \n",
      "Lypla1                 0.0  ...            0.000000            0.875620   \n",
      "\n",
      "        TTTGACTAGAACAGGA-4  TTTGACTTCGCAATGT-4  TTTGACTTCTGGTGCG-4  \\\n",
      "Xkr4              0.000000             0.00000              0.0000   \n",
      "Rp1               0.000000             0.00000              0.0000   \n",
      "Sox17             0.000000             0.00000              0.0000   \n",
      "Mrpl15            2.887543             0.98818              0.6654   \n",
      "Lypla1            0.000000             0.00000              0.0000   \n",
      "\n",
      "        TTTGATCGTCGTGGTC-4  TTTGATCTCTTCCACG-4  TTTGGAGAGACCTCCG-4  \\\n",
      "Xkr4              0.000000            0.000000            0.000000   \n",
      "Rp1               0.000000            0.000000            0.000000   \n",
      "Sox17             0.000000            0.000000            0.000000   \n",
      "Mrpl15            0.977095            1.460150            1.308866   \n",
      "Lypla1            0.000000            0.975805            0.000000   \n",
      "\n",
      "        TTTGGAGCAAAGGCGT-4  TTTGTTGGTTGCGGAA-4  \n",
      "Xkr4              0.000000                 0.0  \n",
      "Rp1               0.000000                 0.0  \n",
      "Sox17             0.000000                 0.0  \n",
      "Mrpl15            0.949691                 0.0  \n",
      "Lypla1            0.000000                 0.0  \n",
      "\n",
      "[5 rows x 10290 columns]\n",
      "           Unnamed: 0 orig.ident  nCount_RNA  nFeature_RNA Utero  percent.mt  \\\n",
      "0  AAACGAAAGTCCCGAC-1       p8.5        8928          2969  InUt    1.646505   \n",
      "1  AAACGAAGTCGAGTTT-1       p8.5       13333          3731  InUt    3.742594   \n",
      "2  AAACGCTAGGACTTCT-1       p8.5       12227          3800  InUt    4.293776   \n",
      "3  AAACGCTCAACGCCCA-1       p8.5         495           363  InUt    0.000000   \n",
      "4  AAACGCTTCTGTGCGG-1       p8.5       11668          3494  InUt    4.473774   \n",
      "\n",
      "   RNA_snn_res.0.5  seurat_clusters  integrated_snn_res.0.5  \n",
      "0                1               13                      13  \n",
      "1               15               15                      15  \n",
      "2               10               10                      10  \n",
      "3                2               12                      12  \n",
      "4                1                8                       8  \n"
     ]
    }
   ],
   "source": [
    "counts = pd.read_csv(data_path+'/GSE149372_scRNA.normalized.assay85.csv',index_col=0)\n",
    "print(counts.head())\n",
    "\n",
    "cellMeta = pd.read_csv(data_path+'/GSE149372_scRNA.MetaData.85.csv')\n",
    "print(cellMeta.head())"
   ]
  },
  {
   "cell_type": "code",
   "execution_count": 73,
   "metadata": {
    "id": "O3x2XhtxYTSm"
   },
   "outputs": [],
   "source": [
    "#Center and scale log-normalized data\n",
    "count_mat = counts.values.T"
   ]
  },
  {
   "cell_type": "code",
   "execution_count": 74,
   "metadata": {
    "colab": {
     "base_uri": "https://localhost:8080/"
    },
    "id": "iIIoi_Q4YTXk",
    "outputId": "a853097f-1422-42f8-9d53-2cc48d778316"
   },
   "outputs": [
    {
     "name": "stderr",
     "output_type": "stream",
     "text": [
      "/home/tchari/.local/lib/python3.7/site-packages/ipykernel_launcher.py:1: FutureWarning: X.dtype being converted to np.float32 from float64. In the next version of anndata (0.9) conversion will not be automatic. Pass dtype explicitly to avoid this warning. Pass `AnnData(X, dtype=X.dtype, ...)` to get the future behavour.\n",
      "  \"\"\"Entry point for launching an IPython kernel.\n"
     ]
    },
    {
     "data": {
      "text/plain": [
       "AnnData object with n_obs × n_vars = 10290 × 19588\n",
       "    obs: 'Utero', 'Cluster'"
      ]
     },
     "execution_count": 74,
     "metadata": {},
     "output_type": "execute_result"
    }
   ],
   "source": [
    "adata = anndata.AnnData(X = count_mat)\n",
    "adata.obs_names = list(counts.columns)\n",
    "adata.var_names = list(counts.index)\n",
    "adata.obs['Utero'] = pd.Categorical(cellMeta.Utero)\n",
    "adata.obs['Cluster'] = pd.Categorical(cellMeta.seurat_clusters)\n",
    "adata"
   ]
  },
  {
   "cell_type": "code",
   "execution_count": 75,
   "metadata": {
    "colab": {
     "base_uri": "https://localhost:8080/"
    },
    "id": "2ni_VXd3GuiF",
    "outputId": "277a8113-6f9a-4132-bdfd-6aae4c79ef83"
   },
   "outputs": [
    {
     "data": {
      "text/plain": [
       "View of AnnData object with n_obs × n_vars = 6205 × 19588\n",
       "    obs: 'Utero', 'Cluster'"
      ]
     },
     "execution_count": 75,
     "metadata": {},
     "output_type": "execute_result"
    }
   ],
   "source": [
    "exAdata = adata[adata.obs['Utero']=='ExUt']\n",
    "inAdata = adata[adata.obs['Utero']=='InUt']\n",
    "exAdata"
   ]
  },
  {
   "cell_type": "code",
   "execution_count": 76,
   "metadata": {
    "id": "4ZNFM0WXYSsC"
   },
   "outputs": [],
   "source": [
    "#In paper, use top 2000 HVGs and 15 PCs\n",
    "def scaleAdata(adata):\n",
    "  sc.pp.filter_cells(adata, min_counts=0)\n",
    "  sc.pp.filter_genes(adata, min_counts=0)\n",
    "\n",
    "\n",
    "  sc.pp.highly_variable_genes(adata,n_top_genes=2000)\n",
    "\n",
    "  adata = adata[:,adata.var['highly_variable']]\n",
    "  adata.obsm['log'] = adata.X #Count matrix already logged\n",
    "\n",
    "  sc.pp.scale(adata, max_value=10)\n",
    "  return adata"
   ]
  },
  {
   "cell_type": "code",
   "execution_count": 77,
   "metadata": {
    "colab": {
     "base_uri": "https://localhost:8080/"
    },
    "id": "8ubNleWpHYG7",
    "outputId": "b5234008-c405-4c48-9996-68995887e4b0"
   },
   "outputs": [
    {
     "name": "stderr",
     "output_type": "stream",
     "text": [
      "/home/tchari/miniconda3/envs/py37/lib/python3.7/site-packages/scanpy/preprocessing/_simple.py:128: ImplicitModificationWarning: Trying to modify attribute `.obs` of view, initializing view as actual.\n",
      "  if min_genes is None and max_genes is None: adata.obs['n_counts'] = number\n"
     ]
    }
   ],
   "source": [
    "adata = scaleAdata(adata)\n",
    "exAdata = scaleAdata(exAdata)\n",
    "inAdata = scaleAdata(inAdata)"
   ]
  },
  {
   "cell_type": "code",
   "execution_count": 78,
   "metadata": {
    "id": "eW3fQ_sdereM"
   },
   "outputs": [],
   "source": [
    "toUseAdata = exAdata\n",
    "count_mat = toUseAdata.obsm['log']\n",
    "scaled_mat = toUseAdata.X"
   ]
  },
  {
   "cell_type": "code",
   "execution_count": 79,
   "metadata": {
    "id": "6aPfN4POcJPI"
   },
   "outputs": [],
   "source": [
    "#Set colors for cell clusters\n",
    "colors = np.random.rand(len(toUseAdata.obs['Cluster']),3)\n",
    "\n",
    "labs = np.array([list(toUseAdata.obs['Cluster']),list(toUseAdata.obs['Utero'])])\n",
    "\n",
    "# adata.obs['Cluster'].value_counts()"
   ]
  },
  {
   "cell_type": "code",
   "execution_count": null,
   "metadata": {
    "id": "rIVNruRDS24w"
   },
   "outputs": [],
   "source": []
  },
  {
   "cell_type": "code",
   "execution_count": 80,
   "metadata": {
    "id": "iTOXDaaDS2-z"
   },
   "outputs": [
    {
     "name": "stderr",
     "output_type": "stream",
     "text": [
      "/home/tchari/miniconda3/envs/py37/lib/python3.7/site-packages/sklearn/manifold/_t_sne.py:783: FutureWarning: The default initialization in TSNE will change from 'random' to 'pca' in 1.2.\n",
      "  FutureWarning,\n",
      "/home/tchari/miniconda3/envs/py37/lib/python3.7/site-packages/sklearn/manifold/_t_sne.py:793: FutureWarning: The default learning rate in TSNE will change from 200.0 to 'auto' in 1.2.\n",
      "  FutureWarning,\n",
      "/home/tchari/miniconda3/envs/py37/lib/python3.7/site-packages/sklearn/manifold/_t_sne.py:783: FutureWarning: The default initialization in TSNE will change from 'random' to 'pca' in 1.2.\n",
      "  FutureWarning,\n",
      "/home/tchari/miniconda3/envs/py37/lib/python3.7/site-packages/sklearn/manifold/_t_sne.py:793: FutureWarning: The default learning rate in TSNE will change from 200.0 to 'auto' in 1.2.\n",
      "  FutureWarning,\n",
      "/home/tchari/miniconda3/envs/py37/lib/python3.7/site-packages/sklearn/manifold/_t_sne.py:783: FutureWarning: The default initialization in TSNE will change from 'random' to 'pca' in 1.2.\n",
      "  FutureWarning,\n",
      "/home/tchari/miniconda3/envs/py37/lib/python3.7/site-packages/sklearn/manifold/_t_sne.py:793: FutureWarning: The default learning rate in TSNE will change from 200.0 to 'auto' in 1.2.\n",
      "  FutureWarning,\n",
      "/home/tchari/miniconda3/envs/py37/lib/python3.7/site-packages/sklearn/manifold/_t_sne.py:783: FutureWarning: The default initialization in TSNE will change from 'random' to 'pca' in 1.2.\n",
      "  FutureWarning,\n",
      "/home/tchari/miniconda3/envs/py37/lib/python3.7/site-packages/sklearn/manifold/_t_sne.py:793: FutureWarning: The default learning rate in TSNE will change from 200.0 to 'auto' in 1.2.\n",
      "  FutureWarning,\n",
      "/home/tchari/miniconda3/envs/py37/lib/python3.7/site-packages/sklearn/manifold/_t_sne.py:783: FutureWarning: The default initialization in TSNE will change from 'random' to 'pca' in 1.2.\n",
      "  FutureWarning,\n",
      "/home/tchari/miniconda3/envs/py37/lib/python3.7/site-packages/sklearn/manifold/_t_sne.py:793: FutureWarning: The default learning rate in TSNE will change from 200.0 to 'auto' in 1.2.\n",
      "  FutureWarning,\n",
      "/home/tchari/miniconda3/envs/py37/lib/python3.7/site-packages/sklearn/manifold/_t_sne.py:783: FutureWarning: The default initialization in TSNE will change from 'random' to 'pca' in 1.2.\n",
      "  FutureWarning,\n",
      "/home/tchari/miniconda3/envs/py37/lib/python3.7/site-packages/sklearn/manifold/_t_sne.py:793: FutureWarning: The default learning rate in TSNE will change from 200.0 to 'auto' in 1.2.\n",
      "  FutureWarning,\n",
      "/home/tchari/miniconda3/envs/py37/lib/python3.7/site-packages/sklearn/manifold/_t_sne.py:783: FutureWarning: The default initialization in TSNE will change from 'random' to 'pca' in 1.2.\n",
      "  FutureWarning,\n",
      "/home/tchari/miniconda3/envs/py37/lib/python3.7/site-packages/sklearn/manifold/_t_sne.py:793: FutureWarning: The default learning rate in TSNE will change from 200.0 to 'auto' in 1.2.\n",
      "  FutureWarning,\n",
      "/home/tchari/miniconda3/envs/py37/lib/python3.7/site-packages/sklearn/manifold/_t_sne.py:783: FutureWarning: The default initialization in TSNE will change from 'random' to 'pca' in 1.2.\n",
      "  FutureWarning,\n",
      "/home/tchari/miniconda3/envs/py37/lib/python3.7/site-packages/sklearn/manifold/_t_sne.py:793: FutureWarning: The default learning rate in TSNE will change from 200.0 to 'auto' in 1.2.\n",
      "  FutureWarning,\n",
      "/home/tchari/miniconda3/envs/py37/lib/python3.7/site-packages/sklearn/manifold/_t_sne.py:783: FutureWarning: The default initialization in TSNE will change from 'random' to 'pca' in 1.2.\n",
      "  FutureWarning,\n",
      "/home/tchari/miniconda3/envs/py37/lib/python3.7/site-packages/sklearn/manifold/_t_sne.py:793: FutureWarning: The default learning rate in TSNE will change from 200.0 to 'auto' in 1.2.\n",
      "  FutureWarning,\n",
      "/home/tchari/miniconda3/envs/py37/lib/python3.7/site-packages/sklearn/manifold/_t_sne.py:783: FutureWarning: The default initialization in TSNE will change from 'random' to 'pca' in 1.2.\n",
      "  FutureWarning,\n",
      "/home/tchari/miniconda3/envs/py37/lib/python3.7/site-packages/sklearn/manifold/_t_sne.py:793: FutureWarning: The default learning rate in TSNE will change from 200.0 to 'auto' in 1.2.\n",
      "  FutureWarning,\n",
      "/home/tchari/miniconda3/envs/py37/lib/python3.7/site-packages/sklearn/manifold/_t_sne.py:783: FutureWarning: The default initialization in TSNE will change from 'random' to 'pca' in 1.2.\n",
      "  FutureWarning,\n",
      "/home/tchari/miniconda3/envs/py37/lib/python3.7/site-packages/sklearn/manifold/_t_sne.py:793: FutureWarning: The default learning rate in TSNE will change from 200.0 to 'auto' in 1.2.\n",
      "  FutureWarning,\n",
      "/home/tchari/miniconda3/envs/py37/lib/python3.7/site-packages/sklearn/manifold/_t_sne.py:783: FutureWarning: The default initialization in TSNE will change from 'random' to 'pca' in 1.2.\n",
      "  FutureWarning,\n",
      "/home/tchari/miniconda3/envs/py37/lib/python3.7/site-packages/sklearn/manifold/_t_sne.py:793: FutureWarning: The default learning rate in TSNE will change from 200.0 to 'auto' in 1.2.\n",
      "  FutureWarning,\n"
     ]
    },
    {
     "name": "stdout",
     "output_type": "stream",
     "text": [
      "PCA 15D\n",
      "0.8149313134190566\n",
      "PCA 15D t-SNE\n",
      "0.8482812172261855\n",
      "PCA 15D UMAP\n",
      "0.8591085942035337\n",
      "PCA 50D\n",
      "0.7644222369720005\n",
      "PCA 50D t-SNE\n",
      "0.827114776629353\n",
      "PCA 50D UMAP\n",
      "0.8440133605069173\n",
      "PCA 100D\n",
      "0.7487337416617232\n",
      "PCA 100D t-SNE\n",
      "0.8238687714459203\n",
      "PCA 100D UMAP\n",
      "0.8502236768289497\n",
      "PCA 2D\n",
      "0.942788287038452\n",
      "t-SNE 2D\n",
      "0.8876399849769221\n",
      "UMAP 2D\n",
      "0.9044685101494805\n",
      "PCA 15D\n",
      "0.8149906529310859\n",
      "PCA 15D t-SNE\n",
      "0.8471770045207384\n",
      "PCA 15D UMAP\n",
      "0.8596847917154612\n",
      "PCA 50D\n",
      "0.7628867910669133\n",
      "PCA 50D t-SNE\n",
      "0.8253995927277572\n",
      "PCA 50D UMAP\n",
      "0.8439789833832523\n",
      "PCA 100D\n",
      "0.7493789452972238\n",
      "PCA 100D t-SNE\n",
      "0.8232864845916393\n",
      "PCA 100D UMAP\n",
      "0.8474440867191947\n",
      "PCA 2D\n",
      "0.9427788269277562\n",
      "t-SNE 2D\n",
      "0.8862691849649182\n",
      "UMAP 2D\n",
      "0.9042514907801772\n",
      "PCA 15D\n",
      "0.8151323264947986\n",
      "PCA 15D t-SNE\n",
      "0.8486257869604918\n",
      "PCA 15D UMAP\n",
      "0.8607194863114219\n",
      "PCA 50D\n",
      "0.7631900458247647\n",
      "PCA 50D t-SNE\n",
      "0.8261703785407706\n",
      "PCA 50D UMAP\n",
      "0.8468245264683331\n",
      "PCA 100D\n",
      "0.7488185286652893\n",
      "PCA 100D t-SNE\n",
      "0.8251181176545577\n",
      "PCA 100D UMAP\n",
      "0.8488216999034839\n",
      "PCA 2D\n",
      "0.9427816526499283\n",
      "t-SNE 2D\n",
      "0.885302555149912\n",
      "UMAP 2D\n",
      "0.9041611165034209\n",
      "          x   latent\n",
      "0  0.846154  PCA 15D\n",
      "1  0.965517  PCA 15D\n",
      "2  0.695652  PCA 15D\n",
      "3  0.867925  PCA 15D\n",
      "4  0.983051  PCA 15D\n"
     ]
    },
    {
     "name": "stderr",
     "output_type": "stream",
     "text": [
      "/home/tchari/miniconda3/envs/py37/lib/python3.7/site-packages/sklearn/manifold/_t_sne.py:783: FutureWarning: The default initialization in TSNE will change from 'random' to 'pca' in 1.2.\n",
      "  FutureWarning,\n",
      "/home/tchari/miniconda3/envs/py37/lib/python3.7/site-packages/sklearn/manifold/_t_sne.py:793: FutureWarning: The default learning rate in TSNE will change from 200.0 to 'auto' in 1.2.\n",
      "  FutureWarning,\n"
     ]
    },
    {
     "name": "stdout",
     "output_type": "stream",
     "text": [
      "PCA 15D t-SNE\n",
      "0.5920468097276809\n",
      "PCA 15D UMAP\n",
      "0.6496177604535467\n"
     ]
    },
    {
     "name": "stderr",
     "output_type": "stream",
     "text": [
      "/home/tchari/miniconda3/envs/py37/lib/python3.7/site-packages/sklearn/manifold/_t_sne.py:783: FutureWarning: The default initialization in TSNE will change from 'random' to 'pca' in 1.2.\n",
      "  FutureWarning,\n",
      "/home/tchari/miniconda3/envs/py37/lib/python3.7/site-packages/sklearn/manifold/_t_sne.py:793: FutureWarning: The default learning rate in TSNE will change from 200.0 to 'auto' in 1.2.\n",
      "  FutureWarning,\n"
     ]
    },
    {
     "name": "stdout",
     "output_type": "stream",
     "text": [
      "PCA 15D t-SNE\n",
      "0.5920468097276809\n",
      "PCA 15D UMAP\n",
      "0.6496177604535467\n",
      "PCA 15D t-SNE\n",
      "0.5925517168880917\n",
      "PCA 15D UMAP\n",
      "0.6454196816133698\n"
     ]
    },
    {
     "name": "stderr",
     "output_type": "stream",
     "text": [
      "/home/tchari/miniconda3/envs/py37/lib/python3.7/site-packages/sklearn/manifold/_t_sne.py:783: FutureWarning: The default initialization in TSNE will change from 'random' to 'pca' in 1.2.\n",
      "  FutureWarning,\n",
      "/home/tchari/miniconda3/envs/py37/lib/python3.7/site-packages/sklearn/manifold/_t_sne.py:793: FutureWarning: The default learning rate in TSNE will change from 200.0 to 'auto' in 1.2.\n",
      "  FutureWarning,\n"
     ]
    },
    {
     "name": "stdout",
     "output_type": "stream",
     "text": [
      "PCA 15D t-SNE\n",
      "0.5920468097276809\n",
      "PCA 15D UMAP\n",
      "0.6496177604535467\n",
      "PCA 15D t-SNE\n",
      "0.5925517168880917\n",
      "PCA 15D UMAP\n",
      "0.6454196816133698\n",
      "PCA 15D t-SNE\n",
      "0.5919049172800948\n",
      "PCA 15D UMAP\n",
      "0.6470936633376011\n"
     ]
    },
    {
     "name": "stderr",
     "output_type": "stream",
     "text": [
      "/home/tchari/miniconda3/envs/py37/lib/python3.7/site-packages/sklearn/manifold/_t_sne.py:783: FutureWarning: The default initialization in TSNE will change from 'random' to 'pca' in 1.2.\n",
      "  FutureWarning,\n",
      "/home/tchari/miniconda3/envs/py37/lib/python3.7/site-packages/sklearn/manifold/_t_sne.py:793: FutureWarning: The default learning rate in TSNE will change from 200.0 to 'auto' in 1.2.\n",
      "  FutureWarning,\n"
     ]
    },
    {
     "name": "stdout",
     "output_type": "stream",
     "text": [
      "PCA 15D t-SNE\n",
      "0.7407533910691009\n",
      "PCA 15D UMAP\n",
      "0.7663271471001719\n",
      "PCA 15D t-SNE\n",
      "0.7415120031707685\n",
      "PCA 15D UMAP\n",
      "0.7679225208198049\n",
      "PCA 15D t-SNE\n",
      "0.7408589265880554\n",
      "PCA 15D UMAP\n",
      "0.7668671878434887\n",
      "PCA 50D t-SNE\n",
      "0.6694577982960235\n",
      "PCA 50D UMAP\n",
      "0.7204778720967885\n"
     ]
    },
    {
     "name": "stderr",
     "output_type": "stream",
     "text": [
      "/home/tchari/miniconda3/envs/py37/lib/python3.7/site-packages/sklearn/manifold/_t_sne.py:783: FutureWarning: The default initialization in TSNE will change from 'random' to 'pca' in 1.2.\n",
      "  FutureWarning,\n",
      "/home/tchari/miniconda3/envs/py37/lib/python3.7/site-packages/sklearn/manifold/_t_sne.py:793: FutureWarning: The default learning rate in TSNE will change from 200.0 to 'auto' in 1.2.\n",
      "  FutureWarning,\n"
     ]
    },
    {
     "name": "stdout",
     "output_type": "stream",
     "text": [
      "PCA 15D t-SNE\n",
      "0.7407533910691009\n",
      "PCA 15D UMAP\n",
      "0.7663271471001719\n",
      "PCA 15D t-SNE\n",
      "0.7415120031707685\n",
      "PCA 15D UMAP\n",
      "0.7679225208198049\n",
      "PCA 15D t-SNE\n",
      "0.7408589265880554\n",
      "PCA 15D UMAP\n",
      "0.7668671878434887\n",
      "PCA 50D t-SNE\n",
      "0.6694577982960235\n",
      "PCA 50D UMAP\n",
      "0.7204778720967885\n",
      "PCA 50D t-SNE\n",
      "0.6690936898426664\n",
      "PCA 50D UMAP\n",
      "0.7211476600423934\n"
     ]
    },
    {
     "name": "stderr",
     "output_type": "stream",
     "text": [
      "/home/tchari/miniconda3/envs/py37/lib/python3.7/site-packages/sklearn/manifold/_t_sne.py:783: FutureWarning: The default initialization in TSNE will change from 'random' to 'pca' in 1.2.\n",
      "  FutureWarning,\n",
      "/home/tchari/miniconda3/envs/py37/lib/python3.7/site-packages/sklearn/manifold/_t_sne.py:793: FutureWarning: The default learning rate in TSNE will change from 200.0 to 'auto' in 1.2.\n",
      "  FutureWarning,\n"
     ]
    },
    {
     "name": "stdout",
     "output_type": "stream",
     "text": [
      "PCA 15D t-SNE\n",
      "0.7407533910691009\n",
      "PCA 15D UMAP\n",
      "0.7663271471001719\n",
      "PCA 15D t-SNE\n",
      "0.7415120031707685\n",
      "PCA 15D UMAP\n",
      "0.7679225208198049\n",
      "PCA 15D t-SNE\n",
      "0.7408589265880554\n",
      "PCA 15D UMAP\n",
      "0.7668671878434887\n",
      "PCA 50D t-SNE\n",
      "0.6694577982960235\n",
      "PCA 50D UMAP\n",
      "0.7204778720967885\n",
      "PCA 50D t-SNE\n",
      "0.6690936898426664\n",
      "PCA 50D UMAP\n",
      "0.7211476600423934\n",
      "PCA 50D t-SNE\n",
      "0.6693992862265117\n",
      "PCA 50D UMAP\n",
      "0.7211950025074729\n"
     ]
    },
    {
     "name": "stderr",
     "output_type": "stream",
     "text": [
      "/home/tchari/miniconda3/envs/py37/lib/python3.7/site-packages/sklearn/manifold/_t_sne.py:783: FutureWarning: The default initialization in TSNE will change from 'random' to 'pca' in 1.2.\n",
      "  FutureWarning,\n",
      "/home/tchari/miniconda3/envs/py37/lib/python3.7/site-packages/sklearn/manifold/_t_sne.py:793: FutureWarning: The default learning rate in TSNE will change from 200.0 to 'auto' in 1.2.\n",
      "  FutureWarning,\n"
     ]
    },
    {
     "name": "stdout",
     "output_type": "stream",
     "text": [
      "PCA 15D t-SNE\n",
      "0.7928851515374054\n",
      "PCA 15D UMAP\n",
      "0.8116065411373945\n",
      "PCA 15D t-SNE\n",
      "0.7939438773239489\n",
      "PCA 15D UMAP\n",
      "0.8124613378735298\n",
      "PCA 15D t-SNE\n",
      "0.7928091933639451\n",
      "PCA 15D UMAP\n",
      "0.8115793767698171\n",
      "PCA 50D t-SNE\n",
      "0.7407022258020681\n",
      "PCA 50D UMAP\n",
      "0.773724570806347\n",
      "PCA 50D t-SNE\n",
      "0.7408184567832501\n",
      "PCA 50D UMAP\n",
      "0.773092328328409\n",
      "PCA 50D t-SNE\n",
      "0.7392853312571938\n",
      "PCA 50D UMAP\n",
      "0.7731520673129179\n",
      "PCA 100D t-SNE\n",
      "0.7235138172147472\n",
      "PCA 100D UMAP\n",
      "0.7757845992433443\n"
     ]
    },
    {
     "name": "stderr",
     "output_type": "stream",
     "text": [
      "/home/tchari/miniconda3/envs/py37/lib/python3.7/site-packages/sklearn/manifold/_t_sne.py:783: FutureWarning: The default initialization in TSNE will change from 'random' to 'pca' in 1.2.\n",
      "  FutureWarning,\n",
      "/home/tchari/miniconda3/envs/py37/lib/python3.7/site-packages/sklearn/manifold/_t_sne.py:793: FutureWarning: The default learning rate in TSNE will change from 200.0 to 'auto' in 1.2.\n",
      "  FutureWarning,\n"
     ]
    },
    {
     "name": "stdout",
     "output_type": "stream",
     "text": [
      "PCA 15D t-SNE\n",
      "0.7928851515374054\n",
      "PCA 15D UMAP\n",
      "0.8116065411373945\n",
      "PCA 15D t-SNE\n",
      "0.7939438773239489\n",
      "PCA 15D UMAP\n",
      "0.8124613378735298\n",
      "PCA 15D t-SNE\n",
      "0.7928091933639451\n",
      "PCA 15D UMAP\n",
      "0.8115793767698171\n",
      "PCA 50D t-SNE\n",
      "0.7407022258020681\n",
      "PCA 50D UMAP\n",
      "0.773724570806347\n",
      "PCA 50D t-SNE\n",
      "0.7408184567832501\n",
      "PCA 50D UMAP\n",
      "0.773092328328409\n",
      "PCA 50D t-SNE\n",
      "0.7392853312571938\n",
      "PCA 50D UMAP\n",
      "0.7731520673129179\n",
      "PCA 100D t-SNE\n",
      "0.7235138172147472\n",
      "PCA 100D UMAP\n",
      "0.7757845992433443\n",
      "PCA 100D t-SNE\n",
      "0.7236351317968208\n",
      "PCA 100D UMAP\n",
      "0.7751513671626362\n"
     ]
    },
    {
     "name": "stderr",
     "output_type": "stream",
     "text": [
      "/home/tchari/miniconda3/envs/py37/lib/python3.7/site-packages/sklearn/manifold/_t_sne.py:783: FutureWarning: The default initialization in TSNE will change from 'random' to 'pca' in 1.2.\n",
      "  FutureWarning,\n",
      "/home/tchari/miniconda3/envs/py37/lib/python3.7/site-packages/sklearn/manifold/_t_sne.py:793: FutureWarning: The default learning rate in TSNE will change from 200.0 to 'auto' in 1.2.\n",
      "  FutureWarning,\n"
     ]
    },
    {
     "name": "stdout",
     "output_type": "stream",
     "text": [
      "PCA 15D t-SNE\n",
      "0.7928851515374054\n",
      "PCA 15D UMAP\n",
      "0.8116065411373945\n",
      "PCA 15D t-SNE\n",
      "0.7939438773239489\n",
      "PCA 15D UMAP\n",
      "0.8124613378735298\n",
      "PCA 15D t-SNE\n",
      "0.7928091933639451\n",
      "PCA 15D UMAP\n",
      "0.8115793767698171\n",
      "PCA 50D t-SNE\n",
      "0.7407022258020681\n",
      "PCA 50D UMAP\n",
      "0.773724570806347\n",
      "PCA 50D t-SNE\n",
      "0.7408184567832501\n",
      "PCA 50D UMAP\n",
      "0.773092328328409\n",
      "PCA 50D t-SNE\n",
      "0.7392853312571938\n",
      "PCA 50D UMAP\n",
      "0.7731520673129179\n",
      "PCA 100D t-SNE\n",
      "0.7235138172147472\n",
      "PCA 100D UMAP\n",
      "0.7757845992433443\n",
      "PCA 100D t-SNE\n",
      "0.7236351317968208\n",
      "PCA 100D UMAP\n",
      "0.7751513671626362\n",
      "PCA 100D t-SNE\n",
      "0.7233131516894102\n",
      "PCA 100D UMAP\n",
      "0.7737820607953078\n",
      "          x         latent\n",
      "0  0.666667  PCA 15D t-SNE\n",
      "1  0.536585  PCA 15D t-SNE\n",
      "2  0.666667  PCA 15D t-SNE\n",
      "3  0.604651  PCA 15D t-SNE\n",
      "4  0.636364  PCA 15D t-SNE\n"
     ]
    }
   ],
   "source": [
    "#Get KNN Jaccard distances\n",
    "exAmb = latentComp(scaled_mat,count_mat, ndims=2, pcs=[15,50,100], rounds = 3,set_p=2)\n",
    "print(exAmb.head())\n",
    "exPCAAmb = latentPCAComp(scaled_mat, ndims=2, pcs=[15,50,100], rounds = 3,set_p=2)\n",
    "print(exPCAAmb.head())"
   ]
  },
  {
   "cell_type": "code",
   "execution_count": 81,
   "metadata": {},
   "outputs": [],
   "source": [
    "exAmb.to_csv('allOuts/exAmb.csv')\n",
    "exPCAAmb.to_csv('allOuts/exPCAAmb.csv')\n"
   ]
  },
  {
   "cell_type": "markdown",
   "metadata": {
    "id": "xuA0N7pkQAqT"
   },
   "source": [
    "Read in Integrated Utero E10.5 Data"
   ]
  },
  {
   "cell_type": "code",
   "execution_count": 82,
   "metadata": {
    "id": "4mmjv_09KBsq"
   },
   "outputs": [],
   "source": [
    "def readLgMat(fname, data_path='../..'):\n",
    "\n",
    "  col_names = pd.read_csv(data_path+fname, nrows=0).columns\n",
    "  types_dict = {'Unnamed: 0': str}\n",
    "  types_dict.update({col: np.float16 for col in col_names if col not in types_dict})\n",
    "\n",
    "  chunk = pd.read_csv(data_path+fname,chunksize=1000,index_col=0,dtype=types_dict)\n",
    "  counts = pd.concat(chunk)\n",
    "\n",
    "  return counts"
   ]
  },
  {
   "cell_type": "markdown",
   "metadata": {
    "id": "aoHxGK28bWSV"
   },
   "source": [
    "*Read in Seurat-Integrated, 'Variance-Stabilized' and Scaled counts*"
   ]
  },
  {
   "cell_type": "code",
   "execution_count": 83,
   "metadata": {
    "colab": {
     "base_uri": "https://localhost:8080/",
     "height": 296
    },
    "id": "641jPHt567IM",
    "outputId": "d6726f91-1b5a-4c7f-c866-0ad0db5fe8e8"
   },
   "outputs": [
    {
     "data": {
      "text/html": [
       "<div>\n",
       "<style scoped>\n",
       "    .dataframe tbody tr th:only-of-type {\n",
       "        vertical-align: middle;\n",
       "    }\n",
       "\n",
       "    .dataframe tbody tr th {\n",
       "        vertical-align: top;\n",
       "    }\n",
       "\n",
       "    .dataframe thead th {\n",
       "        text-align: right;\n",
       "    }\n",
       "</style>\n",
       "<table border=\"1\" class=\"dataframe\">\n",
       "  <thead>\n",
       "    <tr style=\"text-align: right;\">\n",
       "      <th></th>\n",
       "      <th>AAACCCAAGCCTCACG-1</th>\n",
       "      <th>AAACCCAAGCTCGACC-1</th>\n",
       "      <th>AAACCCAAGTTAACAG-1</th>\n",
       "      <th>AAACCCACACCATATG-1</th>\n",
       "      <th>AAACCCAGTCACGCTG-1</th>\n",
       "      <th>AAACCCAGTGCGTTTA-1</th>\n",
       "      <th>AAACCCAGTGGCTCTG-1</th>\n",
       "      <th>AAACCCATCCCATAGA-1</th>\n",
       "      <th>AAACGAAAGAAGCTCG-1</th>\n",
       "      <th>AAACGAAAGACTAAGT-1</th>\n",
       "      <th>...</th>\n",
       "      <th>TTTGGAGTCCCGAGTG-12</th>\n",
       "      <th>TTTGGTTAGTCTAACC-12</th>\n",
       "      <th>TTTGGTTCACAAAGCG-12</th>\n",
       "      <th>TTTGGTTGTATGAGGC-12</th>\n",
       "      <th>TTTGGTTTCGTGGCTG-12</th>\n",
       "      <th>TTTGTTGAGCAGCGAT-12</th>\n",
       "      <th>TTTGTTGCAGTCCGTG-12</th>\n",
       "      <th>TTTGTTGCAGTTCACA-12</th>\n",
       "      <th>TTTGTTGGTCGTGTTA-12</th>\n",
       "      <th>TTTGTTGTCCAACCAA-12</th>\n",
       "    </tr>\n",
       "  </thead>\n",
       "  <tbody>\n",
       "    <tr>\n",
       "      <th>Hba-a1</th>\n",
       "      <td>-0.366699</td>\n",
       "      <td>-0.303711</td>\n",
       "      <td>-0.294678</td>\n",
       "      <td>2.830078</td>\n",
       "      <td>3.193359</td>\n",
       "      <td>-0.350342</td>\n",
       "      <td>2.978516</td>\n",
       "      <td>-0.426758</td>\n",
       "      <td>-0.448486</td>\n",
       "      <td>-0.161011</td>\n",
       "      <td>...</td>\n",
       "      <td>-0.313965</td>\n",
       "      <td>-0.265381</td>\n",
       "      <td>-0.435791</td>\n",
       "      <td>-0.354004</td>\n",
       "      <td>-0.579102</td>\n",
       "      <td>-0.314209</td>\n",
       "      <td>2.933594</td>\n",
       "      <td>-0.290771</td>\n",
       "      <td>-0.413330</td>\n",
       "      <td>-0.441895</td>\n",
       "    </tr>\n",
       "    <tr>\n",
       "      <th>Hbb-bh1</th>\n",
       "      <td>-0.391846</td>\n",
       "      <td>-0.164429</td>\n",
       "      <td>-0.295654</td>\n",
       "      <td>2.917969</td>\n",
       "      <td>3.232422</td>\n",
       "      <td>-0.368408</td>\n",
       "      <td>2.914062</td>\n",
       "      <td>-0.369385</td>\n",
       "      <td>-0.449463</td>\n",
       "      <td>-0.322998</td>\n",
       "      <td>...</td>\n",
       "      <td>-0.771973</td>\n",
       "      <td>-0.245239</td>\n",
       "      <td>-0.029694</td>\n",
       "      <td>-0.744141</td>\n",
       "      <td>-0.196533</td>\n",
       "      <td>-0.491455</td>\n",
       "      <td>2.970703</td>\n",
       "      <td>0.188110</td>\n",
       "      <td>-0.280029</td>\n",
       "      <td>-0.370117</td>\n",
       "    </tr>\n",
       "    <tr>\n",
       "      <th>Hba-x</th>\n",
       "      <td>0.409912</td>\n",
       "      <td>-0.145752</td>\n",
       "      <td>-0.494385</td>\n",
       "      <td>2.945312</td>\n",
       "      <td>3.166016</td>\n",
       "      <td>-0.245972</td>\n",
       "      <td>2.966797</td>\n",
       "      <td>-0.169556</td>\n",
       "      <td>-0.375977</td>\n",
       "      <td>-0.462646</td>\n",
       "      <td>...</td>\n",
       "      <td>-0.627441</td>\n",
       "      <td>-0.453369</td>\n",
       "      <td>-0.015388</td>\n",
       "      <td>-0.108826</td>\n",
       "      <td>0.317627</td>\n",
       "      <td>-0.010666</td>\n",
       "      <td>2.923828</td>\n",
       "      <td>-0.601562</td>\n",
       "      <td>-0.346924</td>\n",
       "      <td>0.152100</td>\n",
       "    </tr>\n",
       "    <tr>\n",
       "      <th>Gfod2</th>\n",
       "      <td>-0.947266</td>\n",
       "      <td>-0.459229</td>\n",
       "      <td>-0.254395</td>\n",
       "      <td>-0.182373</td>\n",
       "      <td>0.062988</td>\n",
       "      <td>0.299316</td>\n",
       "      <td>0.217407</td>\n",
       "      <td>-0.358154</td>\n",
       "      <td>-0.587402</td>\n",
       "      <td>-0.140625</td>\n",
       "      <td>...</td>\n",
       "      <td>0.168213</td>\n",
       "      <td>-0.163818</td>\n",
       "      <td>3.056641</td>\n",
       "      <td>-0.401123</td>\n",
       "      <td>1.704102</td>\n",
       "      <td>-0.355225</td>\n",
       "      <td>-0.213501</td>\n",
       "      <td>-0.847656</td>\n",
       "      <td>0.135742</td>\n",
       "      <td>1.581055</td>\n",
       "    </tr>\n",
       "    <tr>\n",
       "      <th>Mt1</th>\n",
       "      <td>-0.296143</td>\n",
       "      <td>-0.667480</td>\n",
       "      <td>-0.426270</td>\n",
       "      <td>1.979492</td>\n",
       "      <td>1.252930</td>\n",
       "      <td>-0.436035</td>\n",
       "      <td>2.855469</td>\n",
       "      <td>0.118347</td>\n",
       "      <td>-0.274170</td>\n",
       "      <td>1.331055</td>\n",
       "      <td>...</td>\n",
       "      <td>-0.440186</td>\n",
       "      <td>-0.308594</td>\n",
       "      <td>-0.475098</td>\n",
       "      <td>-0.369385</td>\n",
       "      <td>-0.430664</td>\n",
       "      <td>-0.371094</td>\n",
       "      <td>2.318359</td>\n",
       "      <td>-0.437744</td>\n",
       "      <td>-0.575684</td>\n",
       "      <td>-0.642090</td>\n",
       "    </tr>\n",
       "  </tbody>\n",
       "</table>\n",
       "<p>5 rows × 56528 columns</p>\n",
       "</div>"
      ],
      "text/plain": [
       "         AAACCCAAGCCTCACG-1  AAACCCAAGCTCGACC-1  AAACCCAAGTTAACAG-1  \\\n",
       "Hba-a1            -0.366699           -0.303711           -0.294678   \n",
       "Hbb-bh1           -0.391846           -0.164429           -0.295654   \n",
       "Hba-x              0.409912           -0.145752           -0.494385   \n",
       "Gfod2             -0.947266           -0.459229           -0.254395   \n",
       "Mt1               -0.296143           -0.667480           -0.426270   \n",
       "\n",
       "         AAACCCACACCATATG-1  AAACCCAGTCACGCTG-1  AAACCCAGTGCGTTTA-1  \\\n",
       "Hba-a1             2.830078            3.193359           -0.350342   \n",
       "Hbb-bh1            2.917969            3.232422           -0.368408   \n",
       "Hba-x              2.945312            3.166016           -0.245972   \n",
       "Gfod2             -0.182373            0.062988            0.299316   \n",
       "Mt1                1.979492            1.252930           -0.436035   \n",
       "\n",
       "         AAACCCAGTGGCTCTG-1  AAACCCATCCCATAGA-1  AAACGAAAGAAGCTCG-1  \\\n",
       "Hba-a1             2.978516           -0.426758           -0.448486   \n",
       "Hbb-bh1            2.914062           -0.369385           -0.449463   \n",
       "Hba-x              2.966797           -0.169556           -0.375977   \n",
       "Gfod2              0.217407           -0.358154           -0.587402   \n",
       "Mt1                2.855469            0.118347           -0.274170   \n",
       "\n",
       "         AAACGAAAGACTAAGT-1  ...  TTTGGAGTCCCGAGTG-12  TTTGGTTAGTCTAACC-12  \\\n",
       "Hba-a1            -0.161011  ...            -0.313965            -0.265381   \n",
       "Hbb-bh1           -0.322998  ...            -0.771973            -0.245239   \n",
       "Hba-x             -0.462646  ...            -0.627441            -0.453369   \n",
       "Gfod2             -0.140625  ...             0.168213            -0.163818   \n",
       "Mt1                1.331055  ...            -0.440186            -0.308594   \n",
       "\n",
       "         TTTGGTTCACAAAGCG-12  TTTGGTTGTATGAGGC-12  TTTGGTTTCGTGGCTG-12  \\\n",
       "Hba-a1             -0.435791            -0.354004            -0.579102   \n",
       "Hbb-bh1            -0.029694            -0.744141            -0.196533   \n",
       "Hba-x              -0.015388            -0.108826             0.317627   \n",
       "Gfod2               3.056641            -0.401123             1.704102   \n",
       "Mt1                -0.475098            -0.369385            -0.430664   \n",
       "\n",
       "         TTTGTTGAGCAGCGAT-12  TTTGTTGCAGTCCGTG-12  TTTGTTGCAGTTCACA-12  \\\n",
       "Hba-a1             -0.314209             2.933594            -0.290771   \n",
       "Hbb-bh1            -0.491455             2.970703             0.188110   \n",
       "Hba-x              -0.010666             2.923828            -0.601562   \n",
       "Gfod2              -0.355225            -0.213501            -0.847656   \n",
       "Mt1                -0.371094             2.318359            -0.437744   \n",
       "\n",
       "         TTTGTTGGTCGTGTTA-12  TTTGTTGTCCAACCAA-12  \n",
       "Hba-a1             -0.413330            -0.441895  \n",
       "Hbb-bh1            -0.280029            -0.370117  \n",
       "Hba-x              -0.346924             0.152100  \n",
       "Gfod2               0.135742             1.581055  \n",
       "Mt1                -0.575684            -0.642090  \n",
       "\n",
       "[5 rows x 56528 columns]"
      ]
     },
     "execution_count": 83,
     "metadata": {},
     "output_type": "execute_result"
    }
   ],
   "source": [
    "# fname = '/GSE149372_GSM5068636-GSM5068641_scRNA.integrated.scaled.assay105.csv' #'/GSE149372_GSM5068636-GSM5068641_scRNA.normalized.assay105.csv'\n",
    "\n",
    "counts = readLgMat('/GSE149372_GSM5068636-GSM5068641_scRNA.integrated.scaled.assay105.csv')\n",
    "counts.head()"
   ]
  },
  {
   "cell_type": "code",
   "execution_count": 84,
   "metadata": {
    "colab": {
     "base_uri": "https://localhost:8080/"
    },
    "id": "7RWlXY5vw0eN",
    "outputId": "5695c487-6e90-4fbe-a857-e7ffadea3833"
   },
   "outputs": [
    {
     "name": "stdout",
     "output_type": "stream",
     "text": [
      "           Unnamed: 0 orig.ident  nCount_RNA  nFeature_RNA  samples Utero  \\\n",
      "0  AAACCCAAGCCTCACG-1      p10.5        4451          2028        1  ExUt   \n",
      "1  AAACCCAAGCTCGACC-1      p10.5        8096          2793        1  ExUt   \n",
      "2  AAACCCAAGTTAACAG-1      p10.5        6994          2760        1  ExUt   \n",
      "3  AAACCCACACCATATG-1      p10.5       19467          3424        1  ExUt   \n",
      "4  AAACCCAGTCACGCTG-1      p10.5        8205          1481        1  ExUt   \n",
      "\n",
      "   percent.mt  integrated_snn_res.0.3  \n",
      "0    5.526848                       7  \n",
      "1    4.088439                       5  \n",
      "2    3.345725                       5  \n",
      "3    4.166025                       3  \n",
      "4    1.962218                       3  \n"
     ]
    }
   ],
   "source": [
    "cellMeta = pd.read_csv(data_path+'/GSE149372_GSM5068636-GSM5068641_scRNA.MetaData.105.csv')\n",
    "print(cellMeta.head())"
   ]
  },
  {
   "cell_type": "code",
   "execution_count": 85,
   "metadata": {
    "id": "LAQouenFw0eS"
   },
   "outputs": [],
   "source": [
    "#Center and scale data\n",
    "count_mat = counts.values.T"
   ]
  },
  {
   "cell_type": "code",
   "execution_count": 86,
   "metadata": {
    "colab": {
     "base_uri": "https://localhost:8080/"
    },
    "id": "_5Pfm339w0eT",
    "outputId": "59b2c32a-9d72-44d2-ad60-dd7d7feceaf8"
   },
   "outputs": [
    {
     "name": "stderr",
     "output_type": "stream",
     "text": [
      "/home/tchari/.local/lib/python3.7/site-packages/ipykernel_launcher.py:1: FutureWarning: X.dtype being converted to np.float32 from float16. In the next version of anndata (0.9) conversion will not be automatic. Pass dtype explicitly to avoid this warning. Pass `AnnData(X, dtype=X.dtype, ...)` to get the future behavour.\n",
      "  \"\"\"Entry point for launching an IPython kernel.\n"
     ]
    },
    {
     "data": {
      "text/plain": [
       "AnnData object with n_obs × n_vars = 56528 × 2000\n",
       "    obs: 'Utero', 'Cluster'"
      ]
     },
     "execution_count": 86,
     "metadata": {},
     "output_type": "execute_result"
    }
   ],
   "source": [
    "adata = anndata.AnnData(X = count_mat)\n",
    "adata.obs_names = list(counts.columns)\n",
    "adata.var_names = list(counts.index)\n",
    "adata.obs['Utero'] = pd.Categorical(cellMeta.Utero)\n",
    "adata.obs['Cluster'] = pd.Categorical(cellMeta['integrated_snn_res.0.3'])\n",
    "adata"
   ]
  },
  {
   "cell_type": "code",
   "execution_count": 87,
   "metadata": {
    "colab": {
     "base_uri": "https://localhost:8080/"
    },
    "id": "lCRhqwgVw0eT",
    "outputId": "8768dd90-b6d9-42c3-a356-4e17b2135187"
   },
   "outputs": [
    {
     "data": {
      "text/plain": [
       "AnnData object with n_obs × n_vars = 56528 × 2000\n",
       "    obs: 'Utero', 'Cluster'\n",
       "    var: 'mean', 'std'\n",
       "    obsm: 'log'"
      ]
     },
     "execution_count": 87,
     "metadata": {},
     "output_type": "execute_result"
    }
   ],
   "source": [
    "#In paper, use top 2000 HVGs and 15 PCs\n",
    "adata.obsm['log'] = adata.X #Data is already scaled so 'log' here is not just log-normalized\n",
    "\n",
    "sc.pp.scale(adata, max_value=10) #Already scaled\n",
    "adata"
   ]
  },
  {
   "cell_type": "code",
   "execution_count": 88,
   "metadata": {
    "id": "DSgW2ww5w0eZ"
   },
   "outputs": [],
   "source": [
    "count_mat = adata.obsm['log']\n",
    "scaled_mat = adata.X"
   ]
  },
  {
   "cell_type": "code",
   "execution_count": 89,
   "metadata": {
    "id": "ia7ucBPq0SOK"
   },
   "outputs": [],
   "source": [
    "#Set colors for cell clusters\n",
    "colors = np.random.rand(len(adata.obs['Cluster']),3)"
   ]
  },
  {
   "cell_type": "code",
   "execution_count": 90,
   "metadata": {
    "id": "Y8Gw8MJnw0ea"
   },
   "outputs": [],
   "source": [
    "\n",
    "labs = np.array([list(adata.obs['Cluster']),list(adata.obs['Utero'])])\n"
   ]
  },
  {
   "cell_type": "markdown",
   "metadata": {
    "id": "Y39sxboBdkUF"
   },
   "source": [
    "*Original log-normalized counts (post-Seurat integration)*\n",
    "\n"
   ]
  },
  {
   "cell_type": "code",
   "execution_count": 91,
   "metadata": {
    "colab": {
     "base_uri": "https://localhost:8080/"
    },
    "id": "5UEo3-ZYdoRC",
    "outputId": "dc390bb1-da7e-4c41-cce6-a45957368a50"
   },
   "outputs": [
    {
     "data": {
      "text/plain": [
       "(2000, 56528)"
      ]
     },
     "execution_count": 91,
     "metadata": {},
     "output_type": "execute_result"
    }
   ],
   "source": [
    "#GSE149372_GSM5068636-GSM5068641_scRNA.normalized.assay105.csv, Only Log-normalized data, not integrated\n",
    "counts2_orig = readLgMat('/GSE149372_GSM5068636-GSM5068641_scRNA.normalized.assay105.csv')\n",
    "counts2 = counts2_orig.loc[list(adata.var_names)]\n",
    "counts2.shape"
   ]
  },
  {
   "cell_type": "code",
   "execution_count": 92,
   "metadata": {
    "colab": {
     "base_uri": "https://localhost:8080/"
    },
    "id": "no7B3dXI8ESi",
    "outputId": "42865ade-6381-40f9-cc11-120a594340b0"
   },
   "outputs": [
    {
     "data": {
      "text/plain": [
       "(21164, 56528)"
      ]
     },
     "execution_count": 92,
     "metadata": {},
     "output_type": "execute_result"
    }
   ],
   "source": [
    "counts2_orig.shape"
   ]
  },
  {
   "cell_type": "code",
   "execution_count": 93,
   "metadata": {
    "id": "i6qILhlekIMZ"
   },
   "outputs": [],
   "source": [
    "#Center and scale log-normalized data\n",
    "count_mat_orig = counts2.values.T"
   ]
  },
  {
   "cell_type": "code",
   "execution_count": 94,
   "metadata": {
    "colab": {
     "base_uri": "https://localhost:8080/"
    },
    "id": "W0OJkq5pkIMe",
    "outputId": "003eadd2-d907-4b1e-876d-924234e30020"
   },
   "outputs": [
    {
     "name": "stderr",
     "output_type": "stream",
     "text": [
      "/home/tchari/.local/lib/python3.7/site-packages/ipykernel_launcher.py:1: FutureWarning: X.dtype being converted to np.float32 from float16. In the next version of anndata (0.9) conversion will not be automatic. Pass dtype explicitly to avoid this warning. Pass `AnnData(X, dtype=X.dtype, ...)` to get the future behavour.\n",
      "  \"\"\"Entry point for launching an IPython kernel.\n"
     ]
    },
    {
     "data": {
      "text/plain": [
       "AnnData object with n_obs × n_vars = 56528 × 2000\n",
       "    obs: 'Utero', 'Cluster'"
      ]
     },
     "execution_count": 94,
     "metadata": {},
     "output_type": "execute_result"
    }
   ],
   "source": [
    "adata2 = anndata.AnnData(X = count_mat_orig)\n",
    "adata2.obs_names = list(counts2.columns)\n",
    "adata2.var_names = list(counts2.index)\n",
    "adata2.obs['Utero'] = pd.Categorical(cellMeta.Utero)\n",
    "adata2.obs['Cluster'] = pd.Categorical(cellMeta['integrated_snn_res.0.3'])\n",
    "adata2"
   ]
  },
  {
   "cell_type": "code",
   "execution_count": 95,
   "metadata": {
    "colab": {
     "base_uri": "https://localhost:8080/"
    },
    "id": "bdlRPH8XkIMf",
    "outputId": "7dc18bad-11dc-4cdc-a559-e4fea807fee1"
   },
   "outputs": [
    {
     "data": {
      "text/plain": [
       "AnnData object with n_obs × n_vars = 56528 × 2000\n",
       "    obs: 'Utero', 'Cluster'\n",
       "    var: 'mean', 'std'\n",
       "    obsm: 'log'"
      ]
     },
     "execution_count": 95,
     "metadata": {},
     "output_type": "execute_result"
    }
   ],
   "source": [
    "adata2.obsm['log'] = adata2.X #Data matrix is log-normalized \n",
    "\n",
    "adata2.raw = adata2.copy()\n",
    "\n",
    "sc.pp.scale(adata2, max_value=10)\n",
    "adata2"
   ]
  },
  {
   "cell_type": "code",
   "execution_count": 96,
   "metadata": {
    "id": "oJdlC1sfkIMg"
   },
   "outputs": [],
   "source": [
    "count_mat_orig = adata2.obsm['log']\n",
    "scaled_mat_orig = adata2.X"
   ]
  },
  {
   "cell_type": "code",
   "execution_count": 97,
   "metadata": {
    "id": "fQ_w0A8gR2Kj"
   },
   "outputs": [
    {
     "name": "stderr",
     "output_type": "stream",
     "text": [
      "/home/tchari/miniconda3/envs/py37/lib/python3.7/site-packages/sklearn/manifold/_t_sne.py:783: FutureWarning: The default initialization in TSNE will change from 'random' to 'pca' in 1.2.\n",
      "  FutureWarning,\n",
      "/home/tchari/miniconda3/envs/py37/lib/python3.7/site-packages/sklearn/manifold/_t_sne.py:793: FutureWarning: The default learning rate in TSNE will change from 200.0 to 'auto' in 1.2.\n",
      "  FutureWarning,\n",
      "/home/tchari/miniconda3/envs/py37/lib/python3.7/site-packages/sklearn/manifold/_t_sne.py:783: FutureWarning: The default initialization in TSNE will change from 'random' to 'pca' in 1.2.\n",
      "  FutureWarning,\n",
      "/home/tchari/miniconda3/envs/py37/lib/python3.7/site-packages/sklearn/manifold/_t_sne.py:793: FutureWarning: The default learning rate in TSNE will change from 200.0 to 'auto' in 1.2.\n",
      "  FutureWarning,\n",
      "/home/tchari/miniconda3/envs/py37/lib/python3.7/site-packages/sklearn/manifold/_t_sne.py:783: FutureWarning: The default initialization in TSNE will change from 'random' to 'pca' in 1.2.\n",
      "  FutureWarning,\n",
      "/home/tchari/miniconda3/envs/py37/lib/python3.7/site-packages/sklearn/manifold/_t_sne.py:793: FutureWarning: The default learning rate in TSNE will change from 200.0 to 'auto' in 1.2.\n",
      "  FutureWarning,\n",
      "/home/tchari/miniconda3/envs/py37/lib/python3.7/site-packages/sklearn/manifold/_t_sne.py:783: FutureWarning: The default initialization in TSNE will change from 'random' to 'pca' in 1.2.\n",
      "  FutureWarning,\n",
      "/home/tchari/miniconda3/envs/py37/lib/python3.7/site-packages/sklearn/manifold/_t_sne.py:793: FutureWarning: The default learning rate in TSNE will change from 200.0 to 'auto' in 1.2.\n",
      "  FutureWarning,\n",
      "/home/tchari/miniconda3/envs/py37/lib/python3.7/site-packages/sklearn/manifold/_t_sne.py:783: FutureWarning: The default initialization in TSNE will change from 'random' to 'pca' in 1.2.\n",
      "  FutureWarning,\n",
      "/home/tchari/miniconda3/envs/py37/lib/python3.7/site-packages/sklearn/manifold/_t_sne.py:793: FutureWarning: The default learning rate in TSNE will change from 200.0 to 'auto' in 1.2.\n",
      "  FutureWarning,\n",
      "/home/tchari/miniconda3/envs/py37/lib/python3.7/site-packages/sklearn/manifold/_t_sne.py:783: FutureWarning: The default initialization in TSNE will change from 'random' to 'pca' in 1.2.\n",
      "  FutureWarning,\n",
      "/home/tchari/miniconda3/envs/py37/lib/python3.7/site-packages/sklearn/manifold/_t_sne.py:793: FutureWarning: The default learning rate in TSNE will change from 200.0 to 'auto' in 1.2.\n",
      "  FutureWarning,\n",
      "/home/tchari/miniconda3/envs/py37/lib/python3.7/site-packages/sklearn/manifold/_t_sne.py:783: FutureWarning: The default initialization in TSNE will change from 'random' to 'pca' in 1.2.\n",
      "  FutureWarning,\n",
      "/home/tchari/miniconda3/envs/py37/lib/python3.7/site-packages/sklearn/manifold/_t_sne.py:793: FutureWarning: The default learning rate in TSNE will change from 200.0 to 'auto' in 1.2.\n",
      "  FutureWarning,\n",
      "/home/tchari/miniconda3/envs/py37/lib/python3.7/site-packages/sklearn/manifold/_t_sne.py:783: FutureWarning: The default initialization in TSNE will change from 'random' to 'pca' in 1.2.\n",
      "  FutureWarning,\n",
      "/home/tchari/miniconda3/envs/py37/lib/python3.7/site-packages/sklearn/manifold/_t_sne.py:793: FutureWarning: The default learning rate in TSNE will change from 200.0 to 'auto' in 1.2.\n",
      "  FutureWarning,\n",
      "/home/tchari/miniconda3/envs/py37/lib/python3.7/site-packages/sklearn/manifold/_t_sne.py:783: FutureWarning: The default initialization in TSNE will change from 'random' to 'pca' in 1.2.\n",
      "  FutureWarning,\n",
      "/home/tchari/miniconda3/envs/py37/lib/python3.7/site-packages/sklearn/manifold/_t_sne.py:793: FutureWarning: The default learning rate in TSNE will change from 200.0 to 'auto' in 1.2.\n",
      "  FutureWarning,\n",
      "/home/tchari/miniconda3/envs/py37/lib/python3.7/site-packages/sklearn/manifold/_t_sne.py:783: FutureWarning: The default initialization in TSNE will change from 'random' to 'pca' in 1.2.\n",
      "  FutureWarning,\n",
      "/home/tchari/miniconda3/envs/py37/lib/python3.7/site-packages/sklearn/manifold/_t_sne.py:793: FutureWarning: The default learning rate in TSNE will change from 200.0 to 'auto' in 1.2.\n",
      "  FutureWarning,\n",
      "/home/tchari/miniconda3/envs/py37/lib/python3.7/site-packages/sklearn/manifold/_t_sne.py:783: FutureWarning: The default initialization in TSNE will change from 'random' to 'pca' in 1.2.\n",
      "  FutureWarning,\n",
      "/home/tchari/miniconda3/envs/py37/lib/python3.7/site-packages/sklearn/manifold/_t_sne.py:793: FutureWarning: The default learning rate in TSNE will change from 200.0 to 'auto' in 1.2.\n",
      "  FutureWarning,\n",
      "/home/tchari/miniconda3/envs/py37/lib/python3.7/site-packages/sklearn/manifold/_t_sne.py:783: FutureWarning: The default initialization in TSNE will change from 'random' to 'pca' in 1.2.\n",
      "  FutureWarning,\n",
      "/home/tchari/miniconda3/envs/py37/lib/python3.7/site-packages/sklearn/manifold/_t_sne.py:793: FutureWarning: The default learning rate in TSNE will change from 200.0 to 'auto' in 1.2.\n",
      "  FutureWarning,\n"
     ]
    },
    {
     "name": "stdout",
     "output_type": "stream",
     "text": [
      "PCA 15D\n",
      "0.9650512613264025\n",
      "PCA 15D t-SNE\n",
      "0.9697993113335356\n",
      "PCA 15D UMAP\n",
      "0.9721941180917056\n",
      "PCA 50D\n",
      "0.9558119780769273\n",
      "PCA 50D t-SNE\n",
      "0.964721674489591\n",
      "PCA 50D UMAP\n",
      "0.9681370364803321\n",
      "PCA 100D\n",
      "0.9514024473201577\n",
      "PCA 100D t-SNE\n",
      "0.9635552304665477\n",
      "PCA 100D UMAP\n",
      "0.9672455323340493\n",
      "PCA 2D\n",
      "0.9788980290517258\n",
      "t-SNE 2D\n",
      "0.9652263976396027\n",
      "UMAP 2D\n",
      "0.9700293887144303\n",
      "PCA 15D\n",
      "0.9650519989570752\n",
      "PCA 15D t-SNE\n",
      "0.9697681982065561\n",
      "PCA 15D UMAP\n",
      "0.9720438499905514\n",
      "PCA 50D\n",
      "0.9557917945860406\n",
      "PCA 50D t-SNE\n",
      "0.964807270217581\n",
      "PCA 50D UMAP\n",
      "0.9682926660361831\n",
      "PCA 100D\n",
      "0.951449459872179\n",
      "PCA 100D t-SNE\n",
      "0.9634498681831514\n",
      "PCA 100D UMAP\n",
      "0.967097139293659\n",
      "PCA 2D\n",
      "0.9788977533177059\n",
      "t-SNE 2D\n",
      "0.9651577662562948\n",
      "UMAP 2D\n",
      "0.9701081881611423\n",
      "PCA 15D\n",
      "0.9650791256126945\n",
      "PCA 15D t-SNE\n",
      "0.9697298170345153\n",
      "PCA 15D UMAP\n",
      "0.9721871378126455\n",
      "PCA 50D\n",
      "0.9558392161635098\n",
      "PCA 50D t-SNE\n",
      "0.9648419337888506\n",
      "PCA 50D UMAP\n",
      "0.9680928546588787\n",
      "PCA 100D\n",
      "0.9514162744265787\n",
      "PCA 100D t-SNE\n",
      "0.9634231971930964\n",
      "PCA 100D UMAP\n",
      "0.9671966407727906\n",
      "PCA 2D\n",
      "0.9788980399350801\n",
      "t-SNE 2D\n",
      "0.9651812131233286\n",
      "UMAP 2D\n",
      "0.970124902945846\n",
      "          x   latent\n",
      "0  0.888889  PCA 15D\n",
      "1  0.965517  PCA 15D\n",
      "2  0.965517  PCA 15D\n",
      "3  0.965517  PCA 15D\n",
      "4  0.983051  PCA 15D\n"
     ]
    },
    {
     "name": "stderr",
     "output_type": "stream",
     "text": [
      "/home/tchari/miniconda3/envs/py37/lib/python3.7/site-packages/sklearn/manifold/_t_sne.py:783: FutureWarning: The default initialization in TSNE will change from 'random' to 'pca' in 1.2.\n",
      "  FutureWarning,\n",
      "/home/tchari/miniconda3/envs/py37/lib/python3.7/site-packages/sklearn/manifold/_t_sne.py:793: FutureWarning: The default learning rate in TSNE will change from 200.0 to 'auto' in 1.2.\n",
      "  FutureWarning,\n"
     ]
    },
    {
     "name": "stdout",
     "output_type": "stream",
     "text": [
      "PCA 15D t-SNE\n",
      "0.7120256695309727\n",
      "PCA 15D UMAP\n",
      "0.8089250494846375\n"
     ]
    },
    {
     "name": "stderr",
     "output_type": "stream",
     "text": [
      "/home/tchari/miniconda3/envs/py37/lib/python3.7/site-packages/sklearn/manifold/_t_sne.py:783: FutureWarning: The default initialization in TSNE will change from 'random' to 'pca' in 1.2.\n",
      "  FutureWarning,\n",
      "/home/tchari/miniconda3/envs/py37/lib/python3.7/site-packages/sklearn/manifold/_t_sne.py:793: FutureWarning: The default learning rate in TSNE will change from 200.0 to 'auto' in 1.2.\n",
      "  FutureWarning,\n"
     ]
    },
    {
     "name": "stdout",
     "output_type": "stream",
     "text": [
      "PCA 15D t-SNE\n",
      "0.7120256695309727\n",
      "PCA 15D UMAP\n",
      "0.8089250494846375\n",
      "PCA 15D t-SNE\n",
      "0.7121737848391115\n",
      "PCA 15D UMAP\n",
      "0.8063645410425301\n"
     ]
    },
    {
     "name": "stderr",
     "output_type": "stream",
     "text": [
      "/home/tchari/miniconda3/envs/py37/lib/python3.7/site-packages/sklearn/manifold/_t_sne.py:783: FutureWarning: The default initialization in TSNE will change from 'random' to 'pca' in 1.2.\n",
      "  FutureWarning,\n",
      "/home/tchari/miniconda3/envs/py37/lib/python3.7/site-packages/sklearn/manifold/_t_sne.py:793: FutureWarning: The default learning rate in TSNE will change from 200.0 to 'auto' in 1.2.\n",
      "  FutureWarning,\n"
     ]
    },
    {
     "name": "stdout",
     "output_type": "stream",
     "text": [
      "PCA 15D t-SNE\n",
      "0.7120256695309727\n",
      "PCA 15D UMAP\n",
      "0.8089250494846375\n",
      "PCA 15D t-SNE\n",
      "0.7121737848391115\n",
      "PCA 15D UMAP\n",
      "0.8063645410425301\n",
      "PCA 15D t-SNE\n",
      "0.7127307526101223\n",
      "PCA 15D UMAP\n",
      "0.809936309162712\n"
     ]
    },
    {
     "name": "stderr",
     "output_type": "stream",
     "text": [
      "/home/tchari/miniconda3/envs/py37/lib/python3.7/site-packages/sklearn/manifold/_t_sne.py:783: FutureWarning: The default initialization in TSNE will change from 'random' to 'pca' in 1.2.\n",
      "  FutureWarning,\n",
      "/home/tchari/miniconda3/envs/py37/lib/python3.7/site-packages/sklearn/manifold/_t_sne.py:793: FutureWarning: The default learning rate in TSNE will change from 200.0 to 'auto' in 1.2.\n",
      "  FutureWarning,\n"
     ]
    },
    {
     "name": "stdout",
     "output_type": "stream",
     "text": [
      "PCA 15D t-SNE\n",
      "0.8567805621805934\n",
      "PCA 15D UMAP\n",
      "0.8958471868658483\n",
      "PCA 15D t-SNE\n",
      "0.8568581490831922\n",
      "PCA 15D UMAP\n",
      "0.8942194536104022\n",
      "PCA 15D t-SNE\n",
      "0.8575507927288293\n",
      "PCA 15D UMAP\n",
      "0.8963642345267401\n",
      "PCA 50D t-SNE\n",
      "0.757752064815268\n",
      "PCA 50D UMAP\n",
      "0.8351824917579144\n"
     ]
    },
    {
     "name": "stderr",
     "output_type": "stream",
     "text": [
      "/home/tchari/miniconda3/envs/py37/lib/python3.7/site-packages/sklearn/manifold/_t_sne.py:783: FutureWarning: The default initialization in TSNE will change from 'random' to 'pca' in 1.2.\n",
      "  FutureWarning,\n",
      "/home/tchari/miniconda3/envs/py37/lib/python3.7/site-packages/sklearn/manifold/_t_sne.py:793: FutureWarning: The default learning rate in TSNE will change from 200.0 to 'auto' in 1.2.\n",
      "  FutureWarning,\n"
     ]
    },
    {
     "name": "stdout",
     "output_type": "stream",
     "text": [
      "PCA 15D t-SNE\n",
      "0.8567805621805934\n",
      "PCA 15D UMAP\n",
      "0.8958471868658483\n",
      "PCA 15D t-SNE\n",
      "0.8568581490831922\n",
      "PCA 15D UMAP\n",
      "0.8942194536104022\n",
      "PCA 15D t-SNE\n",
      "0.8575507927288293\n",
      "PCA 15D UMAP\n",
      "0.8963642345267401\n",
      "PCA 50D t-SNE\n",
      "0.757752064815268\n",
      "PCA 50D UMAP\n",
      "0.8351824917579144\n",
      "PCA 50D t-SNE\n",
      "0.7578415800826683\n",
      "PCA 50D UMAP\n",
      "0.837077092401796\n"
     ]
    },
    {
     "name": "stderr",
     "output_type": "stream",
     "text": [
      "/home/tchari/miniconda3/envs/py37/lib/python3.7/site-packages/sklearn/manifold/_t_sne.py:783: FutureWarning: The default initialization in TSNE will change from 'random' to 'pca' in 1.2.\n",
      "  FutureWarning,\n",
      "/home/tchari/miniconda3/envs/py37/lib/python3.7/site-packages/sklearn/manifold/_t_sne.py:793: FutureWarning: The default learning rate in TSNE will change from 200.0 to 'auto' in 1.2.\n",
      "  FutureWarning,\n"
     ]
    },
    {
     "name": "stdout",
     "output_type": "stream",
     "text": [
      "PCA 15D t-SNE\n",
      "0.8567805621805934\n",
      "PCA 15D UMAP\n",
      "0.8958471868658483\n",
      "PCA 15D t-SNE\n",
      "0.8568581490831922\n",
      "PCA 15D UMAP\n",
      "0.8942194536104022\n",
      "PCA 15D t-SNE\n",
      "0.8575507927288293\n",
      "PCA 15D UMAP\n",
      "0.8963642345267401\n",
      "PCA 50D t-SNE\n",
      "0.757752064815268\n",
      "PCA 50D UMAP\n",
      "0.8351824917579144\n",
      "PCA 50D t-SNE\n",
      "0.7578415800826683\n",
      "PCA 50D UMAP\n",
      "0.837077092401796\n",
      "PCA 50D t-SNE\n",
      "0.7577552332782164\n",
      "PCA 50D UMAP\n",
      "0.8393525070655325\n"
     ]
    },
    {
     "name": "stderr",
     "output_type": "stream",
     "text": [
      "/home/tchari/miniconda3/envs/py37/lib/python3.7/site-packages/sklearn/manifold/_t_sne.py:783: FutureWarning: The default initialization in TSNE will change from 'random' to 'pca' in 1.2.\n",
      "  FutureWarning,\n",
      "/home/tchari/miniconda3/envs/py37/lib/python3.7/site-packages/sklearn/manifold/_t_sne.py:793: FutureWarning: The default learning rate in TSNE will change from 200.0 to 'auto' in 1.2.\n",
      "  FutureWarning,\n"
     ]
    },
    {
     "name": "stdout",
     "output_type": "stream",
     "text": [
      "PCA 15D t-SNE\n",
      "0.8824521650635896\n",
      "PCA 15D UMAP\n",
      "0.912794692291516\n",
      "PCA 15D t-SNE\n",
      "0.8824778046928831\n",
      "PCA 15D UMAP\n",
      "0.9115121429107718\n",
      "PCA 15D t-SNE\n",
      "0.8831477620271561\n",
      "PCA 15D UMAP\n",
      "0.913176644962632\n",
      "PCA 50D t-SNE\n",
      "0.8116720169018444\n",
      "PCA 50D UMAP\n",
      "0.8661918182144492\n",
      "PCA 50D t-SNE\n",
      "0.8118062815368956\n",
      "PCA 50D UMAP\n",
      "0.8674627766473044\n",
      "PCA 50D t-SNE\n",
      "0.8117878737091357\n",
      "PCA 50D UMAP\n",
      "0.869203302475816\n",
      "PCA 100D t-SNE\n",
      "0.7979410367401543\n",
      "PCA 100D UMAP\n",
      "0.8602330702879005\n"
     ]
    },
    {
     "name": "stderr",
     "output_type": "stream",
     "text": [
      "/home/tchari/miniconda3/envs/py37/lib/python3.7/site-packages/sklearn/manifold/_t_sne.py:783: FutureWarning: The default initialization in TSNE will change from 'random' to 'pca' in 1.2.\n",
      "  FutureWarning,\n",
      "/home/tchari/miniconda3/envs/py37/lib/python3.7/site-packages/sklearn/manifold/_t_sne.py:793: FutureWarning: The default learning rate in TSNE will change from 200.0 to 'auto' in 1.2.\n",
      "  FutureWarning,\n"
     ]
    },
    {
     "name": "stdout",
     "output_type": "stream",
     "text": [
      "PCA 15D t-SNE\n",
      "0.8824521650635896\n",
      "PCA 15D UMAP\n",
      "0.912794692291516\n",
      "PCA 15D t-SNE\n",
      "0.8824778046928831\n",
      "PCA 15D UMAP\n",
      "0.9115121429107718\n",
      "PCA 15D t-SNE\n",
      "0.8831477620271561\n",
      "PCA 15D UMAP\n",
      "0.913176644962632\n",
      "PCA 50D t-SNE\n",
      "0.8116720169018444\n",
      "PCA 50D UMAP\n",
      "0.8661918182144492\n",
      "PCA 50D t-SNE\n",
      "0.8118062815368956\n",
      "PCA 50D UMAP\n",
      "0.8674627766473044\n",
      "PCA 50D t-SNE\n",
      "0.8117878737091357\n",
      "PCA 50D UMAP\n",
      "0.869203302475816\n",
      "PCA 100D t-SNE\n",
      "0.7979410367401543\n",
      "PCA 100D UMAP\n",
      "0.8602330702879005\n",
      "PCA 100D t-SNE\n",
      "0.7981615185714361\n",
      "PCA 100D UMAP\n",
      "0.8609911346837897\n"
     ]
    },
    {
     "name": "stderr",
     "output_type": "stream",
     "text": [
      "/home/tchari/miniconda3/envs/py37/lib/python3.7/site-packages/sklearn/manifold/_t_sne.py:783: FutureWarning: The default initialization in TSNE will change from 'random' to 'pca' in 1.2.\n",
      "  FutureWarning,\n",
      "/home/tchari/miniconda3/envs/py37/lib/python3.7/site-packages/sklearn/manifold/_t_sne.py:793: FutureWarning: The default learning rate in TSNE will change from 200.0 to 'auto' in 1.2.\n",
      "  FutureWarning,\n"
     ]
    },
    {
     "name": "stdout",
     "output_type": "stream",
     "text": [
      "PCA 15D t-SNE\n",
      "0.8824521650635896\n",
      "PCA 15D UMAP\n",
      "0.912794692291516\n",
      "PCA 15D t-SNE\n",
      "0.8824778046928831\n",
      "PCA 15D UMAP\n",
      "0.9115121429107718\n",
      "PCA 15D t-SNE\n",
      "0.8831477620271561\n",
      "PCA 15D UMAP\n",
      "0.913176644962632\n",
      "PCA 50D t-SNE\n",
      "0.8116720169018444\n",
      "PCA 50D UMAP\n",
      "0.8661918182144492\n",
      "PCA 50D t-SNE\n",
      "0.8118062815368956\n",
      "PCA 50D UMAP\n",
      "0.8674627766473044\n",
      "PCA 50D t-SNE\n",
      "0.8117878737091357\n",
      "PCA 50D UMAP\n",
      "0.869203302475816\n",
      "PCA 100D t-SNE\n",
      "0.7979410367401543\n",
      "PCA 100D UMAP\n",
      "0.8602330702879005\n",
      "PCA 100D t-SNE\n",
      "0.7981615185714361\n",
      "PCA 100D UMAP\n",
      "0.8609911346837897\n",
      "PCA 100D t-SNE\n",
      "0.7983262619730073\n",
      "PCA 100D UMAP\n",
      "0.8599033127386373\n",
      "          x         latent\n",
      "0  0.285714  PCA 15D t-SNE\n",
      "1  0.823529  PCA 15D t-SNE\n",
      "2  0.823529  PCA 15D t-SNE\n",
      "3  0.666667  PCA 15D t-SNE\n",
      "4  0.909091  PCA 15D t-SNE\n"
     ]
    }
   ],
   "source": [
    "#Get KNN Jaccard distances\n",
    "e105Amb = latentComp(scaled_mat,count_mat_orig, ndims=2, pcs=[15,50,100], rounds = 3,set_p=2)\n",
    "print(e105Amb.head())\n",
    "e105PCAAmb = latentPCAComp(scaled_mat, ndims=2, pcs=[15,50,100], rounds = 3,set_p=2)\n",
    "print(e105PCAAmb.head())"
   ]
  },
  {
   "cell_type": "code",
   "execution_count": 98,
   "metadata": {
    "id": "taQ9Udx5au2V"
   },
   "outputs": [],
   "source": [
    "\n",
    "e105Amb.to_csv('allOuts/e105Amb.csv')\n",
    "e105PCAAmb.to_csv('allOuts/e105PCAAmb.csv')"
   ]
  },
  {
   "cell_type": "code",
   "execution_count": null,
   "metadata": {
    "id": "yJ6E7qoXb9Po"
   },
   "outputs": [],
   "source": [
    "!zip -r ./allOuts.zip allOuts\n",
    "\n",
    "# # from google.colab import files\n",
    "# # files.download(\"/content/allOuts.zip\")"
   ]
  }
 ],
 "metadata": {
  "colab": {
   "authorship_tag": "ABX9TyOdgnqTTsHRmiGY1GdhcX2i",
   "collapsed_sections": [],
   "include_colab_link": true,
   "name": "all2DDistortions.ipynb",
   "provenance": [],
   "toc_visible": true
  },
  "kernelspec": {
   "display_name": "Python 3 (ipykernel)",
   "language": "python",
   "name": "python3"
  },
  "language_info": {
   "codemirror_mode": {
    "name": "ipython",
    "version": 3
   },
   "file_extension": ".py",
   "mimetype": "text/x-python",
   "name": "python",
   "nbconvert_exporter": "python",
   "pygments_lexer": "ipython3",
   "version": "3.7.11"
  }
 },
 "nbformat": 4,
 "nbformat_minor": 1
}
