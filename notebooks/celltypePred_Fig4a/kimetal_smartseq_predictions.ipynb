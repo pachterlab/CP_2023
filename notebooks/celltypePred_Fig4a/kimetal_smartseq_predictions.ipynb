{
  "cells": [
    {
      "cell_type": "markdown",
      "metadata": {
        "id": "view-in-github",
        "colab_type": "text"
      },
      "source": [
        "<a href=\"https://colab.research.google.com/github/pachterlab/CP_2023/blob/main/notebooks/celltypePred_Fig4a/kimetal_smartseq_predictions.ipynb\" target=\"_parent\"><img src=\"https://colab.research.google.com/assets/colab-badge.svg\" alt=\"Open In Colab\"/></a>"
      ]
    },
    {
      "cell_type": "code",
      "execution_count": null,
      "metadata": {
        "colab": {
          "base_uri": "https://localhost:8080/",
          "height": 197,
          "referenced_widgets": [
            "801c446196ce4548b991d2c7a863c7eb",
            "42ae51d9ab92412c9892a06d50209e3f",
            "fd7853af99644f939263dc9a575aa002",
            "bbb1c07fbd3549cca22f720126ba75f9",
            "04b7b71796d642cb9a0b9874e95aa9bc",
            "909424474c184a7d90f25894f571c801",
            "823298f317954343a2b337ad2a1817bf",
            "bb1fbe91d5ef4d84a455f9a6aa1af632",
            "3e16ce0f2dd74524859c0c71ea1f41e0",
            "88dd04e521204b61b14314d785a01309",
            "21678f1c89f84bbaa229cda20665d049",
            "70d3dbcc3d55449f8089903ff46a26c4",
            "0565ee90c12c4e8d9f0a4565d45498c4",
            "36515c65b9bc49ee8970ee0940e999de",
            "ec5c23779acd462e90a1fe45c739a116",
            "105803edecd44eb6a160b17b7f2b0b3f",
            "fd3f7dd43061454eac8a8644442699f4",
            "c0165bcc87904aea9313d63babea9278",
            "298b702cf3a146239700838f5f9970f7",
            "bf63c4c474ca4d3f8a4c5d2b9d6414ca",
            "ef0c464789c849a1841372a9f0114ac0",
            "bde8d2bcf7184ac1a477e70b1d566fc8",
            "9ebea125c4d4409e86cf9a9d8ddeaef9",
            "c886952db0e847d2b028959f0df0029f",
            "1cbea169a4de42568ec23489719deecc",
            "9be3765bedf2499a9b2b9c1f7016513e",
            "c1abbce317ce4751a6a258749ac52b24",
            "e14ea1ad853646728e6d65e68a5e6d66",
            "97e0eafb113e4fd3963b1ed258929d17",
            "ac7016bea50542ddb43f3751f899466e",
            "8f561ea67bbb489d92170b26a4ddf407",
            "6810a7b463284c6ca9db5522a01419d3",
            "96ef7876770e48fa9179be0de0cf9b11",
            "56eae7d16ebc46aa9dddfa3b31a90dd9",
            "57fc0c6c6a89490b83680c54f39047fe",
            "93706ad603fb4869b07ccfcd5730d49f",
            "ff86a48afb9e4a909780224714a1b3fc",
            "6f11ed5ed43b4f1aa63d0ccb7cbe7da2",
            "a0fcc5945448495b8bf03269b166ed45",
            "be0ab7d5e55848338d9a21558fcdc66e",
            "9f49fe7a1ba14e6bb75b5fe136690664",
            "4230ca5402334567a46f67985530345f",
            "5471fb35a4244cb2a3417ceb496e7ceb",
            "973e48262c4740939e4e0d130a41b5cb"
          ]
        },
        "id": "MyVLNOaZSjZ-",
        "outputId": "ad80343e-1aa0-4b9d-9cd4-76b46106158b"
      },
      "outputs": [
        {
          "output_type": "stream",
          "name": "stderr",
          "text": [
            "<ipython-input-1-af385812caee>:21: TqdmDeprecationWarning: Please use `tqdm.notebook.trange` instead of `tqdm.tnrange`\n",
            "  pbar = tnrange(int(total_length/1024), unit=\"B\")\n"
          ]
        },
        {
          "output_type": "display_data",
          "data": {
            "text/plain": [
              "  0%|          | 0/64 [00:00<?, ?B/s]"
            ],
            "application/vnd.jupyter.widget-view+json": {
              "version_major": 2,
              "version_minor": 0,
              "model_id": "801c446196ce4548b991d2c7a863c7eb"
            }
          },
          "metadata": {}
        },
        {
          "output_type": "display_data",
          "data": {
            "text/plain": [
              "  0%|          | 0/26700 [00:00<?, ?B/s]"
            ],
            "application/vnd.jupyter.widget-view+json": {
              "version_major": 2,
              "version_minor": 0,
              "model_id": "70d3dbcc3d55449f8089903ff46a26c4"
            }
          },
          "metadata": {}
        },
        {
          "output_type": "display_data",
          "data": {
            "text/plain": [
              "  0%|          | 0/16654 [00:00<?, ?B/s]"
            ],
            "application/vnd.jupyter.widget-view+json": {
              "version_major": 2,
              "version_minor": 0,
              "model_id": "9ebea125c4d4409e86cf9a9d8ddeaef9"
            }
          },
          "metadata": {}
        },
        {
          "output_type": "display_data",
          "data": {
            "text/plain": [
              "  0%|          | 0/11 [00:00<?, ?B/s]"
            ],
            "application/vnd.jupyter.widget-view+json": {
              "version_major": 2,
              "version_minor": 0,
              "model_id": "56eae7d16ebc46aa9dddfa3b31a90dd9"
            }
          },
          "metadata": {}
        },
        {
          "output_type": "execute_result",
          "data": {
            "text/plain": [
              "0"
            ]
          },
          "metadata": {},
          "execution_count": 1
        }
      ],
      "source": [
        "import requests\n",
        "import os\n",
        "\n",
        "\n",
        "from tqdm import tnrange, tqdm_notebook\n",
        "def download_file(doi,ext):\n",
        "\turl = 'https://api.datacite.org/dois/'+doi+'/media'\n",
        "\tr = requests.get(url).json()\n",
        "\tnetcdf_url = r['data'][0]['attributes']['url']\n",
        "\tr = requests.get(netcdf_url,stream=True)\n",
        "\t#Set file name\n",
        "\tfname = doi.split('/')[-1]+ext\n",
        "\t#Download file with progress bar\n",
        "\tif r.status_code == 403:\n",
        "\t\tprint(\"File Unavailable\")\n",
        "\tif 'content-length' not in r.headers:\n",
        "\t\tprint(\"Did not get file\")\n",
        "\telse:\n",
        "\t\twith open(fname, 'wb') as f:\n",
        "\t\t\ttotal_length = int(r.headers.get('content-length'))\n",
        "\t\t\tpbar = tnrange(int(total_length/1024), unit=\"B\")\n",
        "\t\t\tfor chunk in r.iter_content(chunk_size=1024):\n",
        "\t\t\t\tif chunk:\n",
        "\t\t\t\t\tpbar.update()\n",
        "\t\t\t\t\tf.write(chunk)\n",
        "\t\treturn fname\n",
        "\n",
        "\n",
        "#SMART-seq VMH data\n",
        "#metadata.csv\n",
        "download_file('10.22002/D1.2067','.gz')\n",
        "\n",
        "#smartseq.mtx (log counts)\n",
        "download_file('10.22002/D1.2071','.gz')\n",
        "\n",
        "#smartseq.mtx (raw counts)\n",
        "download_file('10.22002/D1.2070','.gz')\n",
        "\n",
        "#gene names\n",
        "download_file('10.22002/D1.2068','.gz')\n",
        "\n",
        "\n",
        "os.system(\"gunzip *.gz\")\n",
        "\n",
        "os.system(\"mv D1.2067 metadata.csv\")\n",
        "os.system(\"mv D1.2071 smartseq.mtx\")\n",
        "\n",
        "os.system(\"mv D1.2070 smartseqCount.mtx\")\n",
        "os.system(\"mv D1.2068 gene_names.npy\")"
      ]
    },
    {
      "cell_type": "code",
      "execution_count": null,
      "metadata": {
        "colab": {
          "base_uri": "https://localhost:8080/",
          "height": 156
        },
        "id": "Pxuxe1toQFda",
        "outputId": "54f3e2cd-510e-4fd7-edae-f0bdde9e8451"
      },
      "outputs": [
        {
          "output_type": "stream",
          "name": "stdout",
          "text": [
            "Cloning into 'CP_2023'...\n",
            "remote: Enumerating objects: 1299, done.\u001b[K\n",
            "remote: Counting objects: 100% (1299/1299), done.\u001b[K\n",
            "remote: Compressing objects: 100% (536/536), done.\u001b[K\n",
            "remote: Total 1299 (delta 742), reused 1283 (delta 730), pack-reused 0\u001b[K\n",
            "Receiving objects: 100% (1299/1299), 436.00 MiB | 20.26 MiB/s, done.\n",
            "Resolving deltas: 100% (742/742), done.\n",
            "Updating files: 100% (138/138), done.\n"
          ]
        }
      ],
      "source": [
        "!git clone https://github.com/pachterlab/CP_2023.git"
      ]
    },
    {
      "cell_type": "code",
      "execution_count": null,
      "metadata": {
        "colab": {
          "base_uri": "https://localhost:8080/"
        },
        "id": "F94aH4Shey2P",
        "outputId": "a321ce4c-f611-4086-edab-5fdc77a0ec9c"
      },
      "outputs": [
        {
          "output_type": "stream",
          "name": "stdout",
          "text": [
            "/content\n"
          ]
        }
      ],
      "source": [
        "!pwd"
      ]
    },
    {
      "cell_type": "code",
      "execution_count": null,
      "metadata": {
        "id": "kSBCaM47iK19"
      },
      "outputs": [],
      "source": []
    },
    {
      "cell_type": "code",
      "execution_count": null,
      "metadata": {
        "colab": {
          "base_uri": "https://localhost:8080/"
        },
        "id": "iA-3Y-DlQOKH",
        "outputId": "79ab7d8a-6238-4f62-f921-44bcb33d9dd7"
      },
      "outputs": [
        {
          "output_type": "stream",
          "name": "stdout",
          "text": [
            "\u001b[2K     \u001b[90m━━━━━━━━━━━━━━━━━━━━━━━━━━━━━━━━━━━━━━━\u001b[0m \u001b[32m103.0/103.0 kB\u001b[0m \u001b[31m7.8 MB/s\u001b[0m eta \u001b[36m0:00:00\u001b[0m\n",
            "\u001b[2K     \u001b[90m━━━━━━━━━━━━━━━━━━━━━━━━━━━━━━━━━━━━━━━━\u001b[0m \u001b[32m2.0/2.0 MB\u001b[0m \u001b[31m51.8 MB/s\u001b[0m eta \u001b[36m0:00:00\u001b[0m\n",
            "\u001b[2K     \u001b[90m━━━━━━━━━━━━━━━━━━━━━━━━━━━━━━━━━━━━━━━━\u001b[0m \u001b[32m88.2/88.2 kB\u001b[0m \u001b[31m12.0 MB/s\u001b[0m eta \u001b[36m0:00:00\u001b[0m\n",
            "\u001b[?25h  Preparing metadata (setup.py) ... \u001b[?25l\u001b[?25hdone\n",
            "  Preparing metadata (setup.py) ... \u001b[?25l\u001b[?25hdone\n",
            "\u001b[2K     \u001b[90m━━━━━━━━━━━━━━━━━━━━━━━━━━━━━━━━━━━━━━━━\u001b[0m \u001b[32m1.1/1.1 MB\u001b[0m \u001b[31m75.8 MB/s\u001b[0m eta \u001b[36m0:00:00\u001b[0m\n",
            "\u001b[?25h  Preparing metadata (setup.py) ... \u001b[?25l\u001b[?25hdone\n",
            "\u001b[2K     \u001b[90m━━━━━━━━━━━━━━━━━━━━━━━━━━━━━━━━━━━━━━━━\u001b[0m \u001b[32m75.6/75.6 kB\u001b[0m \u001b[31m4.1 MB/s\u001b[0m eta \u001b[36m0:00:00\u001b[0m\n",
            "\u001b[?25h  Building wheel for umap-learn (setup.py) ... \u001b[?25l\u001b[?25hdone\n",
            "  Building wheel for session-info (setup.py) ... \u001b[?25l\u001b[?25hdone\n",
            "  Building wheel for pynndescent (setup.py) ... \u001b[?25l\u001b[?25hdone\n"
          ]
        }
      ],
      "source": [
        "!pip3 install --quiet torch\n",
        "!pip3 install --quiet anndata\n",
        "!pip3 install --quiet matplotlib\n",
        "!pip3 install --quiet scikit-learn\n",
        "!pip3 install --quiet torchsummary\n",
        "!pip install --quiet scanpy\n",
        "# !pip3 install --quiet scvi-tools"
      ]
    },
    {
      "cell_type": "code",
      "execution_count": null,
      "metadata": {
        "colab": {
          "base_uri": "https://localhost:8080/"
        },
        "id": "HYT4qYdJxK7V",
        "outputId": "612759ec-c11b-46dd-e04f-c78f8518a22f"
      },
      "outputs": [
        {
          "output_type": "stream",
          "name": "stdout",
          "text": [
            "/content/CP_2023/scripts\n"
          ]
        }
      ],
      "source": [
        "%cd /content/CP_2023/scripts"
      ]
    },
    {
      "cell_type": "markdown",
      "metadata": {
        "id": "xC275rCuQpgV"
      },
      "source": [
        "## **Install Packages**"
      ]
    },
    {
      "cell_type": "code",
      "execution_count": null,
      "metadata": {
        "id": "48xvpJbyQSKT"
      },
      "outputs": [],
      "source": [
        "import anndata\n",
        "import pandas as pd\n",
        "import numpy as np\n",
        "\n",
        "import random\n",
        "\n",
        "from sklearn.decomposition import TruncatedSVD\n",
        "from sklearn.manifold import TSNE\n",
        "import matplotlib.pyplot as plt\n",
        "from sklearn.neighbors import NeighborhoodComponentsAnalysis, NearestNeighbors\n",
        "from sklearn.metrics import pairwise_distances\n",
        "from sklearn.metrics import accuracy_score\n",
        "from sklearn.preprocessing import scale\n",
        "import torch\n",
        "import time\n",
        "import scanpy as sc\n",
        "import seaborn as sns\n",
        "import umap\n",
        "from scipy import stats\n",
        "import scipy.io as sio\n",
        "sns.set_style('white')"
      ]
    },
    {
      "cell_type": "markdown",
      "metadata": {
        "id": "7Xlo5rzVQrqM"
      },
      "source": [
        "## **Import Data**"
      ]
    },
    {
      "cell_type": "code",
      "execution_count": null,
      "metadata": {
        "id": "4gtBWZVoQjKh"
      },
      "outputs": [],
      "source": [
        "plt.rcParams[\"font.family\"] = \"sans-serif\"\n",
        "plt.rcParams['axes.linewidth'] = 0.1\n",
        "\n",
        "state = 42\n",
        "ndims = 2\n",
        "\n",
        "data_path = '../..'\n",
        "\n",
        "pcs = 50\n",
        "pcs2 = 40\n",
        "n_latent = 50"
      ]
    },
    {
      "cell_type": "code",
      "execution_count": null,
      "metadata": {
        "colab": {
          "base_uri": "https://localhost:8080/"
        },
        "id": "NtpIixyGFiMw",
        "outputId": "f10b52ce-2649-4c7d-cff4-1ff04b66737f"
      },
      "outputs": [
        {
          "output_type": "execute_result",
          "data": {
            "text/plain": [
              "(3850, 1999)"
            ]
          },
          "metadata": {},
          "execution_count": 8
        }
      ],
      "source": [
        "count_mat = sio.mmread(data_path+'/smartseq.mtx')\n",
        "count_mat.shape"
      ]
    },
    {
      "cell_type": "code",
      "execution_count": null,
      "metadata": {
        "colab": {
          "base_uri": "https://localhost:8080/"
        },
        "id": "o2zndTR7e7np",
        "outputId": "b7333451-b0c8-427a-83f9-47dae2f1770d"
      },
      "outputs": [
        {
          "output_type": "execute_result",
          "data": {
            "text/plain": [
              "(3850, 1999)"
            ]
          },
          "metadata": {},
          "execution_count": 9
        }
      ],
      "source": [
        "raw_count_mat = sio.mmread(data_path+'/smartseqCount.mtx')\n",
        "raw_count_mat.shape"
      ]
    },
    {
      "cell_type": "code",
      "execution_count": null,
      "metadata": {
        "id": "6syqIPjmKnyC"
      },
      "outputs": [],
      "source": [
        "#Center and scale data\n",
        "scaled_mat = scale(count_mat)"
      ]
    },
    {
      "cell_type": "code",
      "execution_count": null,
      "metadata": {
        "colab": {
          "base_uri": "https://localhost:8080/",
          "height": 206
        },
        "id": "rhXu1NykGOOf",
        "outputId": "461a642c-1deb-46de-f8fb-db928f0326dd"
      },
      "outputs": [
        {
          "output_type": "execute_result",
          "data": {
            "text/plain": [
              "                             sample_name  smartseq_cluster_id  \\\n",
              "SM-GE4R2_S062_E1-50  SM-GE4R2_S062_E1-50                   46   \n",
              "SM-GE4SI_S356_E1-50  SM-GE4SI_S356_E1-50                   46   \n",
              "SM-GE4SI_S172_E1-50  SM-GE4SI_S172_E1-50                   46   \n",
              "LS-15034_S07_E1-50    LS-15034_S07_E1-50                   42   \n",
              "LS-15034_S28_E1-50    LS-15034_S28_E1-50                   42   \n",
              "\n",
              "                     smartseq_cluster sex_label smartseq_cluster_color  \\\n",
              "SM-GE4R2_S062_E1-50   Nr5a1_9|11 Rorb         M                #6C39A6   \n",
              "SM-GE4SI_S356_E1-50   Nr5a1_9|11 Rorb         M                #6C39A6   \n",
              "SM-GE4SI_S172_E1-50   Nr5a1_9|11 Rorb         M                #6C39A6   \n",
              "LS-15034_S07_E1-50   Nr5a1_4|7 Glipr1         M                #763BFF   \n",
              "LS-15034_S28_E1-50   Nr5a1_4|7 Glipr1         F                #763BFF   \n",
              "\n",
              "                    medical_cond_label  cell_counts  n_genes  percent_mito  \\\n",
              "SM-GE4R2_S062_E1-50    behavior - none    964371.56     9772           0.0   \n",
              "SM-GE4SI_S356_E1-50    behavior - none    973072.06     8253           0.0   \n",
              "SM-GE4SI_S172_E1-50    behavior - none    977132.60     9394           0.0   \n",
              "LS-15034_S07_E1-50     behavior - none    948605.44    10643           0.0   \n",
              "LS-15034_S28_E1-50     behavior - none    951803.00    10550           0.0   \n",
              "\n",
              "                     pass_count_filter  pass_mito_filter  \n",
              "SM-GE4R2_S062_E1-50               True              True  \n",
              "SM-GE4SI_S356_E1-50               True              True  \n",
              "SM-GE4SI_S172_E1-50               True              True  \n",
              "LS-15034_S07_E1-50                True              True  \n",
              "LS-15034_S28_E1-50                True              True  "
            ],
            "text/html": [
              "\n",
              "  <div id=\"df-86a9f4bc-4459-437c-9fa9-da21f3b12d80\">\n",
              "    <div class=\"colab-df-container\">\n",
              "      <div>\n",
              "<style scoped>\n",
              "    .dataframe tbody tr th:only-of-type {\n",
              "        vertical-align: middle;\n",
              "    }\n",
              "\n",
              "    .dataframe tbody tr th {\n",
              "        vertical-align: top;\n",
              "    }\n",
              "\n",
              "    .dataframe thead th {\n",
              "        text-align: right;\n",
              "    }\n",
              "</style>\n",
              "<table border=\"1\" class=\"dataframe\">\n",
              "  <thead>\n",
              "    <tr style=\"text-align: right;\">\n",
              "      <th></th>\n",
              "      <th>sample_name</th>\n",
              "      <th>smartseq_cluster_id</th>\n",
              "      <th>smartseq_cluster</th>\n",
              "      <th>sex_label</th>\n",
              "      <th>smartseq_cluster_color</th>\n",
              "      <th>medical_cond_label</th>\n",
              "      <th>cell_counts</th>\n",
              "      <th>n_genes</th>\n",
              "      <th>percent_mito</th>\n",
              "      <th>pass_count_filter</th>\n",
              "      <th>pass_mito_filter</th>\n",
              "    </tr>\n",
              "  </thead>\n",
              "  <tbody>\n",
              "    <tr>\n",
              "      <th>SM-GE4R2_S062_E1-50</th>\n",
              "      <td>SM-GE4R2_S062_E1-50</td>\n",
              "      <td>46</td>\n",
              "      <td>Nr5a1_9|11 Rorb</td>\n",
              "      <td>M</td>\n",
              "      <td>#6C39A6</td>\n",
              "      <td>behavior - none</td>\n",
              "      <td>964371.56</td>\n",
              "      <td>9772</td>\n",
              "      <td>0.0</td>\n",
              "      <td>True</td>\n",
              "      <td>True</td>\n",
              "    </tr>\n",
              "    <tr>\n",
              "      <th>SM-GE4SI_S356_E1-50</th>\n",
              "      <td>SM-GE4SI_S356_E1-50</td>\n",
              "      <td>46</td>\n",
              "      <td>Nr5a1_9|11 Rorb</td>\n",
              "      <td>M</td>\n",
              "      <td>#6C39A6</td>\n",
              "      <td>behavior - none</td>\n",
              "      <td>973072.06</td>\n",
              "      <td>8253</td>\n",
              "      <td>0.0</td>\n",
              "      <td>True</td>\n",
              "      <td>True</td>\n",
              "    </tr>\n",
              "    <tr>\n",
              "      <th>SM-GE4SI_S172_E1-50</th>\n",
              "      <td>SM-GE4SI_S172_E1-50</td>\n",
              "      <td>46</td>\n",
              "      <td>Nr5a1_9|11 Rorb</td>\n",
              "      <td>M</td>\n",
              "      <td>#6C39A6</td>\n",
              "      <td>behavior - none</td>\n",
              "      <td>977132.60</td>\n",
              "      <td>9394</td>\n",
              "      <td>0.0</td>\n",
              "      <td>True</td>\n",
              "      <td>True</td>\n",
              "    </tr>\n",
              "    <tr>\n",
              "      <th>LS-15034_S07_E1-50</th>\n",
              "      <td>LS-15034_S07_E1-50</td>\n",
              "      <td>42</td>\n",
              "      <td>Nr5a1_4|7 Glipr1</td>\n",
              "      <td>M</td>\n",
              "      <td>#763BFF</td>\n",
              "      <td>behavior - none</td>\n",
              "      <td>948605.44</td>\n",
              "      <td>10643</td>\n",
              "      <td>0.0</td>\n",
              "      <td>True</td>\n",
              "      <td>True</td>\n",
              "    </tr>\n",
              "    <tr>\n",
              "      <th>LS-15034_S28_E1-50</th>\n",
              "      <td>LS-15034_S28_E1-50</td>\n",
              "      <td>42</td>\n",
              "      <td>Nr5a1_4|7 Glipr1</td>\n",
              "      <td>F</td>\n",
              "      <td>#763BFF</td>\n",
              "      <td>behavior - none</td>\n",
              "      <td>951803.00</td>\n",
              "      <td>10550</td>\n",
              "      <td>0.0</td>\n",
              "      <td>True</td>\n",
              "      <td>True</td>\n",
              "    </tr>\n",
              "  </tbody>\n",
              "</table>\n",
              "</div>\n",
              "      <button class=\"colab-df-convert\" onclick=\"convertToInteractive('df-86a9f4bc-4459-437c-9fa9-da21f3b12d80')\"\n",
              "              title=\"Convert this dataframe to an interactive table.\"\n",
              "              style=\"display:none;\">\n",
              "        \n",
              "  <svg xmlns=\"http://www.w3.org/2000/svg\" height=\"24px\"viewBox=\"0 0 24 24\"\n",
              "       width=\"24px\">\n",
              "    <path d=\"M0 0h24v24H0V0z\" fill=\"none\"/>\n",
              "    <path d=\"M18.56 5.44l.94 2.06.94-2.06 2.06-.94-2.06-.94-.94-2.06-.94 2.06-2.06.94zm-11 1L8.5 8.5l.94-2.06 2.06-.94-2.06-.94L8.5 2.5l-.94 2.06-2.06.94zm10 10l.94 2.06.94-2.06 2.06-.94-2.06-.94-.94-2.06-.94 2.06-2.06.94z\"/><path d=\"M17.41 7.96l-1.37-1.37c-.4-.4-.92-.59-1.43-.59-.52 0-1.04.2-1.43.59L10.3 9.45l-7.72 7.72c-.78.78-.78 2.05 0 2.83L4 21.41c.39.39.9.59 1.41.59.51 0 1.02-.2 1.41-.59l7.78-7.78 2.81-2.81c.8-.78.8-2.07 0-2.86zM5.41 20L4 18.59l7.72-7.72 1.47 1.35L5.41 20z\"/>\n",
              "  </svg>\n",
              "      </button>\n",
              "      \n",
              "  <style>\n",
              "    .colab-df-container {\n",
              "      display:flex;\n",
              "      flex-wrap:wrap;\n",
              "      gap: 12px;\n",
              "    }\n",
              "\n",
              "    .colab-df-convert {\n",
              "      background-color: #E8F0FE;\n",
              "      border: none;\n",
              "      border-radius: 50%;\n",
              "      cursor: pointer;\n",
              "      display: none;\n",
              "      fill: #1967D2;\n",
              "      height: 32px;\n",
              "      padding: 0 0 0 0;\n",
              "      width: 32px;\n",
              "    }\n",
              "\n",
              "    .colab-df-convert:hover {\n",
              "      background-color: #E2EBFA;\n",
              "      box-shadow: 0px 1px 2px rgba(60, 64, 67, 0.3), 0px 1px 3px 1px rgba(60, 64, 67, 0.15);\n",
              "      fill: #174EA6;\n",
              "    }\n",
              "\n",
              "    [theme=dark] .colab-df-convert {\n",
              "      background-color: #3B4455;\n",
              "      fill: #D2E3FC;\n",
              "    }\n",
              "\n",
              "    [theme=dark] .colab-df-convert:hover {\n",
              "      background-color: #434B5C;\n",
              "      box-shadow: 0px 1px 3px 1px rgba(0, 0, 0, 0.15);\n",
              "      filter: drop-shadow(0px 1px 2px rgba(0, 0, 0, 0.3));\n",
              "      fill: #FFFFFF;\n",
              "    }\n",
              "  </style>\n",
              "\n",
              "      <script>\n",
              "        const buttonEl =\n",
              "          document.querySelector('#df-86a9f4bc-4459-437c-9fa9-da21f3b12d80 button.colab-df-convert');\n",
              "        buttonEl.style.display =\n",
              "          google.colab.kernel.accessAllowed ? 'block' : 'none';\n",
              "\n",
              "        async function convertToInteractive(key) {\n",
              "          const element = document.querySelector('#df-86a9f4bc-4459-437c-9fa9-da21f3b12d80');\n",
              "          const dataTable =\n",
              "            await google.colab.kernel.invokeFunction('convertToInteractive',\n",
              "                                                     [key], {});\n",
              "          if (!dataTable) return;\n",
              "\n",
              "          const docLinkHtml = 'Like what you see? Visit the ' +\n",
              "            '<a target=\"_blank\" href=https://colab.research.google.com/notebooks/data_table.ipynb>data table notebook</a>'\n",
              "            + ' to learn more about interactive tables.';\n",
              "          element.innerHTML = '';\n",
              "          dataTable['output_type'] = 'display_data';\n",
              "          await google.colab.output.renderOutput(dataTable, element);\n",
              "          const docLink = document.createElement('div');\n",
              "          docLink.innerHTML = docLinkHtml;\n",
              "          element.appendChild(docLink);\n",
              "        }\n",
              "      </script>\n",
              "    </div>\n",
              "  </div>\n",
              "  "
            ]
          },
          "metadata": {},
          "execution_count": 11
        }
      ],
      "source": [
        "meta = pd.read_csv(data_path+'/metadata.csv',index_col = 0)\n",
        "meta.head()"
      ]
    },
    {
      "cell_type": "code",
      "execution_count": null,
      "metadata": {
        "id": "91x_hzdRNeBd"
      },
      "outputs": [],
      "source": [
        "clusters = np.unique(meta['smartseq_cluster'].values)\n",
        "map_dict = {}\n",
        "for i, c in enumerate(clusters):\n",
        "  map_dict[c] = i\n",
        "new_labs = [map_dict[c] for c in meta['smartseq_cluster'].values]"
      ]
    },
    {
      "cell_type": "code",
      "execution_count": null,
      "metadata": {
        "id": "W5A7pbC1jSVu"
      },
      "outputs": [],
      "source": [
        "adata = anndata.AnnData(count_mat, obs = meta)\n",
        "adata.X = np.nan_to_num(adata.X)"
      ]
    },
    {
      "cell_type": "code",
      "execution_count": null,
      "metadata": {
        "id": "K-Winzp8j3aS"
      },
      "outputs": [],
      "source": [
        "adata2 = anndata.AnnData(raw_count_mat, obs = meta)\n",
        "adata2.X = np.nan_to_num(adata2.X)"
      ]
    },
    {
      "cell_type": "code",
      "execution_count": null,
      "metadata": {
        "id": "hz3pgsoK4qmz"
      },
      "outputs": [],
      "source": [
        "def knn_infer(embd_space, labeled_idx, labeled_lab, unlabeled_idx,n_neighbors=50):\n",
        "\t\"\"\"\n",
        "\tPredicts the labels of unlabeled data in the embedded space with KNN.\n",
        "\tParameters\n",
        "\t----------\n",
        "\tembd_space : ndarray (n_samples, embedding_dim)\n",
        "\t\tEach sample is described by the features in the embedded space.\n",
        "\t\tContains all samples, both labeled and unlabeled.\n",
        "\tlabeled_idx : list\n",
        "\t\tIndices of the labeled samples (used for training the classifier).\n",
        "\tlabeled_lab : ndarray (n_labeled_samples)\n",
        "\t\tLabels of the labeled samples.\n",
        "\tunlabeled_idx : list\n",
        "\t\tIndices of the unlabeled samples.\n",
        "\tReturns\n",
        "\t-------\n",
        "\tpred_lab : ndarray (n_unlabeled_samples)\n",
        "\t\tInferred labels of the unlabeled samples.\n",
        "\t\"\"\"\n",
        "\n",
        "\t# obtain labeled data and unlabled data from indices\n",
        "\tlabeled_samp = embd_space[labeled_idx, :]\n",
        "\tunlabeled_samp = embd_space[unlabeled_idx, :]\n",
        "\n",
        "\tfrom sklearn.neighbors import KNeighborsClassifier\n",
        "\n",
        "\tknn = KNeighborsClassifier(n_neighbors=n_neighbors)\n",
        "\tknn.fit(labeled_samp, labeled_lab)\n",
        "\n",
        "\tpred_lab = knn.predict(unlabeled_samp)\n",
        "\treturn pred_lab\n"
      ]
    },
    {
      "cell_type": "markdown",
      "metadata": {
        "id": "lVdEObhjfLue"
      },
      "source": [
        "### **Test Cell Type Prediction Capabilities for Multiple Benchmarks**\n",
        "Also test accuracy for sex labels"
      ]
    },
    {
      "cell_type": "code",
      "execution_count": null,
      "metadata": {
        "id": "Cv4A-t8BfdLW"
      },
      "outputs": [],
      "source": [
        "lab1 = list(meta.smartseq_cluster)\n",
        "lab2 = list(meta.sex_label)\n",
        "lab3 = list(meta.medical_cond_label)\n",
        "\n",
        "lab4 = list(meta.smartseq_cluster_id)\n",
        "\n",
        "\n",
        "allLabs = np.array([lab1])\n",
        "allLabs2 = np.array([lab1,lab2])\n",
        "\n",
        "nanLabs = np.array([[np.nan]*len(lab1)])\n",
        "\n",
        "#Shuffled labels for over-fitting check\n",
        "shuff_lab1 = random.sample(lab1, len(lab1))\n",
        "shuff_lab2 = random.sample(lab2, len(lab2))\n",
        "shuff_allLabs = np.array([shuff_lab1,shuff_lab2])\n",
        "\n",
        "clus_colors = list(pd.unique(meta.smartseq_cluster_color))\n",
        "\n",
        "sex_colors = ['#abacb7','#F8C471']"
      ]
    },
    {
      "cell_type": "markdown",
      "metadata": {
        "id": "Zc6n_BO3IOVw"
      },
      "source": [
        "First test 2D space predictions (t-SNE, UMAP, UMAP-Supervised)"
      ]
    },
    {
      "cell_type": "code",
      "execution_count": null,
      "metadata": {
        "id": "iwbEThDEITO7"
      },
      "outputs": [],
      "source": [
        "ndims = 2\n",
        "acc_score_2D = []\n",
        "\n",
        "for i in range(3):\n",
        "  reducer = umap.UMAP(n_components = ndims)\n",
        "  tsne = TSNE(n_components = ndims)\n",
        "\n",
        "\n",
        "  tsvd = TruncatedSVD(n_components=pcs)\n",
        "  x_pca = tsvd.fit_transform(scaled_mat)\n",
        "\n",
        "  pcaUMAP = reducer.fit_transform(x_pca)\n",
        "  pcaTSNE = tsne.fit_transform(x_pca)\n",
        "\n",
        "  #Partially labeled UMAP\n",
        "\n",
        "  labels = np.array([lab4]).copy().astype(np.int8)\n",
        "  train_inds = np.random.choice(len(scaled_mat), size = int(0.7*len(scaled_mat)),replace=False) #0.7 for training fraction\n",
        "  #Set 30% to no label (nan)\n",
        "  unlab_inds = [i for i in range(len(adata)) if i not in train_inds]\n",
        "  labels[:, unlab_inds] = -1\n",
        "\n",
        "  pcaUMAPLab = reducer.fit_transform(x_pca,y=labels[0])\n",
        "\n",
        "  preds = knn_infer(pcaUMAPLab, train_inds, adata.obs.smartseq_cluster_id.values[train_inds], unlab_inds)\n",
        "  acc = accuracy_score(adata.obs.smartseq_cluster_id.values[unlab_inds], preds)\n",
        "  acc_score_2D.append(acc)\n",
        "\n",
        "  preds = knn_infer(pcaUMAP, train_inds, adata.obs.smartseq_cluster_id.values[train_inds], unlab_inds)\n",
        "  acc = accuracy_score(adata.obs.smartseq_cluster_id.values[unlab_inds], preds)\n",
        "  acc_score_2D.append(acc)\n",
        "\n",
        "  preds = knn_infer(pcaTSNE, train_inds, adata.obs.smartseq_cluster_id.values[train_inds], unlab_inds)\n",
        "  acc = accuracy_score(adata.obs.smartseq_cluster_id.values[unlab_inds], preds)\n",
        "  acc_score_2D.append(acc)"
      ]
    },
    {
      "cell_type": "code",
      "execution_count": null,
      "metadata": {
        "colab": {
          "base_uri": "https://localhost:8080/"
        },
        "id": "KormF0gOITSQ",
        "outputId": "ef5195a3-9762-4865-eff9-bad3ca43a294"
      },
      "outputs": [
        {
          "name": "stdout",
          "output_type": "stream",
          "text": [
            "[0.9012987012987013, 0.8735930735930736, 0.8441558441558441, 0.8917748917748918, 0.8562770562770563, 0.8554112554112554, 0.8640692640692641, 0.8545454545454545, 0.8346320346320346]\n"
          ]
        }
      ],
      "source": [
        " print(acc_score_2D)"
      ]
    },
    {
      "cell_type": "markdown",
      "source": [
        "Test accuracy in PCA 40D --> 2D space"
      ],
      "metadata": {
        "id": "nOMtb5A61-jb"
      }
    },
    {
      "cell_type": "code",
      "execution_count": null,
      "metadata": {
        "id": "EFkiUCcHCkpN"
      },
      "outputs": [],
      "source": [
        "ndims = 2\n",
        "acc_score_40_2D = []\n",
        "\n",
        "for i in range(3):\n",
        "  reducer = umap.UMAP(n_components = ndims)\n",
        "  tsne = TSNE(n_components = ndims)\n",
        "\n",
        "\n",
        "  tsvd = TruncatedSVD(n_components=pcs2)\n",
        "  x_pca = tsvd.fit_transform(scaled_mat)\n",
        "\n",
        "  pcaUMAP = reducer.fit_transform(x_pca)\n",
        "  pcaTSNE = tsne.fit_transform(x_pca)\n",
        "\n",
        "  #Partially labeled UMAP\n",
        "\n",
        "  labels = np.array([lab4]).copy().astype(np.int8)\n",
        "  train_inds = np.random.choice(len(scaled_mat), size = int(0.7*len(scaled_mat)),replace=False) #0.7 for training fraction\n",
        "  #Set 30% to no label (nan)\n",
        "  unlab_inds = [i for i in range(len(adata)) if i not in train_inds]\n",
        "  labels[:, unlab_inds] = -1\n",
        "\n",
        "  pcaUMAPLab = reducer.fit_transform(x_pca,y=labels[0])\n",
        "\n",
        "  preds = knn_infer(pcaUMAPLab, train_inds, adata.obs.smartseq_cluster_id.values[train_inds], unlab_inds)\n",
        "  acc = accuracy_score(adata.obs.smartseq_cluster_id.values[unlab_inds], preds)\n",
        "  acc_score_40_2D.append(acc)\n",
        "\n",
        "  preds = knn_infer(pcaUMAP, train_inds, adata.obs.smartseq_cluster_id.values[train_inds], unlab_inds)\n",
        "  acc = accuracy_score(adata.obs.smartseq_cluster_id.values[unlab_inds], preds)\n",
        "  acc_score_40_2D.append(acc)\n",
        "\n",
        "  preds = knn_infer(pcaTSNE, train_inds, adata.obs.smartseq_cluster_id.values[train_inds], unlab_inds)\n",
        "  acc = accuracy_score(adata.obs.smartseq_cluster_id.values[unlab_inds], preds)\n",
        "  acc_score_40_2D.append(acc)"
      ]
    },
    {
      "cell_type": "code",
      "execution_count": null,
      "metadata": {
        "id": "4zbRGOLzCksR"
      },
      "outputs": [],
      "source": [
        "print(acc_score_40_2D)"
      ]
    },
    {
      "cell_type": "code",
      "execution_count": null,
      "metadata": {
        "colab": {
          "base_uri": "https://localhost:8080/"
        },
        "id": "wbPoMYnoITWG",
        "outputId": "eaf98f01-450f-47a1-c2a6-33a092f2a9a8"
      },
      "outputs": [
        {
          "data": {
            "text/plain": [
              "<tqdm.std.tqdm at 0x7f383ddfae10>"
            ]
          },
          "execution_count": 20,
          "metadata": {},
          "output_type": "execute_result"
        }
      ],
      "source": [
        "# from tqdm import tqdm #Need to intialize to stop tqdm errors\n",
        "# tqdm(disable=True, total=0)"
      ]
    },
    {
      "cell_type": "markdown",
      "metadata": {
        "id": "Ezadu5uXLs88"
      },
      "source": [
        "PCA 50D"
      ]
    },
    {
      "cell_type": "code",
      "execution_count": null,
      "metadata": {
        "id": "dMQdSd9cLwRC"
      },
      "outputs": [],
      "source": [
        "# Reconstruction loss only\n",
        "acc_scorePCA = []\n",
        "acc_scorePCA2 = []\n",
        "\n",
        "for i in range(3):\n",
        "\n",
        "  tsvd = TruncatedSVD(n_components=pcs)\n",
        "  x_pca = tsvd.fit_transform(scaled_mat)\n",
        "\n",
        "  labels = np.array([lab1])\n",
        "  train_inds = np.random.choice(len(scaled_mat), size = int(0.7*len(scaled_mat)),replace=False)\n",
        "  unlab_inds = [i for i in range(len(adata)) if i not in train_inds]\n",
        "  labels[:, unlab_inds] = np.nan\n",
        "\n",
        "  unlabeled_idx = []\n",
        "  for i in range(len(adata)):\n",
        "      if i not in train_inds:\n",
        "          unlabeled_idx.append(i)\n",
        "\n",
        "  preds = knn_infer(x_pca, train_inds, adata.obs.smartseq_cluster.values[train_inds], unlabeled_idx)\n",
        "  acc = accuracy_score(adata.obs.smartseq_cluster.values[unlabeled_idx], preds)\n",
        "  acc_scorePCA.append(acc)\n",
        "\n",
        "  preds2 = knn_infer(x_pca, train_inds, adata.obs.sex_label.values[train_inds], unlabeled_idx)\n",
        "  acc2 = accuracy_score(adata.obs.sex_label.values[unlabeled_idx], preds2)\n",
        "  acc_scorePCA2.append(acc2)\n",
        "  # print(f\"nnNCA fit in {toc - tic:0.4f} seconds\")"
      ]
    },
    {
      "cell_type": "code",
      "execution_count": null,
      "metadata": {
        "colab": {
          "base_uri": "https://localhost:8080/"
        },
        "id": "6p6oknUGLwj4",
        "outputId": "20209633-bccb-4be9-9be0-5ec243d5fd45"
      },
      "outputs": [
        {
          "name": "stdout",
          "output_type": "stream",
          "text": [
            "[0.8666666666666667, 0.8961038961038961, 0.8805194805194805]\n",
            "[0.8917748917748918, 0.9038961038961039, 0.8813852813852814]\n"
          ]
        }
      ],
      "source": [
        "print(acc_scorePCA)\n",
        "print(acc_scorePCA2)"
      ]
    },
    {
      "cell_type": "code",
      "execution_count": null,
      "metadata": {
        "id": "pITLfX6cCwfb"
      },
      "outputs": [],
      "source": []
    },
    {
      "cell_type": "markdown",
      "metadata": {
        "id": "wIuZwzWSCw9W"
      },
      "source": [
        "PCA 40D"
      ]
    },
    {
      "cell_type": "code",
      "execution_count": null,
      "metadata": {
        "id": "gylah_VPCwh1"
      },
      "outputs": [],
      "source": [
        "# Reconstruction loss only\n",
        "acc_scorePCA40D = []\n",
        "\n",
        "for i in range(3):\n",
        "\n",
        "  tsvd = TruncatedSVD(n_components=pcs2)\n",
        "  x_pca = tsvd.fit_transform(scaled_mat)\n",
        "\n",
        "  labels = np.array([lab1])\n",
        "  train_inds = np.random.choice(len(scaled_mat), size = int(0.7*len(scaled_mat)),replace=False)\n",
        "  unlab_inds = [i for i in range(len(adata)) if i not in train_inds]\n",
        "  labels[:, unlab_inds] = np.nan\n",
        "\n",
        "  unlabeled_idx = []\n",
        "  for i in range(len(adata)):\n",
        "      if i not in train_inds:\n",
        "          unlabeled_idx.append(i)\n",
        "\n",
        "  preds = knn_infer(x_pca, train_inds, adata.obs.smartseq_cluster.values[train_inds], unlabeled_idx)\n",
        "  acc = accuracy_score(adata.obs.smartseq_cluster.values[unlabeled_idx], preds)\n",
        "  acc_scorePCA40D.append(acc)\n",
        "\n",
        "\n",
        "  # print(f\"nnNCA fit in {toc - tic:0.4f} seconds\")"
      ]
    },
    {
      "cell_type": "code",
      "execution_count": null,
      "metadata": {
        "id": "z8j5eDToCwk7"
      },
      "outputs": [],
      "source": [
        "print(acc_scorePCA40D)"
      ]
    },
    {
      "cell_type": "markdown",
      "metadata": {
        "id": "TGELf4NtAp1u"
      },
      "source": [
        "PCA 100D"
      ]
    },
    {
      "cell_type": "code",
      "execution_count": null,
      "metadata": {
        "id": "U_EwxqvSApRt"
      },
      "outputs": [],
      "source": [
        "# Reconstruction loss only\n",
        "acc_scorePCA100D = []\n",
        "\n",
        "\n",
        "for i in range(3):\n",
        "\n",
        "  tsvd = TruncatedSVD(n_components=100)\n",
        "  x_pca = tsvd.fit_transform(scaled_mat)\n",
        "\n",
        "  labels = np.array([lab1])\n",
        "  train_inds = np.random.choice(len(scaled_mat), size = int(0.7*len(scaled_mat)),replace=False)\n",
        "  unlab_inds = [i for i in range(len(adata)) if i not in train_inds]\n",
        "  labels[:, unlab_inds] = np.nan\n",
        "\n",
        "  unlabeled_idx = []\n",
        "  for i in range(len(adata)):\n",
        "      if i not in train_inds:\n",
        "          unlabeled_idx.append(i)\n",
        "\n",
        "  preds = knn_infer(x_pca, train_inds, adata.obs.smartseq_cluster.values[train_inds], unlabeled_idx)\n",
        "  acc = accuracy_score(adata.obs.smartseq_cluster.values[unlabeled_idx], preds)\n",
        "  acc_scorePCA100D.append(acc)\n"
      ]
    },
    {
      "cell_type": "code",
      "execution_count": null,
      "metadata": {
        "colab": {
          "base_uri": "https://localhost:8080/"
        },
        "id": "h6gLNz_-Apcd",
        "outputId": "c190eeca-c1e7-48bb-c251-3dca2e260f93"
      },
      "outputs": [
        {
          "name": "stdout",
          "output_type": "stream",
          "text": [
            "[0.8692640692640693, 0.8597402597402597, 0.8857142857142857]\n"
          ]
        }
      ],
      "source": [
        "print(acc_scorePCA100D)"
      ]
    },
    {
      "cell_type": "markdown",
      "metadata": {
        "id": "ZwVU28-k-3yP"
      },
      "source": [
        "### **Save Analysis Output**"
      ]
    },
    {
      "cell_type": "code",
      "execution_count": null,
      "metadata": {
        "id": "zoobDgWX4acW"
      },
      "outputs": [],
      "source": [
        "vals = pd.DataFrame()\n",
        "\n",
        "vals['Accuracy'] = acc_scorePCA + acc_scorePCA2 + acc_score_2D + acc_scorePCA100D +acc_score_40_2D +acc_scorePCA40D #+ netAE_score + netAE_score2"
      ]
    },
    {
      "cell_type": "code",
      "execution_count": null,
      "metadata": {
        "id": "AJY7DMRA642i"
      },
      "outputs": [],
      "source": [
        "vals['Embed'] =  ['PCA 50D']*3 +  ['PCA 50D']*3 + ['PCA 50D UMAP Sup.','PCA 50D UMAP','PCA 50D t-SNE']*3 + ['PCA 100D']*3 +['PCA 40D UMAP Sup.','PCA 40D UMAP','PCA 40D t-SNE']*3 + ['PCA 40D']*3"
      ]
    },
    {
      "cell_type": "code",
      "execution_count": null,
      "metadata": {
        "id": "Is7_EmhR7tKn"
      },
      "outputs": [],
      "source": [
        "vals['Label'] = ['CellType1']*3 + ['Gender2']*3 + ['CellType1']*12+['CellType1']*12"
      ]
    },
    {
      "cell_type": "code",
      "execution_count": null,
      "metadata": {
        "colab": {
          "base_uri": "https://localhost:8080/",
          "height": 990
        },
        "id": "cZBM1dlG8K5E",
        "outputId": "12a43164-4e04-4b03-dc85-51bc1e3f97c0"
      },
      "outputs": [
        {
          "output_type": "execute_result",
          "data": {
            "text/plain": [
              "    Accuracy              Embed      Label\n",
              "0   0.883117            PCA 50D  CellType1\n",
              "1   0.880519            PCA 50D  CellType1\n",
              "2   0.893506            PCA 50D  CellType1\n",
              "3   0.908225            PCA 50D    Gender2\n",
              "4   0.899567            PCA 50D    Gender2\n",
              "5   0.912554            PCA 50D    Gender2\n",
              "6   0.896970  PCA 50D UMAP Sup.  CellType1\n",
              "7   0.866667       PCA 50D UMAP  CellType1\n",
              "8   0.844156      PCA 50D t-SNE  CellType1\n",
              "9   0.894372  PCA 50D UMAP Sup.  CellType1\n",
              "10  0.867532       PCA 50D UMAP  CellType1\n",
              "11  0.851082      PCA 50D t-SNE  CellType1\n",
              "12  0.901299  PCA 50D UMAP Sup.  CellType1\n",
              "13  0.853680       PCA 50D UMAP  CellType1\n",
              "14  0.826840      PCA 50D t-SNE  CellType1\n",
              "15  0.865801           PCA 100D  CellType1\n",
              "16  0.876190           PCA 100D  CellType1\n",
              "17  0.876190           PCA 100D  CellType1\n",
              "18  0.898701  PCA 40D UMAP Sup.  CellType1\n",
              "19  0.849351       PCA 40D UMAP  CellType1\n",
              "20  0.857143      PCA 40D t-SNE  CellType1\n",
              "21  0.877922  PCA 40D UMAP Sup.  CellType1\n",
              "22  0.852814       PCA 40D UMAP  CellType1\n",
              "23  0.850216      PCA 40D t-SNE  CellType1\n",
              "24  0.899567  PCA 40D UMAP Sup.  CellType1\n",
              "25  0.858874       PCA 40D UMAP  CellType1\n",
              "26  0.856277      PCA 40D t-SNE  CellType1\n",
              "27  0.890909            PCA 40D  CellType1\n",
              "28  0.886580            PCA 40D  CellType1\n",
              "29  0.866667            PCA 40D  CellType1"
            ],
            "text/html": [
              "\n",
              "  <div id=\"df-27fb8a57-90c5-404f-ad6e-260ae32528a6\">\n",
              "    <div class=\"colab-df-container\">\n",
              "      <div>\n",
              "<style scoped>\n",
              "    .dataframe tbody tr th:only-of-type {\n",
              "        vertical-align: middle;\n",
              "    }\n",
              "\n",
              "    .dataframe tbody tr th {\n",
              "        vertical-align: top;\n",
              "    }\n",
              "\n",
              "    .dataframe thead th {\n",
              "        text-align: right;\n",
              "    }\n",
              "</style>\n",
              "<table border=\"1\" class=\"dataframe\">\n",
              "  <thead>\n",
              "    <tr style=\"text-align: right;\">\n",
              "      <th></th>\n",
              "      <th>Accuracy</th>\n",
              "      <th>Embed</th>\n",
              "      <th>Label</th>\n",
              "    </tr>\n",
              "  </thead>\n",
              "  <tbody>\n",
              "    <tr>\n",
              "      <th>0</th>\n",
              "      <td>0.883117</td>\n",
              "      <td>PCA 50D</td>\n",
              "      <td>CellType1</td>\n",
              "    </tr>\n",
              "    <tr>\n",
              "      <th>1</th>\n",
              "      <td>0.880519</td>\n",
              "      <td>PCA 50D</td>\n",
              "      <td>CellType1</td>\n",
              "    </tr>\n",
              "    <tr>\n",
              "      <th>2</th>\n",
              "      <td>0.893506</td>\n",
              "      <td>PCA 50D</td>\n",
              "      <td>CellType1</td>\n",
              "    </tr>\n",
              "    <tr>\n",
              "      <th>3</th>\n",
              "      <td>0.908225</td>\n",
              "      <td>PCA 50D</td>\n",
              "      <td>Gender2</td>\n",
              "    </tr>\n",
              "    <tr>\n",
              "      <th>4</th>\n",
              "      <td>0.899567</td>\n",
              "      <td>PCA 50D</td>\n",
              "      <td>Gender2</td>\n",
              "    </tr>\n",
              "    <tr>\n",
              "      <th>5</th>\n",
              "      <td>0.912554</td>\n",
              "      <td>PCA 50D</td>\n",
              "      <td>Gender2</td>\n",
              "    </tr>\n",
              "    <tr>\n",
              "      <th>6</th>\n",
              "      <td>0.896970</td>\n",
              "      <td>PCA 50D UMAP Sup.</td>\n",
              "      <td>CellType1</td>\n",
              "    </tr>\n",
              "    <tr>\n",
              "      <th>7</th>\n",
              "      <td>0.866667</td>\n",
              "      <td>PCA 50D UMAP</td>\n",
              "      <td>CellType1</td>\n",
              "    </tr>\n",
              "    <tr>\n",
              "      <th>8</th>\n",
              "      <td>0.844156</td>\n",
              "      <td>PCA 50D t-SNE</td>\n",
              "      <td>CellType1</td>\n",
              "    </tr>\n",
              "    <tr>\n",
              "      <th>9</th>\n",
              "      <td>0.894372</td>\n",
              "      <td>PCA 50D UMAP Sup.</td>\n",
              "      <td>CellType1</td>\n",
              "    </tr>\n",
              "    <tr>\n",
              "      <th>10</th>\n",
              "      <td>0.867532</td>\n",
              "      <td>PCA 50D UMAP</td>\n",
              "      <td>CellType1</td>\n",
              "    </tr>\n",
              "    <tr>\n",
              "      <th>11</th>\n",
              "      <td>0.851082</td>\n",
              "      <td>PCA 50D t-SNE</td>\n",
              "      <td>CellType1</td>\n",
              "    </tr>\n",
              "    <tr>\n",
              "      <th>12</th>\n",
              "      <td>0.901299</td>\n",
              "      <td>PCA 50D UMAP Sup.</td>\n",
              "      <td>CellType1</td>\n",
              "    </tr>\n",
              "    <tr>\n",
              "      <th>13</th>\n",
              "      <td>0.853680</td>\n",
              "      <td>PCA 50D UMAP</td>\n",
              "      <td>CellType1</td>\n",
              "    </tr>\n",
              "    <tr>\n",
              "      <th>14</th>\n",
              "      <td>0.826840</td>\n",
              "      <td>PCA 50D t-SNE</td>\n",
              "      <td>CellType1</td>\n",
              "    </tr>\n",
              "    <tr>\n",
              "      <th>15</th>\n",
              "      <td>0.865801</td>\n",
              "      <td>PCA 100D</td>\n",
              "      <td>CellType1</td>\n",
              "    </tr>\n",
              "    <tr>\n",
              "      <th>16</th>\n",
              "      <td>0.876190</td>\n",
              "      <td>PCA 100D</td>\n",
              "      <td>CellType1</td>\n",
              "    </tr>\n",
              "    <tr>\n",
              "      <th>17</th>\n",
              "      <td>0.876190</td>\n",
              "      <td>PCA 100D</td>\n",
              "      <td>CellType1</td>\n",
              "    </tr>\n",
              "    <tr>\n",
              "      <th>18</th>\n",
              "      <td>0.898701</td>\n",
              "      <td>PCA 40D UMAP Sup.</td>\n",
              "      <td>CellType1</td>\n",
              "    </tr>\n",
              "    <tr>\n",
              "      <th>19</th>\n",
              "      <td>0.849351</td>\n",
              "      <td>PCA 40D UMAP</td>\n",
              "      <td>CellType1</td>\n",
              "    </tr>\n",
              "    <tr>\n",
              "      <th>20</th>\n",
              "      <td>0.857143</td>\n",
              "      <td>PCA 40D t-SNE</td>\n",
              "      <td>CellType1</td>\n",
              "    </tr>\n",
              "    <tr>\n",
              "      <th>21</th>\n",
              "      <td>0.877922</td>\n",
              "      <td>PCA 40D UMAP Sup.</td>\n",
              "      <td>CellType1</td>\n",
              "    </tr>\n",
              "    <tr>\n",
              "      <th>22</th>\n",
              "      <td>0.852814</td>\n",
              "      <td>PCA 40D UMAP</td>\n",
              "      <td>CellType1</td>\n",
              "    </tr>\n",
              "    <tr>\n",
              "      <th>23</th>\n",
              "      <td>0.850216</td>\n",
              "      <td>PCA 40D t-SNE</td>\n",
              "      <td>CellType1</td>\n",
              "    </tr>\n",
              "    <tr>\n",
              "      <th>24</th>\n",
              "      <td>0.899567</td>\n",
              "      <td>PCA 40D UMAP Sup.</td>\n",
              "      <td>CellType1</td>\n",
              "    </tr>\n",
              "    <tr>\n",
              "      <th>25</th>\n",
              "      <td>0.858874</td>\n",
              "      <td>PCA 40D UMAP</td>\n",
              "      <td>CellType1</td>\n",
              "    </tr>\n",
              "    <tr>\n",
              "      <th>26</th>\n",
              "      <td>0.856277</td>\n",
              "      <td>PCA 40D t-SNE</td>\n",
              "      <td>CellType1</td>\n",
              "    </tr>\n",
              "    <tr>\n",
              "      <th>27</th>\n",
              "      <td>0.890909</td>\n",
              "      <td>PCA 40D</td>\n",
              "      <td>CellType1</td>\n",
              "    </tr>\n",
              "    <tr>\n",
              "      <th>28</th>\n",
              "      <td>0.886580</td>\n",
              "      <td>PCA 40D</td>\n",
              "      <td>CellType1</td>\n",
              "    </tr>\n",
              "    <tr>\n",
              "      <th>29</th>\n",
              "      <td>0.866667</td>\n",
              "      <td>PCA 40D</td>\n",
              "      <td>CellType1</td>\n",
              "    </tr>\n",
              "  </tbody>\n",
              "</table>\n",
              "</div>\n",
              "      <button class=\"colab-df-convert\" onclick=\"convertToInteractive('df-27fb8a57-90c5-404f-ad6e-260ae32528a6')\"\n",
              "              title=\"Convert this dataframe to an interactive table.\"\n",
              "              style=\"display:none;\">\n",
              "        \n",
              "  <svg xmlns=\"http://www.w3.org/2000/svg\" height=\"24px\"viewBox=\"0 0 24 24\"\n",
              "       width=\"24px\">\n",
              "    <path d=\"M0 0h24v24H0V0z\" fill=\"none\"/>\n",
              "    <path d=\"M18.56 5.44l.94 2.06.94-2.06 2.06-.94-2.06-.94-.94-2.06-.94 2.06-2.06.94zm-11 1L8.5 8.5l.94-2.06 2.06-.94-2.06-.94L8.5 2.5l-.94 2.06-2.06.94zm10 10l.94 2.06.94-2.06 2.06-.94-2.06-.94-.94-2.06-.94 2.06-2.06.94z\"/><path d=\"M17.41 7.96l-1.37-1.37c-.4-.4-.92-.59-1.43-.59-.52 0-1.04.2-1.43.59L10.3 9.45l-7.72 7.72c-.78.78-.78 2.05 0 2.83L4 21.41c.39.39.9.59 1.41.59.51 0 1.02-.2 1.41-.59l7.78-7.78 2.81-2.81c.8-.78.8-2.07 0-2.86zM5.41 20L4 18.59l7.72-7.72 1.47 1.35L5.41 20z\"/>\n",
              "  </svg>\n",
              "      </button>\n",
              "      \n",
              "  <style>\n",
              "    .colab-df-container {\n",
              "      display:flex;\n",
              "      flex-wrap:wrap;\n",
              "      gap: 12px;\n",
              "    }\n",
              "\n",
              "    .colab-df-convert {\n",
              "      background-color: #E8F0FE;\n",
              "      border: none;\n",
              "      border-radius: 50%;\n",
              "      cursor: pointer;\n",
              "      display: none;\n",
              "      fill: #1967D2;\n",
              "      height: 32px;\n",
              "      padding: 0 0 0 0;\n",
              "      width: 32px;\n",
              "    }\n",
              "\n",
              "    .colab-df-convert:hover {\n",
              "      background-color: #E2EBFA;\n",
              "      box-shadow: 0px 1px 2px rgba(60, 64, 67, 0.3), 0px 1px 3px 1px rgba(60, 64, 67, 0.15);\n",
              "      fill: #174EA6;\n",
              "    }\n",
              "\n",
              "    [theme=dark] .colab-df-convert {\n",
              "      background-color: #3B4455;\n",
              "      fill: #D2E3FC;\n",
              "    }\n",
              "\n",
              "    [theme=dark] .colab-df-convert:hover {\n",
              "      background-color: #434B5C;\n",
              "      box-shadow: 0px 1px 3px 1px rgba(0, 0, 0, 0.15);\n",
              "      filter: drop-shadow(0px 1px 2px rgba(0, 0, 0, 0.3));\n",
              "      fill: #FFFFFF;\n",
              "    }\n",
              "  </style>\n",
              "\n",
              "      <script>\n",
              "        const buttonEl =\n",
              "          document.querySelector('#df-27fb8a57-90c5-404f-ad6e-260ae32528a6 button.colab-df-convert');\n",
              "        buttonEl.style.display =\n",
              "          google.colab.kernel.accessAllowed ? 'block' : 'none';\n",
              "\n",
              "        async function convertToInteractive(key) {\n",
              "          const element = document.querySelector('#df-27fb8a57-90c5-404f-ad6e-260ae32528a6');\n",
              "          const dataTable =\n",
              "            await google.colab.kernel.invokeFunction('convertToInteractive',\n",
              "                                                     [key], {});\n",
              "          if (!dataTable) return;\n",
              "\n",
              "          const docLinkHtml = 'Like what you see? Visit the ' +\n",
              "            '<a target=\"_blank\" href=https://colab.research.google.com/notebooks/data_table.ipynb>data table notebook</a>'\n",
              "            + ' to learn more about interactive tables.';\n",
              "          element.innerHTML = '';\n",
              "          dataTable['output_type'] = 'display_data';\n",
              "          await google.colab.output.renderOutput(dataTable, element);\n",
              "          const docLink = document.createElement('div');\n",
              "          docLink.innerHTML = docLinkHtml;\n",
              "          element.appendChild(docLink);\n",
              "        }\n",
              "      </script>\n",
              "    </div>\n",
              "  </div>\n",
              "  "
            ]
          },
          "metadata": {},
          "execution_count": 25
        }
      ],
      "source": [
        "vals\n"
      ]
    },
    {
      "cell_type": "code",
      "execution_count": null,
      "metadata": {
        "colab": {
          "base_uri": "https://localhost:8080/",
          "height": 17
        },
        "id": "mOwQUKce8L7f",
        "outputId": "e335341c-1673-4b58-8c64-7a0c6870d6c1"
      },
      "outputs": [
        {
          "data": {
            "application/javascript": [
              "\n",
              "    async function download(id, filename, size) {\n",
              "      if (!google.colab.kernel.accessAllowed) {\n",
              "        return;\n",
              "      }\n",
              "      const div = document.createElement('div');\n",
              "      const label = document.createElement('label');\n",
              "      label.textContent = `Downloading \"${filename}\": `;\n",
              "      div.appendChild(label);\n",
              "      const progress = document.createElement('progress');\n",
              "      progress.max = size;\n",
              "      div.appendChild(progress);\n",
              "      document.body.appendChild(div);\n",
              "\n",
              "      const buffers = [];\n",
              "      let downloaded = 0;\n",
              "\n",
              "      const channel = await google.colab.kernel.comms.open(id);\n",
              "      // Send a message to notify the kernel that we're ready.\n",
              "      channel.send({})\n",
              "\n",
              "      for await (const message of channel.messages) {\n",
              "        // Send a message to notify the kernel that we're ready.\n",
              "        channel.send({})\n",
              "        if (message.buffers) {\n",
              "          for (const buffer of message.buffers) {\n",
              "            buffers.push(buffer);\n",
              "            downloaded += buffer.byteLength;\n",
              "            progress.value = downloaded;\n",
              "          }\n",
              "        }\n",
              "      }\n",
              "      const blob = new Blob(buffers, {type: 'application/binary'});\n",
              "      const a = document.createElement('a');\n",
              "      a.href = window.URL.createObjectURL(blob);\n",
              "      a.download = filename;\n",
              "      div.appendChild(a);\n",
              "      a.click();\n",
              "      div.remove();\n",
              "    }\n",
              "  "
            ],
            "text/plain": [
              "<IPython.core.display.Javascript object>"
            ]
          },
          "metadata": {},
          "output_type": "display_data"
        },
        {
          "data": {
            "application/javascript": [
              "download(\"download_a2895172-51ff-4c96-8051-13d2186d7ef3\", \"allSmartSeqPreds.csv\", 2008)"
            ],
            "text/plain": [
              "<IPython.core.display.Javascript object>"
            ]
          },
          "metadata": {},
          "output_type": "display_data"
        }
      ],
      "source": [
        "from google.colab import files\n",
        "\n",
        "vals.to_csv('allSmartSeqPreds_22.csv')\n",
        "files.download('allSmartSeqPreds_22.csv')"
      ]
    },
    {
      "cell_type": "code",
      "execution_count": null,
      "metadata": {
        "colab": {
          "base_uri": "https://localhost:8080/"
        },
        "id": "s_Cwp5tBUE0c",
        "outputId": "3e560c37-13a7-47d6-e140-efeb5309a15b"
      },
      "outputs": [
        {
          "data": {
            "text/plain": [
              "0.9201716738197425"
            ]
          },
          "execution_count": 50,
          "metadata": {
            "tags": []
          },
          "output_type": "execute_result"
        }
      ],
      "source": []
    },
    {
      "cell_type": "code",
      "execution_count": null,
      "metadata": {
        "id": "ouTUJS95zEuu"
      },
      "outputs": [],
      "source": []
    },
    {
      "cell_type": "code",
      "execution_count": null,
      "metadata": {
        "id": "wS5CBpMEHfQt"
      },
      "outputs": [],
      "source": []
    }
  ],
  "metadata": {
    "colab": {
      "name": "kimetal_smartseq_predictions.ipynb",
      "provenance": [],
      "include_colab_link": true
    },
    "kernelspec": {
      "display_name": "Python 3",
      "name": "python3"
    },
    "language_info": {
      "codemirror_mode": {
        "name": "ipython",
        "version": 3
      },
      "file_extension": ".py",
      "mimetype": "text/x-python",
      "name": "python",
      "nbconvert_exporter": "python",
      "pygments_lexer": "ipython3",
      "version": "3.8.8"
    }
  },
  "nbformat": 4,
  "nbformat_minor": 0
}