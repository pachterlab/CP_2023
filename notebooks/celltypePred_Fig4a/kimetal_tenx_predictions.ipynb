{
  "cells": [
    {
      "cell_type": "markdown",
      "metadata": {
        "id": "view-in-github",
        "colab_type": "text"
      },
      "source": [
        "<a href=\"https://colab.research.google.com/github/pachterlab/CP_2023/blob/main/notebooks/celltypePred_Fig4a/kimetal_tenx_predictions.ipynb\" target=\"_parent\"><img src=\"https://colab.research.google.com/assets/colab-badge.svg\" alt=\"Open In Colab\"/></a>"
      ]
    },
    {
      "cell_type": "code",
      "execution_count": null,
      "metadata": {
        "colab": {
          "base_uri": "https://localhost:8080/",
          "height": 180,
          "referenced_widgets": [
            "d8431ca034114cb7b862bea654f4693a",
            "cc9063e896a546aba216544df56d79dc",
            "907a9c74ad2c4e2db2f2e74c3297ba4d",
            "4eee062e98204fc089060851a5adf10a",
            "da4b06d328014c7ea7ea6a3e7704f962",
            "ab59b5092a344419b8594ff24ff1379d",
            "817ebda507364adb84af253208e49173",
            "741ff45543b2457b8996d5dc96dc188d",
            "98d03496774d4e22bf17fecd7d4542e6",
            "657966ed5e594be99b41b7781f13141c",
            "a6dd2303db62425ea07c28937d4e4eda",
            "4bafe990b4a04a94b204704d65b36291",
            "7d2865f28fbd44a3aa05fae14bade97e",
            "b52a7b369b4e455da4347fadb1128e39",
            "c139944a6cb640ff80971dac10540f53",
            "46c9a3610752424ea501f84a9290d197",
            "fcb7397c111e40b0a304b640d5a7744f",
            "556838d456074dbead12c708d244c7b1",
            "30f6f06d0b074983939a038722612c7f",
            "a7c72c016b834e21bd661edc9e3b60a5",
            "2c1ff0ca1d2840df8c553f56373d05a9",
            "00fb918eca8a496bb20c90f6edafda0c",
            "184b3da0045744ebaa0e265fc69d6e70",
            "4c3c67917ba642c2af5ce1bfe0503e96",
            "14c9312e5ad042eb96fdc1ad0c5305d1",
            "4659934f143c476fb9f26395dfb76ef5",
            "6260dbcdea6f4ec096bc53566478ad85",
            "9be7da68fd264960a74bb2069d01ba8c",
            "7f5397f808c8457e918efa7616f610a0",
            "8a1f0a6b715949dd9751576768779347",
            "0c173df175d4473e9b379779a54cb885",
            "d1bc24b5c9f545149a7ac412ccd8c9f9",
            "14e234ef4a334e94af2643231b9489b1",
            "faf70cb99c0a4412a321c33f3a1fb96c",
            "c7e9cbae973f458aabc8a422e7c593d4",
            "5d272d97d8934c42af2155e10e9722bc",
            "7c3beecba7bd4e6886ffe32406b1d866",
            "30342267586f4ae6bdbdb9921e851cbe",
            "9892c5fb31cb48579fbea5f64125bc76",
            "cde76ac210e44728beef4f16173cee31",
            "dcdd1e6b03c047d3aac38887b753ad26",
            "e7746a3c71b54ddf9475d7e5e0412266",
            "52cdd2b278d54a0d80d6a799f7eb6248",
            "59075ae0eb55405a83019c5021e84d85"
          ]
        },
        "id": "aghcQdQ-R7u_",
        "outputId": "80f26a96-c3ec-46b9-9266-188dbed6fafe"
      },
      "outputs": [
        {
          "name": "stderr",
          "output_type": "stream",
          "text": [
            "/usr/local/lib/python3.7/dist-packages/ipykernel_launcher.py:21: TqdmDeprecationWarning: Please use `tqdm.notebook.trange` instead of `tqdm.tnrange`\n"
          ]
        },
        {
          "data": {
            "application/vnd.jupyter.widget-view+json": {
              "model_id": "d8431ca034114cb7b862bea654f4693a",
              "version_major": 2,
              "version_minor": 0
            },
            "text/plain": [
              "  0%|          | 0/940 [00:00<?, ?B/s]"
            ]
          },
          "metadata": {},
          "output_type": "display_data"
        },
        {
          "data": {
            "application/vnd.jupyter.widget-view+json": {
              "model_id": "4bafe990b4a04a94b204704d65b36291",
              "version_major": 2,
              "version_minor": 0
            },
            "text/plain": [
              "  0%|          | 0/104912 [00:00<?, ?B/s]"
            ]
          },
          "metadata": {},
          "output_type": "display_data"
        },
        {
          "data": {
            "application/vnd.jupyter.widget-view+json": {
              "model_id": "184b3da0045744ebaa0e265fc69d6e70",
              "version_major": 2,
              "version_minor": 0
            },
            "text/plain": [
              "  0%|          | 0/14752 [00:00<?, ?B/s]"
            ]
          },
          "metadata": {},
          "output_type": "display_data"
        },
        {
          "data": {
            "application/vnd.jupyter.widget-view+json": {
              "model_id": "faf70cb99c0a4412a321c33f3a1fb96c",
              "version_major": 2,
              "version_minor": 0
            },
            "text/plain": [
              "  0%|          | 0/12 [00:00<?, ?B/s]"
            ]
          },
          "metadata": {},
          "output_type": "display_data"
        },
        {
          "data": {
            "text/plain": [
              "0"
            ]
          },
          "execution_count": 1,
          "metadata": {},
          "output_type": "execute_result"
        }
      ],
      "source": [
        "import requests\n",
        "import os\n",
        "\n",
        "\n",
        "from tqdm import tnrange, tqdm_notebook\n",
        "def download_file(doi,ext):\n",
        "\turl = 'https://api.datacite.org/dois/'+doi+'/media'\n",
        "\tr = requests.get(url).json()\n",
        "\tnetcdf_url = r['data'][0]['attributes']['url']\n",
        "\tr = requests.get(netcdf_url,stream=True)\n",
        "\t#Set file name\n",
        "\tfname = doi.split('/')[-1]+ext\n",
        "\t#Download file with progress bar\n",
        "\tif r.status_code == 403:\n",
        "\t\tprint(\"File Unavailable\")\n",
        "\tif 'content-length' not in r.headers:\n",
        "\t\tprint(\"Did not get file\")\n",
        "\telse:\n",
        "\t\twith open(fname, 'wb') as f:\n",
        "\t\t\ttotal_length = int(r.headers.get('content-length'))\n",
        "\t\t\tpbar = tnrange(int(total_length/1024), unit=\"B\")\n",
        "\t\t\tfor chunk in r.iter_content(chunk_size=1024):\n",
        "\t\t\t\tif chunk:\n",
        "\t\t\t\t\tpbar.update()\n",
        "\t\t\t\t\tf.write(chunk)\n",
        "\t\treturn fname\n",
        "\n",
        "\n",
        "#10x VMH data\n",
        "#metadata.csv\n",
        "download_file('10.22002/D1.2065','.gz')\n",
        "\n",
        "#tenx.mtx (log counts)\n",
        "download_file('10.22002/D1.2072','.gz')\n",
        "\n",
        "#10X raw Count Matrix\n",
        "download_file('10.22002/D1.2073','.gz')\n",
        "\n",
        "#var.csv\n",
        "download_file('10.22002/D1.2066','.gz')\n",
        "\n",
        "\n",
        "\n",
        "os.system(\"gunzip *.gz\")\n",
        "\n",
        "os.system(\"mv D1.2065 metadata.csv\")\n",
        "os.system(\"mv D1.2072 tenx.mtx\")\n",
        "os.system(\"mv D1.2073 tenxCount.mtx\")\n",
        "os.system(\"mv D1.2066 tenx_var.csv\")"
      ]
    },
    {
      "cell_type": "code",
      "execution_count": null,
      "metadata": {
        "colab": {
          "base_uri": "https://localhost:8080/"
        },
        "id": "UKhlS98Sw3fj",
        "outputId": "bb37a40a-aeca-4a0d-d4c0-447228f0f873"
      },
      "outputs": [
        {
          "name": "stdout",
          "output_type": "stream",
          "text": [
            "/content\n"
          ]
        }
      ],
      "source": [
        "%cd /content"
      ]
    },
    {
      "cell_type": "code",
      "execution_count": null,
      "metadata": {
        "colab": {
          "base_uri": "https://localhost:8080/"
        },
        "id": "7cWkFJRvw56Z",
        "outputId": "2c9a3d4f-1bdd-4949-ad11-b6652bff888d"
      },
      "outputs": [
        {
          "name": "stdout",
          "output_type": "stream",
          "text": [
            "Cloning into 'densvis'...\n",
            "remote: Enumerating objects: 145, done.\u001b[K\n",
            "remote: Counting objects: 100% (8/8), done.\u001b[K\n",
            "remote: Compressing objects: 100% (6/6), done.\u001b[K\n",
            "remote: Total 145 (delta 3), reused 2 (delta 2), pack-reused 137\u001b[K\n",
            "Receiving objects: 100% (145/145), 419.61 KiB | 10.49 MiB/s, done.\n",
            "Resolving deltas: 100% (75/75), done.\n"
          ]
        }
      ],
      "source": [
        "!git clone https://github.com/hhcho/densvis.git"
      ]
    },
    {
      "cell_type": "code",
      "execution_count": null,
      "metadata": {
        "colab": {
          "base_uri": "https://localhost:8080/"
        },
        "id": "sYavhBhmw-PP",
        "outputId": "ba8dba0a-cfb9-4739-8b7e-054e7a4181ad"
      },
      "outputs": [
        {
          "name": "stdout",
          "output_type": "stream",
          "text": [
            "/content/densvis/densne\n"
          ]
        }
      ],
      "source": [
        "%cd /content/densvis/densne/"
      ]
    },
    {
      "cell_type": "code",
      "execution_count": null,
      "metadata": {
        "colab": {
          "base_uri": "https://localhost:8080/"
        },
        "id": "W2ISJzxrw_gS",
        "outputId": "bb8ddaa1-0381-46a5-e222-52b7606de080"
      },
      "outputs": [
        {
          "name": "stdout",
          "output_type": "stream",
          "text": [
            "\u001b[01m\u001b[Kdensne.cpp:\u001b[m\u001b[K In function ‘\u001b[01m\u001b[Kbool DENSNE::load_data(double**, int*, int*, int*, double*, double*, int*, int*, double*, double*, bool*, double**)\u001b[m\u001b[K’:\n",
            "\u001b[01m\u001b[Kdensne.cpp:961:8:\u001b[m\u001b[K \u001b[01;35m\u001b[Kwarning: \u001b[m\u001b[Kignoring return value of ‘\u001b[01m\u001b[Ksize_t fread(void*, size_t, size_t, FILE*)\u001b[m\u001b[K’, declared with attribute warn_unused_result [\u001b[01;35m\u001b[K-Wunused-result\u001b[m\u001b[K]\n",
            "   \u001b[01;35m\u001b[Kfread(n, sizeof(int), 1, h)\u001b[m\u001b[K;                                            // number of datapoints\n",
            "   \u001b[01;35m\u001b[K~~~~~^~~~~~~~~~~~~~~~~~~~~~\u001b[m\u001b[K\n",
            "\u001b[01m\u001b[Kdensne.cpp:962:8:\u001b[m\u001b[K \u001b[01;35m\u001b[Kwarning: \u001b[m\u001b[Kignoring return value of ‘\u001b[01m\u001b[Ksize_t fread(void*, size_t, size_t, FILE*)\u001b[m\u001b[K’, declared with attribute warn_unused_result [\u001b[01;35m\u001b[K-Wunused-result\u001b[m\u001b[K]\n",
            "   \u001b[01;35m\u001b[Kfread(d, sizeof(int), 1, h)\u001b[m\u001b[K;                                            // original dimensionality\n",
            "   \u001b[01;35m\u001b[K~~~~~^~~~~~~~~~~~~~~~~~~~~~\u001b[m\u001b[K\n",
            "\u001b[01m\u001b[Kdensne.cpp:963:8:\u001b[m\u001b[K \u001b[01;35m\u001b[Kwarning: \u001b[m\u001b[Kignoring return value of ‘\u001b[01m\u001b[Ksize_t fread(void*, size_t, size_t, FILE*)\u001b[m\u001b[K’, declared with attribute warn_unused_result [\u001b[01;35m\u001b[K-Wunused-result\u001b[m\u001b[K]\n",
            "   \u001b[01;35m\u001b[Kfread(theta, sizeof(double), 1, h)\u001b[m\u001b[K;                                        // gradient accuracy\n",
            "   \u001b[01;35m\u001b[K~~~~~^~~~~~~~~~~~~~~~~~~~~~~~~~~~~\u001b[m\u001b[K\n",
            "\u001b[01m\u001b[Kdensne.cpp:964:8:\u001b[m\u001b[K \u001b[01;35m\u001b[Kwarning: \u001b[m\u001b[Kignoring return value of ‘\u001b[01m\u001b[Ksize_t fread(void*, size_t, size_t, FILE*)\u001b[m\u001b[K’, declared with attribute warn_unused_result [\u001b[01;35m\u001b[K-Wunused-result\u001b[m\u001b[K]\n",
            "   \u001b[01;35m\u001b[Kfread(perplexity, sizeof(double), 1, h)\u001b[m\u001b[K;                                // perplexity\n",
            "   \u001b[01;35m\u001b[K~~~~~^~~~~~~~~~~~~~~~~~~~~~~~~~~~~~~~~~\u001b[m\u001b[K\n",
            "\u001b[01m\u001b[Kdensne.cpp:965:8:\u001b[m\u001b[K \u001b[01;35m\u001b[Kwarning: \u001b[m\u001b[Kignoring return value of ‘\u001b[01m\u001b[Ksize_t fread(void*, size_t, size_t, FILE*)\u001b[m\u001b[K’, declared with attribute warn_unused_result [\u001b[01;35m\u001b[K-Wunused-result\u001b[m\u001b[K]\n",
            "   \u001b[01;35m\u001b[Kfread(no_dims, sizeof(int), 1, h)\u001b[m\u001b[K;                                      // output dimensionality\n",
            "   \u001b[01;35m\u001b[K~~~~~^~~~~~~~~~~~~~~~~~~~~~~~~~~~\u001b[m\u001b[K\n",
            "\u001b[01m\u001b[Kdensne.cpp:966:8:\u001b[m\u001b[K \u001b[01;35m\u001b[Kwarning: \u001b[m\u001b[Kignoring return value of ‘\u001b[01m\u001b[Ksize_t fread(void*, size_t, size_t, FILE*)\u001b[m\u001b[K’, declared with attribute warn_unused_result [\u001b[01;35m\u001b[K-Wunused-result\u001b[m\u001b[K]\n",
            "   \u001b[01;35m\u001b[Kfread(max_iter, sizeof(int),1,h)\u001b[m\u001b[K;                                       // maximum number of iterations\n",
            "   \u001b[01;35m\u001b[K~~~~~^~~~~~~~~~~~~~~~~~~~~~~~~~~\u001b[m\u001b[K\n",
            "\u001b[01m\u001b[Kdensne.cpp:971:8:\u001b[m\u001b[K \u001b[01;35m\u001b[Kwarning: \u001b[m\u001b[Kignoring return value of ‘\u001b[01m\u001b[Ksize_t fread(void*, size_t, size_t, FILE*)\u001b[m\u001b[K’, declared with attribute warn_unused_result [\u001b[01;35m\u001b[K-Wunused-result\u001b[m\u001b[K]\n",
            "   \u001b[01;35m\u001b[Kfread(dens_frac, sizeof(double),1,h)\u001b[m\u001b[K;               // fraction of iters with density objective\n",
            "   \u001b[01;35m\u001b[K~~~~~^~~~~~~~~~~~~~~~~~~~~~~~~~~~~~~\u001b[m\u001b[K\n",
            "\u001b[01m\u001b[Kdensne.cpp:972:8:\u001b[m\u001b[K \u001b[01;35m\u001b[Kwarning: \u001b[m\u001b[Kignoring return value of ‘\u001b[01m\u001b[Ksize_t fread(void*, size_t, size_t, FILE*)\u001b[m\u001b[K’, declared with attribute warn_unused_result [\u001b[01;35m\u001b[K-Wunused-result\u001b[m\u001b[K]\n",
            "   \u001b[01;35m\u001b[Kfread(dens_lambda, sizeof(double),1,h)\u001b[m\u001b[K;               // regularization weight for density objective\n",
            "   \u001b[01;35m\u001b[K~~~~~^~~~~~~~~~~~~~~~~~~~~~~~~~~~~~~~~\u001b[m\u001b[K\n",
            "\u001b[01m\u001b[Kdensne.cpp:975:8:\u001b[m\u001b[K \u001b[01;35m\u001b[Kwarning: \u001b[m\u001b[Kignoring return value of ‘\u001b[01m\u001b[Ksize_t fread(void*, size_t, size_t, FILE*)\u001b[m\u001b[K’, declared with attribute warn_unused_result [\u001b[01;35m\u001b[K-Wunused-result\u001b[m\u001b[K]\n",
            "   \u001b[01;35m\u001b[Kfread(&flag, sizeof(char),1,h)\u001b[m\u001b[K;               // whether to output final densities\n",
            "   \u001b[01;35m\u001b[K~~~~~^~~~~~~~~~~~~~~~~~~~~~~~~\u001b[m\u001b[K\n",
            "\u001b[01m\u001b[Kdensne.cpp:978:8:\u001b[m\u001b[K \u001b[01;35m\u001b[Kwarning: \u001b[m\u001b[Kignoring return value of ‘\u001b[01m\u001b[Ksize_t fread(void*, size_t, size_t, FILE*)\u001b[m\u001b[K’, declared with attribute warn_unused_result [\u001b[01;35m\u001b[K-Wunused-result\u001b[m\u001b[K]\n",
            "   \u001b[01;35m\u001b[Kfread(&flag, sizeof(char),1,h)\u001b[m\u001b[K;               // Initial embedding provided\n",
            "   \u001b[01;35m\u001b[K~~~~~^~~~~~~~~~~~~~~~~~~~~~~~~\u001b[m\u001b[K\n",
            "\u001b[01m\u001b[Kdensne.cpp:982:8:\u001b[m\u001b[K \u001b[01;35m\u001b[Kwarning: \u001b[m\u001b[Kignoring return value of ‘\u001b[01m\u001b[Ksize_t fread(void*, size_t, size_t, FILE*)\u001b[m\u001b[K’, declared with attribute warn_unused_result [\u001b[01;35m\u001b[K-Wunused-result\u001b[m\u001b[K]\n",
            "   \u001b[01;35m\u001b[Kfread(*data, sizeof(double), *n * *d, h)\u001b[m\u001b[K;                               // the data\n",
            "   \u001b[01;35m\u001b[K~~~~~^~~~~~~~~~~~~~~~~~~~~~~~~~~~~~~~~~~\u001b[m\u001b[K\n",
            "\u001b[01m\u001b[Kdensne.cpp:987:10:\u001b[m\u001b[K \u001b[01;35m\u001b[Kwarning: \u001b[m\u001b[Kignoring return value of ‘\u001b[01m\u001b[Ksize_t fread(void*, size_t, size_t, FILE*)\u001b[m\u001b[K’, declared with attribute warn_unused_result [\u001b[01;35m\u001b[K-Wunused-result\u001b[m\u001b[K]\n",
            "     \u001b[01;35m\u001b[Kfread(*Y_init, sizeof(double), *n * *no_dims, h)\u001b[m\u001b[K;\n",
            "     \u001b[01;35m\u001b[K~~~~~^~~~~~~~~~~~~~~~~~~~~~~~~~~~~~~~~~~~~~~~~~~\u001b[m\u001b[K\n",
            "\u001b[01m\u001b[Kdensne.cpp:992:21:\u001b[m\u001b[K \u001b[01;35m\u001b[Kwarning: \u001b[m\u001b[Kignoring return value of ‘\u001b[01m\u001b[Ksize_t fread(void*, size_t, size_t, FILE*)\u001b[m\u001b[K’, declared with attribute warn_unused_result [\u001b[01;35m\u001b[K-Wunused-result\u001b[m\u001b[K]\n",
            "   if(!feof(h)) \u001b[01;35m\u001b[Kfread(rand_seed, sizeof(int), 1, h)\u001b[m\u001b[K;                       // random seed\n",
            "                \u001b[01;35m\u001b[K~~~~~^~~~~~~~~~~~~~~~~~~~~~~~~~~~~~\u001b[m\u001b[K\n"
          ]
        }
      ],
      "source": [
        "!g++ sptree.cpp densne.cpp densne_main.cpp -o den_sne -O2\n",
        "import densne"
      ]
    },
    {
      "cell_type": "code",
      "execution_count": null,
      "metadata": {
        "colab": {
          "base_uri": "https://localhost:8080/"
        },
        "id": "Y4-EpgaAxFT_",
        "outputId": "95d73ea8-0a00-4219-8746-30a125653d75"
      },
      "outputs": [
        {
          "name": "stdout",
          "output_type": "stream",
          "text": [
            "/content\n"
          ]
        }
      ],
      "source": [
        "%cd /content/"
      ]
    },
    {
      "cell_type": "code",
      "execution_count": null,
      "metadata": {
        "colab": {
          "base_uri": "https://localhost:8080/"
        },
        "id": "Pxuxe1toQFda",
        "outputId": "1873f34c-29ea-4148-d122-8788a8731b02"
      },
      "outputs": [
        {
          "name": "stdout",
          "output_type": "stream",
          "text": [
            "Cloning into 'CP_2022'...\n",
            "remote: Enumerating objects: 470, done.\u001b[K\n",
            "remote: Counting objects: 100% (46/46), done.\u001b[K\n",
            "remote: Compressing objects: 100% (41/41), done.\u001b[K\n",
            "remote: Total 470 (delta 19), reused 19 (delta 5), pack-reused 424\u001b[K\n",
            "Receiving objects: 100% (470/470), 159.66 MiB | 23.98 MiB/s, done.\n",
            "Resolving deltas: 100% (232/232), done.\n"
          ]
        }
      ],
      "source": [
        "!git clone https://github.com/pachterlab/CP_2023.git"
      ]
    },
    {
      "cell_type": "code",
      "execution_count": null,
      "metadata": {
        "id": "xVtRQxlvxEfT"
      },
      "outputs": [],
      "source": []
    },
    {
      "cell_type": "code",
      "execution_count": null,
      "metadata": {
        "colab": {
          "base_uri": "https://localhost:8080/"
        },
        "id": "iA-3Y-DlQOKH",
        "outputId": "eca1ed40-3eda-4785-e224-c96e68d4a999"
      },
      "outputs": [
        {
          "name": "stdout",
          "output_type": "stream",
          "text": [
            "\u001b[K     |████████████████████████████████| 96 kB 2.6 MB/s \n",
            "\u001b[K     |████████████████████████████████| 7.7 MB 7.8 MB/s \n",
            "\u001b[K     |████████████████████████████████| 88 kB 6.7 MB/s \n",
            "\u001b[K     |████████████████████████████████| 42 kB 1.4 MB/s \n",
            "\u001b[K     |████████████████████████████████| 1.1 MB 43.7 MB/s \n",
            "\u001b[K     |████████████████████████████████| 63 kB 1.8 MB/s \n",
            "\u001b[?25h  Building wheel for umap-learn (setup.py) ... \u001b[?25l\u001b[?25hdone\n",
            "  Building wheel for pynndescent (setup.py) ... \u001b[?25l\u001b[?25hdone\n",
            "  Building wheel for sinfo (setup.py) ... \u001b[?25l\u001b[?25hdone\n",
            "\u001b[K     |████████████████████████████████| 296 kB 9.7 MB/s \n",
            "\u001b[K     |████████████████████████████████| 145 kB 48.2 MB/s \n",
            "\u001b[K     |████████████████████████████████| 85 kB 3.8 MB/s \n",
            "\u001b[K     |████████████████████████████████| 722 kB 59.0 MB/s \n",
            "\u001b[K     |████████████████████████████████| 77 kB 6.0 MB/s \n",
            "\u001b[K     |████████████████████████████████| 708 kB 51.5 MB/s \n",
            "\u001b[K     |████████████████████████████████| 529 kB 50.2 MB/s \n",
            "\u001b[K     |████████████████████████████████| 185 kB 62.1 MB/s \n",
            "\u001b[K     |████████████████████████████████| 292 kB 53.7 MB/s \n",
            "\u001b[K     |████████████████████████████████| 237 kB 60.3 MB/s \n",
            "\u001b[K     |████████████████████████████████| 51 kB 6.2 MB/s \n",
            "\u001b[K     |████████████████████████████████| 1.6 MB 54.0 MB/s \n",
            "\u001b[?25h  Building wheel for docrep (setup.py) ... \u001b[?25l\u001b[?25hdone\n",
            "  Building wheel for ml-collections (setup.py) ... \u001b[?25l\u001b[?25hdone\n"
          ]
        }
      ],
      "source": [
        "!pip3 install --quiet torch\n",
        "!pip3 install --quiet anndata\n",
        "!pip3 install --quiet matplotlib\n",
        "!pip3 install --quiet scikit-learn\n",
        "!pip3 install --quiet torchsummary\n",
        "!pip install --quiet scanpy"
      ]
    },
    {
      "cell_type": "code",
      "execution_count": null,
      "metadata": {
        "colab": {
          "base_uri": "https://localhost:8080/"
        },
        "id": "HYT4qYdJxK7V",
        "outputId": "60448bfe-f7d0-4f5d-a8ae-66bf7d0acc16"
      },
      "outputs": [
        {
          "name": "stdout",
          "output_type": "stream",
          "text": [
            "/content/CP_2022/scripts\n"
          ]
        }
      ],
      "source": [
        "%cd /content/CP_2023/scripts"
      ]
    },
    {
      "cell_type": "markdown",
      "metadata": {
        "id": "xC275rCuQpgV"
      },
      "source": [
        "## **Install Packages**"
      ]
    },
    {
      "cell_type": "code",
      "execution_count": null,
      "metadata": {
        "colab": {
          "base_uri": "https://localhost:8080/",
          "height": 124
        },
        "id": "48xvpJbyQSKT",
        "outputId": "b8f6a498-1721-464d-f91e-b50f37ed4075"
      },
      "outputs": [
        {
          "name": "stderr",
          "output_type": "stream",
          "text": [
            "INFO:pytorch_lightning.utilities.seed:Global seed set to 0\n",
            "/usr/local/lib/python3.7/dist-packages/pytorch_lightning/utilities/warnings.py:54: LightningDeprecationWarning: pytorch_lightning.utilities.warnings.rank_zero_deprecation has been deprecated in v1.6 and will be removed in v1.8. Use the equivalent function from the pytorch_lightning.utilities.rank_zero module instead.\n",
            "  \"pytorch_lightning.utilities.warnings.rank_zero_deprecation has been deprecated in v1.6\"\n",
            "/usr/local/lib/python3.7/dist-packages/pytorch_lightning/utilities/warnings.py:58: LightningDeprecationWarning: The `pytorch_lightning.loggers.base.rank_zero_experiment` is deprecated in v1.7 and will be removed in v1.9. Please use `pytorch_lightning.loggers.logger.rank_zero_experiment` instead.\n",
            "  return new_rank_zero_deprecation(*args, **kwargs)\n"
          ]
        }
      ],
      "source": [
        "import anndata\n",
        "import pandas as pd\n",
        "import numpy as np\n",
        "from MCML import MCML #Now has continuous label addition\n",
        "from Picasso import Picasso\n",
        "import tools as tl\n",
        "import random\n",
        "\n",
        "from sklearn.decomposition import TruncatedSVD\n",
        "from sklearn.manifold import TSNE\n",
        "import matplotlib.pyplot as plt\n",
        "from sklearn.neighbors import NeighborhoodComponentsAnalysis, NearestNeighbors\n",
        "from sklearn.metrics import pairwise_distances\n",
        "from sklearn.metrics import accuracy_score\n",
        "from sklearn.preprocessing import scale\n",
        "import torch\n",
        "import time\n",
        "import scanpy as sc\n",
        "import seaborn as sns\n",
        "import umap\n",
        "from scipy import stats\n",
        "import scipy.io as sio\n",
        "sns.set_style('white')"
      ]
    },
    {
      "cell_type": "markdown",
      "metadata": {
        "id": "7Xlo5rzVQrqM"
      },
      "source": [
        "## **Import Data**"
      ]
    },
    {
      "cell_type": "code",
      "execution_count": null,
      "metadata": {
        "id": "4gtBWZVoQjKh"
      },
      "outputs": [],
      "source": [
        "plt.rcParams[\"font.family\"] = \"sans-serif\"\n",
        "plt.rcParams['axes.linewidth'] = 0.1\n",
        "\n",
        "state = 42\n",
        "ndims = 2\n",
        "\n",
        "data_path = '../..'\n",
        "\n",
        "pcs = 50\n",
        "pcs2 = 100\n",
        "pcs3 = 40 #From study\n",
        "n_latent = 50"
      ]
    },
    {
      "cell_type": "code",
      "execution_count": null,
      "metadata": {
        "colab": {
          "base_uri": "https://localhost:8080/"
        },
        "id": "NtpIixyGFiMw",
        "outputId": "ce922c3f-46db-4aa2-cc46-bd98fca3095c"
      },
      "outputs": [
        {
          "data": {
            "text/plain": [
              "(41580, 1999)"
            ]
          },
          "execution_count": 12,
          "metadata": {},
          "output_type": "execute_result"
        }
      ],
      "source": [
        "count_mat = sio.mmread(data_path+'/tenx.mtx')\n",
        "count_mat.shape"
      ]
    },
    {
      "cell_type": "code",
      "execution_count": null,
      "metadata": {
        "colab": {
          "base_uri": "https://localhost:8080/"
        },
        "id": "gEafihmahNB8",
        "outputId": "6f2c0a00-0f91-4df6-b519-6b0af539bc1e"
      },
      "outputs": [
        {
          "data": {
            "text/plain": [
              "(41580, 1999)"
            ]
          },
          "execution_count": 13,
          "metadata": {},
          "output_type": "execute_result"
        }
      ],
      "source": [
        "rawcount_mat = sio.mmread(data_path+'/tenxCount.mtx')\n",
        "rawcount_mat.shape"
      ]
    },
    {
      "cell_type": "code",
      "execution_count": null,
      "metadata": {
        "id": "6syqIPjmKnyC"
      },
      "outputs": [],
      "source": [
        "#Center and scale log-normalized data\n",
        "scaled_mat = scale(count_mat)"
      ]
    },
    {
      "cell_type": "code",
      "execution_count": null,
      "metadata": {
        "colab": {
          "base_uri": "https://localhost:8080/",
          "height": 206
        },
        "id": "rhXu1NykGOOf",
        "outputId": "7b12f405-f53f-4108-9ff9-80b272d2b1ba"
      },
      "outputs": [
        {
          "data": {
            "text/html": [
              "\n",
              "  <div id=\"df-7b047f94-0438-4a36-9184-4114a67638f4\">\n",
              "    <div class=\"colab-df-container\">\n",
              "      <div>\n",
              "<style scoped>\n",
              "    .dataframe tbody tr th:only-of-type {\n",
              "        vertical-align: middle;\n",
              "    }\n",
              "\n",
              "    .dataframe tbody tr th {\n",
              "        vertical-align: top;\n",
              "    }\n",
              "\n",
              "    .dataframe thead th {\n",
              "        text-align: right;\n",
              "    }\n",
              "</style>\n",
              "<table border=\"1\" class=\"dataframe\">\n",
              "  <thead>\n",
              "    <tr style=\"text-align: right;\">\n",
              "      <th></th>\n",
              "      <th>sample_name</th>\n",
              "      <th>cell_barcode</th>\n",
              "      <th>cluster_color</th>\n",
              "      <th>cluster</th>\n",
              "      <th>cluster_id</th>\n",
              "      <th>cell_types</th>\n",
              "      <th>sex_label</th>\n",
              "      <th>batch_indices</th>\n",
              "      <th>cell_counts</th>\n",
              "      <th>n_genes</th>\n",
              "      <th>percent_mito</th>\n",
              "      <th>pass_count_filter</th>\n",
              "      <th>pass_mito_filter</th>\n",
              "    </tr>\n",
              "  </thead>\n",
              "  <tbody>\n",
              "    <tr>\n",
              "      <th>0</th>\n",
              "      <td>10x_VMH_Female_Control_1</td>\n",
              "      <td>4_AAACCTGAGCGCCTCA</td>\n",
              "      <td>#9162FF</td>\n",
              "      <td>Nr5a1_4</td>\n",
              "      <td>24.0</td>\n",
              "      <td>undefined</td>\n",
              "      <td>F</td>\n",
              "      <td>0</td>\n",
              "      <td>1427.0</td>\n",
              "      <td>926</td>\n",
              "      <td>13.594954</td>\n",
              "      <td>True</td>\n",
              "      <td>False</td>\n",
              "    </tr>\n",
              "    <tr>\n",
              "      <th>1</th>\n",
              "      <td>10x_VMH_Female_Control_1</td>\n",
              "      <td>4_AAACCTGCACAGTCGC</td>\n",
              "      <td>#96FF2E</td>\n",
              "      <td>Tsix_Esr1_1</td>\n",
              "      <td>3.0</td>\n",
              "      <td>undefined</td>\n",
              "      <td>F</td>\n",
              "      <td>0</td>\n",
              "      <td>4508.0</td>\n",
              "      <td>2310</td>\n",
              "      <td>9.272405</td>\n",
              "      <td>True</td>\n",
              "      <td>False</td>\n",
              "    </tr>\n",
              "    <tr>\n",
              "      <th>2</th>\n",
              "      <td>10x_VMH_Female_Control_1</td>\n",
              "      <td>4_AAACCTGCAGATTGCT</td>\n",
              "      <td>#66ABC2</td>\n",
              "      <td>Dlk1_3</td>\n",
              "      <td>16.0</td>\n",
              "      <td>undefined</td>\n",
              "      <td>F</td>\n",
              "      <td>0</td>\n",
              "      <td>3447.0</td>\n",
              "      <td>1995</td>\n",
              "      <td>5.483029</td>\n",
              "      <td>True</td>\n",
              "      <td>False</td>\n",
              "    </tr>\n",
              "    <tr>\n",
              "      <th>3</th>\n",
              "      <td>10x_VMH_Female_Control_1</td>\n",
              "      <td>4_AAACCTGCATACTCTT</td>\n",
              "      <td>#96FF2E</td>\n",
              "      <td>Tsix_Esr1_1</td>\n",
              "      <td>3.0</td>\n",
              "      <td>undefined</td>\n",
              "      <td>F</td>\n",
              "      <td>0</td>\n",
              "      <td>7004.0</td>\n",
              "      <td>3286</td>\n",
              "      <td>4.483152</td>\n",
              "      <td>True</td>\n",
              "      <td>True</td>\n",
              "    </tr>\n",
              "    <tr>\n",
              "      <th>4</th>\n",
              "      <td>10x_VMH_Female_Control_1</td>\n",
              "      <td>4_AAACCTGGTCCGTTAA</td>\n",
              "      <td>#24EFCD</td>\n",
              "      <td>Scgn</td>\n",
              "      <td>20.0</td>\n",
              "      <td>undefined</td>\n",
              "      <td>F</td>\n",
              "      <td>0</td>\n",
              "      <td>2490.0</td>\n",
              "      <td>1492</td>\n",
              "      <td>9.277108</td>\n",
              "      <td>True</td>\n",
              "      <td>False</td>\n",
              "    </tr>\n",
              "  </tbody>\n",
              "</table>\n",
              "</div>\n",
              "      <button class=\"colab-df-convert\" onclick=\"convertToInteractive('df-7b047f94-0438-4a36-9184-4114a67638f4')\"\n",
              "              title=\"Convert this dataframe to an interactive table.\"\n",
              "              style=\"display:none;\">\n",
              "        \n",
              "  <svg xmlns=\"http://www.w3.org/2000/svg\" height=\"24px\"viewBox=\"0 0 24 24\"\n",
              "       width=\"24px\">\n",
              "    <path d=\"M0 0h24v24H0V0z\" fill=\"none\"/>\n",
              "    <path d=\"M18.56 5.44l.94 2.06.94-2.06 2.06-.94-2.06-.94-.94-2.06-.94 2.06-2.06.94zm-11 1L8.5 8.5l.94-2.06 2.06-.94-2.06-.94L8.5 2.5l-.94 2.06-2.06.94zm10 10l.94 2.06.94-2.06 2.06-.94-2.06-.94-.94-2.06-.94 2.06-2.06.94z\"/><path d=\"M17.41 7.96l-1.37-1.37c-.4-.4-.92-.59-1.43-.59-.52 0-1.04.2-1.43.59L10.3 9.45l-7.72 7.72c-.78.78-.78 2.05 0 2.83L4 21.41c.39.39.9.59 1.41.59.51 0 1.02-.2 1.41-.59l7.78-7.78 2.81-2.81c.8-.78.8-2.07 0-2.86zM5.41 20L4 18.59l7.72-7.72 1.47 1.35L5.41 20z\"/>\n",
              "  </svg>\n",
              "      </button>\n",
              "      \n",
              "  <style>\n",
              "    .colab-df-container {\n",
              "      display:flex;\n",
              "      flex-wrap:wrap;\n",
              "      gap: 12px;\n",
              "    }\n",
              "\n",
              "    .colab-df-convert {\n",
              "      background-color: #E8F0FE;\n",
              "      border: none;\n",
              "      border-radius: 50%;\n",
              "      cursor: pointer;\n",
              "      display: none;\n",
              "      fill: #1967D2;\n",
              "      height: 32px;\n",
              "      padding: 0 0 0 0;\n",
              "      width: 32px;\n",
              "    }\n",
              "\n",
              "    .colab-df-convert:hover {\n",
              "      background-color: #E2EBFA;\n",
              "      box-shadow: 0px 1px 2px rgba(60, 64, 67, 0.3), 0px 1px 3px 1px rgba(60, 64, 67, 0.15);\n",
              "      fill: #174EA6;\n",
              "    }\n",
              "\n",
              "    [theme=dark] .colab-df-convert {\n",
              "      background-color: #3B4455;\n",
              "      fill: #D2E3FC;\n",
              "    }\n",
              "\n",
              "    [theme=dark] .colab-df-convert:hover {\n",
              "      background-color: #434B5C;\n",
              "      box-shadow: 0px 1px 3px 1px rgba(0, 0, 0, 0.15);\n",
              "      filter: drop-shadow(0px 1px 2px rgba(0, 0, 0, 0.3));\n",
              "      fill: #FFFFFF;\n",
              "    }\n",
              "  </style>\n",
              "\n",
              "      <script>\n",
              "        const buttonEl =\n",
              "          document.querySelector('#df-7b047f94-0438-4a36-9184-4114a67638f4 button.colab-df-convert');\n",
              "        buttonEl.style.display =\n",
              "          google.colab.kernel.accessAllowed ? 'block' : 'none';\n",
              "\n",
              "        async function convertToInteractive(key) {\n",
              "          const element = document.querySelector('#df-7b047f94-0438-4a36-9184-4114a67638f4');\n",
              "          const dataTable =\n",
              "            await google.colab.kernel.invokeFunction('convertToInteractive',\n",
              "                                                     [key], {});\n",
              "          if (!dataTable) return;\n",
              "\n",
              "          const docLinkHtml = 'Like what you see? Visit the ' +\n",
              "            '<a target=\"_blank\" href=https://colab.research.google.com/notebooks/data_table.ipynb>data table notebook</a>'\n",
              "            + ' to learn more about interactive tables.';\n",
              "          element.innerHTML = '';\n",
              "          dataTable['output_type'] = 'display_data';\n",
              "          await google.colab.output.renderOutput(dataTable, element);\n",
              "          const docLink = document.createElement('div');\n",
              "          docLink.innerHTML = docLinkHtml;\n",
              "          element.appendChild(docLink);\n",
              "        }\n",
              "      </script>\n",
              "    </div>\n",
              "  </div>\n",
              "  "
            ],
            "text/plain": [
              "                sample_name        cell_barcode cluster_color      cluster  \\\n",
              "0  10x_VMH_Female_Control_1  4_AAACCTGAGCGCCTCA       #9162FF      Nr5a1_4   \n",
              "1  10x_VMH_Female_Control_1  4_AAACCTGCACAGTCGC       #96FF2E  Tsix_Esr1_1   \n",
              "2  10x_VMH_Female_Control_1  4_AAACCTGCAGATTGCT       #66ABC2       Dlk1_3   \n",
              "3  10x_VMH_Female_Control_1  4_AAACCTGCATACTCTT       #96FF2E  Tsix_Esr1_1   \n",
              "4  10x_VMH_Female_Control_1  4_AAACCTGGTCCGTTAA       #24EFCD         Scgn   \n",
              "\n",
              "   cluster_id cell_types sex_label  batch_indices  cell_counts  n_genes  \\\n",
              "0        24.0  undefined         F              0       1427.0      926   \n",
              "1         3.0  undefined         F              0       4508.0     2310   \n",
              "2        16.0  undefined         F              0       3447.0     1995   \n",
              "3         3.0  undefined         F              0       7004.0     3286   \n",
              "4        20.0  undefined         F              0       2490.0     1492   \n",
              "\n",
              "   percent_mito  pass_count_filter  pass_mito_filter  \n",
              "0     13.594954               True             False  \n",
              "1      9.272405               True             False  \n",
              "2      5.483029               True             False  \n",
              "3      4.483152               True              True  \n",
              "4      9.277108               True             False  "
            ]
          },
          "execution_count": 15,
          "metadata": {},
          "output_type": "execute_result"
        }
      ],
      "source": [
        "meta = pd.read_csv(data_path+'/metadata.csv',index_col = 0)\n",
        "meta.head()"
      ]
    },
    {
      "cell_type": "code",
      "execution_count": null,
      "metadata": {
        "id": "91x_hzdRNeBd"
      },
      "outputs": [],
      "source": [
        "clusters = np.unique(meta['cluster'].values)\n",
        "map_dict = {}\n",
        "for i, c in enumerate(clusters):\n",
        "  map_dict[c] = i\n",
        "new_labs = [map_dict[c] for c in meta['cluster'].values]"
      ]
    },
    {
      "cell_type": "code",
      "execution_count": null,
      "metadata": {
        "colab": {
          "base_uri": "https://localhost:8080/"
        },
        "id": "W5A7pbC1jSVu",
        "outputId": "e83ed9da-73c8-4a00-e2a7-9af4fb8a9254"
      },
      "outputs": [
        {
          "name": "stderr",
          "output_type": "stream",
          "text": [
            "/usr/local/lib/python3.7/dist-packages/ipykernel_launcher.py:1: FutureWarning: X.dtype being converted to np.float32 from float64. In the next version of anndata (0.9) conversion will not be automatic. Pass dtype explicitly to avoid this warning. Pass `AnnData(X, dtype=X.dtype, ...)` to get the future behavour.\n",
            "  \"\"\"Entry point for launching an IPython kernel.\n",
            "/usr/local/lib/python3.7/dist-packages/anndata/_core/anndata.py:121: ImplicitModificationWarning: Transforming to str index.\n",
            "  warnings.warn(\"Transforming to str index.\", ImplicitModificationWarning)\n"
          ]
        }
      ],
      "source": [
        "adata = anndata.AnnData(count_mat, obs = meta)\n",
        "adata.X = np.nan_to_num(adata.X)"
      ]
    },
    {
      "cell_type": "code",
      "execution_count": null,
      "metadata": {
        "colab": {
          "base_uri": "https://localhost:8080/"
        },
        "id": "MFbVY58ChSix",
        "outputId": "8ff60c71-c664-4cbd-ed23-4ecaaf33c295"
      },
      "outputs": [
        {
          "name": "stderr",
          "output_type": "stream",
          "text": [
            "/usr/local/lib/python3.7/dist-packages/ipykernel_launcher.py:1: FutureWarning: X.dtype being converted to np.float32 from float64. In the next version of anndata (0.9) conversion will not be automatic. Pass dtype explicitly to avoid this warning. Pass `AnnData(X, dtype=X.dtype, ...)` to get the future behavour.\n",
            "  \"\"\"Entry point for launching an IPython kernel.\n"
          ]
        }
      ],
      "source": [
        "adata2 = anndata.AnnData(rawcount_mat, obs = meta)\n",
        "adata2.X = np.nan_to_num(adata2.X)"
      ]
    },
    {
      "cell_type": "code",
      "execution_count": null,
      "metadata": {
        "id": "hz3pgsoK4qmz"
      },
      "outputs": [],
      "source": [
        "def knn_infer(embd_space, labeled_idx, labeled_lab, unlabeled_idx,n_neighbors=50):\n",
        "\t\"\"\"\n",
        "\tPredicts the labels of unlabeled data in the embedded space with KNN.\n",
        "\tParameters\n",
        "\t----------\n",
        "\tembd_space : ndarray (n_samples, embedding_dim)\n",
        "\t\tEach sample is described by the features in the embedded space.\n",
        "\t\tContains all samples, both labeled and unlabeled.\n",
        "\tlabeled_idx : list\n",
        "\t\tIndices of the labeled samples (used for training the classifier).\n",
        "\tlabeled_lab : ndarray (n_labeled_samples)\n",
        "\t\tLabels of the labeled samples.\n",
        "\tunlabeled_idx : list\n",
        "\t\tIndices of the unlabeled samples.\n",
        "\tReturns\n",
        "\t-------\n",
        "\tpred_lab : ndarray (n_unlabeled_samples)\n",
        "\t\tInferred labels of the unlabeled samples.\n",
        "\t\"\"\"\n",
        "\n",
        "\t# obtain labeled data and unlabled data from indices\n",
        "\tlabeled_samp = embd_space[labeled_idx, :]\n",
        "\tunlabeled_samp = embd_space[unlabeled_idx, :]\n",
        "\n",
        "\tfrom sklearn.neighbors import KNeighborsClassifier\n",
        "\n",
        "\tknn = KNeighborsClassifier(n_neighbors=n_neighbors)\n",
        "\tknn.fit(labeled_samp, labeled_lab)\n",
        "\n",
        "\tpred_lab = knn.predict(unlabeled_samp)\n",
        "\treturn pred_lab\n"
      ]
    },
    {
      "cell_type": "markdown",
      "metadata": {
        "id": "VdbWog1mhOse"
      },
      "source": [
        "### **Prediction Accuracy for Cell Type Labels Across Benchmarks**\n",
        "Tests accuracy on sex labels as well\n"
      ]
    },
    {
      "cell_type": "markdown",
      "metadata": {
        "id": "EXCUt_VrhYdg"
      },
      "source": [
        "Set up metadata"
      ]
    },
    {
      "cell_type": "code",
      "execution_count": null,
      "metadata": {
        "id": "Cv4A-t8BfdLW"
      },
      "outputs": [],
      "source": [
        "lab1 = list(meta.cluster)\n",
        "lab2 = list(meta.sex_label)\n",
        "# lab3 = list(meta.medical_cond_label)\n",
        "lab4 = list(meta.cluster)\n",
        "\n",
        "allLabs = np.array([lab1])\n",
        "allLabs2 = np.array([lab1,lab2])\n",
        "\n",
        "nanLabs = np.array([[np.nan]*len(lab1)])\n",
        "\n",
        "#Shuffled labels for over-fitting check\n",
        "shuff_lab1 = random.sample(lab1, len(lab1))\n",
        "shuff_lab2 = random.sample(lab2, len(lab2))\n",
        "shuff_allLabs = np.array([shuff_lab1,shuff_lab2])\n",
        "\n",
        "clus_colors = list(pd.unique(meta.cluster_color))\n",
        "\n",
        "sex_colors = ['#abacb7','#F8C471']"
      ]
    },
    {
      "cell_type": "code",
      "execution_count": null,
      "metadata": {
        "id": "Mm-GGKUTv1KM"
      },
      "outputs": [],
      "source": [
        "labdict = {}\n",
        "count = 0\n",
        "for p in np.unique(meta.cluster):\n",
        "  labdict[p] = count\n",
        "  count += 1\n",
        "\n",
        "lab4 = [labdict[i] for i in meta.cluster]"
      ]
    },
    {
      "cell_type": "markdown",
      "metadata": {
        "id": "Zc6n_BO3IOVw"
      },
      "source": [
        "First test 2D space predictions (t-SNE, UMAP, UMAP-Supervised)"
      ]
    },
    {
      "cell_type": "code",
      "execution_count": null,
      "metadata": {
        "id": "P4raDW4XyKNs"
      },
      "outputs": [],
      "source": []
    },
    {
      "cell_type": "code",
      "execution_count": null,
      "metadata": {
        "colab": {
          "base_uri": "https://localhost:8080/"
        },
        "id": "iwbEThDEITO7",
        "outputId": "1362d876-a972-49d5-9b19-2150777cd1e2"
      },
      "outputs": [
        {
          "name": "stderr",
          "output_type": "stream",
          "text": [
            "/usr/local/lib/python3.7/dist-packages/sklearn/manifold/_t_sne.py:783: FutureWarning: The default initialization in TSNE will change from 'random' to 'pca' in 1.2.\n",
            "  FutureWarning,\n",
            "/usr/local/lib/python3.7/dist-packages/sklearn/manifold/_t_sne.py:793: FutureWarning: The default learning rate in TSNE will change from 200.0 to 'auto' in 1.2.\n",
            "  FutureWarning,\n",
            "/usr/local/lib/python3.7/dist-packages/sklearn/manifold/_t_sne.py:783: FutureWarning: The default initialization in TSNE will change from 'random' to 'pca' in 1.2.\n",
            "  FutureWarning,\n",
            "/usr/local/lib/python3.7/dist-packages/sklearn/manifold/_t_sne.py:793: FutureWarning: The default learning rate in TSNE will change from 200.0 to 'auto' in 1.2.\n",
            "  FutureWarning,\n"
          ]
        }
      ],
      "source": [
        "ndims = 2\n",
        "acc_score_2D = []\n",
        "\n",
        "for i in range(3):\n",
        "  reducer = umap.UMAP(n_components = ndims)\n",
        "  tsne = TSNE(n_components = ndims)\n",
        "\n",
        "\n",
        "  tsvd = TruncatedSVD(n_components=pcs)\n",
        "  x_pca = tsvd.fit_transform(scaled_mat)\n",
        "\n",
        "  pcaUMAP = reducer.fit_transform(x_pca)\n",
        "  pcaTSNE = tsne.fit_transform(x_pca)\n",
        "\n",
        "  #Partially labeled UMAP\n",
        "\n",
        "  labels = np.array([lab4]).copy().astype(np.int8)\n",
        "  train_inds = np.random.choice(len(scaled_mat), size = int(0.7*len(scaled_mat)),replace=False) #0.7 for training fraction\n",
        "  #Set 30% to no label (nan)\n",
        "  unlab_inds = [i for i in range(len(adata)) if i not in train_inds]\n",
        "  labels[:, unlab_inds] = -1\n",
        "\n",
        "  pcaUMAPLab = reducer.fit_transform(x_pca,y=labels[0])\n",
        "\n",
        "  preds = knn_infer(pcaUMAPLab, train_inds, adata.obs.cluster_id.values[train_inds], unlab_inds)\n",
        "  acc = accuracy_score(adata.obs.cluster_id.values[unlab_inds], preds)\n",
        "  acc_score_2D.append(acc)\n",
        "\n",
        "\n",
        "\n",
        "  preds = knn_infer(pcaUMAP, train_inds, adata.obs.cluster_id.values[train_inds], unlab_inds)\n",
        "  acc = accuracy_score(adata.obs.cluster_id.values[unlab_inds], preds)\n",
        "  acc_score_2D.append(acc)\n",
        "\n",
        "  preds = knn_infer(pcaTSNE, train_inds, adata.obs.cluster_id.values[train_inds], unlab_inds)\n",
        "  acc = accuracy_score(adata.obs.cluster_id.values[unlab_inds], preds)\n",
        "  acc_score_2D.append(acc)"
      ]
    },
    {
      "cell_type": "code",
      "execution_count": null,
      "metadata": {
        "colab": {
          "base_uri": "https://localhost:8080/"
        },
        "id": "fjV9ZYvmgqjr",
        "outputId": "37516335-3772-4f03-eef8-f3e1b92bc60d"
      },
      "outputs": [
        {
          "name": "stdout",
          "output_type": "stream",
          "text": [
            "[0.7692184368737475, 0.6889779559118236, 0.7565531062124249, 0.7739478957915832, 0.6800801603206413, 0.7609619238476953, 0.7727454909819639, 0.6808016032064128, 0.7596793587174349]\n"
          ]
        }
      ],
      "source": [
        "print(acc_score_2D)"
      ]
    },
    {
      "cell_type": "code",
      "execution_count": null,
      "metadata": {
        "id": "zYU-2DxOzhA6"
      },
      "outputs": [],
      "source": [
        "acc_score_2D = [0.7692184368737475, 0.6889779559118236, 0.7565531062124249, 0.7739478957915832, 0.6800801603206413, 0.7609619238476953, 0.7727454909819639, 0.6808016032064128, 0.7596793587174349]"
      ]
    },
    {
      "cell_type": "markdown",
      "source": [
        "Get prediction accuracy in PCA 40d --> 2D space"
      ],
      "metadata": {
        "id": "x2V6kLGt3ZPW"
      }
    },
    {
      "cell_type": "code",
      "execution_count": null,
      "metadata": {
        "id": "PEhyrkBq-fjg"
      },
      "outputs": [],
      "source": [
        "ndims = 2\n",
        "acc_score_40_2D = []\n",
        "\n",
        "for i in range(3):\n",
        "  reducer = umap.UMAP(n_components = ndims)\n",
        "  tsne = TSNE(n_components = ndims)\n",
        "\n",
        "\n",
        "  tsvd = TruncatedSVD(n_components=pcs3)\n",
        "  x_pca = tsvd.fit_transform(scaled_mat)\n",
        "\n",
        "  pcaUMAP = reducer.fit_transform(x_pca)\n",
        "  pcaTSNE = tsne.fit_transform(x_pca)\n",
        "\n",
        "  #Partially labeled UMAP\n",
        "\n",
        "  labels = np.array([lab4]).copy().astype(np.int8)\n",
        "  train_inds = np.random.choice(len(scaled_mat), size = int(0.7*len(scaled_mat)),replace=False) #0.7 for training fraction\n",
        "  #Set 30% to no label (nan)\n",
        "  unlab_inds = [i for i in range(len(adata)) if i not in train_inds]\n",
        "  labels[:, unlab_inds] = -1\n",
        "\n",
        "  pcaUMAPLab = reducer.fit_transform(x_pca,y=labels[0])\n",
        "\n",
        "  preds = knn_infer(pcaUMAPLab, train_inds, adata.obs.cluster_id.values[train_inds], unlab_inds)\n",
        "  acc = accuracy_score(adata.obs.cluster_id.values[unlab_inds], preds)\n",
        "  acc_score_40_2D.append(acc)\n",
        "\n",
        "\n",
        "\n",
        "  preds = knn_infer(pcaUMAP, train_inds, adata.obs.cluster_id.values[train_inds], unlab_inds)\n",
        "  acc = accuracy_score(adata.obs.cluster_id.values[unlab_inds], preds)\n",
        "  acc_score_40_2D.append(acc)\n",
        "\n",
        "  preds = knn_infer(pcaTSNE, train_inds, adata.obs.cluster_id.values[train_inds], unlab_inds)\n",
        "  acc = accuracy_score(adata.obs.cluster_id.values[unlab_inds], preds)\n",
        "  acc_score_40_2D.append(acc)"
      ]
    },
    {
      "cell_type": "code",
      "execution_count": null,
      "metadata": {
        "id": "TSAOsS50-fmF"
      },
      "outputs": [],
      "source": [
        "print(acc_score_40_2D)"
      ]
    },
    {
      "cell_type": "code",
      "execution_count": null,
      "metadata": {
        "id": "w0yJU0o1-fom"
      },
      "outputs": [],
      "source": []
    },
    {
      "cell_type": "markdown",
      "metadata": {
        "id": "Ezadu5uXLs88"
      },
      "source": [
        "PCA 50D"
      ]
    },
    {
      "cell_type": "code",
      "execution_count": null,
      "metadata": {
        "id": "dMQdSd9cLwRC"
      },
      "outputs": [],
      "source": [
        "\n",
        "acc_scorePCA = []\n",
        "acc_scorePCA2 = []\n",
        "\n",
        "for i in range(3):\n",
        "\n",
        "  tsvd = TruncatedSVD(n_components=pcs)\n",
        "  x_pca = tsvd.fit_transform(scaled_mat)\n",
        "\n",
        "  labels = np.array([lab1])\n",
        "  train_inds = np.random.choice(len(scaled_mat), size = int(0.7*len(scaled_mat)),replace=False)\n",
        "  unlab_inds = [i for i in range(len(adata)) if i not in train_inds]\n",
        "  labels[:, unlab_inds] = np.nan\n",
        "\n",
        "  unlabeled_idx = []\n",
        "  for i in range(len(adata)):\n",
        "      if i not in train_inds:\n",
        "          unlabeled_idx.append(i)\n",
        "\n",
        "  preds = knn_infer(x_pca, train_inds, adata.obs.cluster.values[train_inds], unlabeled_idx)\n",
        "  acc = accuracy_score(adata.obs.cluster.values[unlabeled_idx], preds)\n",
        "  acc_scorePCA.append(acc)\n",
        "\n",
        "  preds2 = knn_infer(x_pca, train_inds, adata.obs.sex_label.values[train_inds], unlabeled_idx)\n",
        "  acc2 = accuracy_score(adata.obs.sex_label.values[unlabeled_idx], preds2)\n",
        "  acc_scorePCA2.append(acc2)\n",
        "  # print(f\"nnNCA fit in {toc - tic:0.4f} seconds\")"
      ]
    },
    {
      "cell_type": "code",
      "execution_count": null,
      "metadata": {
        "colab": {
          "base_uri": "https://localhost:8080/"
        },
        "id": "6p6oknUGLwj4",
        "outputId": "85ad3af5-78b1-4f77-b805-33f17ec122c6"
      },
      "outputs": [
        {
          "name": "stdout",
          "output_type": "stream",
          "text": [
            "[0.8142685370741483, 0.8189178356713427, 0.8188376753507014]\n",
            "[0.9039679358717435, 0.9084569138276554, 0.906372745490982]\n"
          ]
        }
      ],
      "source": [
        "print(acc_scorePCA)\n",
        "print(acc_scorePCA2)"
      ]
    },
    {
      "cell_type": "code",
      "execution_count": null,
      "metadata": {
        "id": "yCZYq_r4yVFi"
      },
      "outputs": [],
      "source": [
        "acc_scorePCA = [0.8142685370741483, 0.8189178356713427, 0.8188376753507014]\n",
        "acc_scorePCA2 = [0.9039679358717435, 0.9084569138276554, 0.906372745490982]"
      ]
    },
    {
      "cell_type": "code",
      "execution_count": null,
      "metadata": {
        "id": "tdh1jC8HAG1L"
      },
      "outputs": [],
      "source": []
    },
    {
      "cell_type": "markdown",
      "metadata": {
        "id": "ZF1Rcpd5AHfJ"
      },
      "source": [
        "PCA 40D"
      ]
    },
    {
      "cell_type": "code",
      "execution_count": null,
      "metadata": {
        "id": "8E3a9IzvAG4c"
      },
      "outputs": [],
      "source": [
        "\n",
        "acc_scorePCA40D = []\n",
        "\n",
        "for i in range(3):\n",
        "\n",
        "  tsvd = TruncatedSVD(n_components=pcs3)\n",
        "  x_pca = tsvd.fit_transform(scaled_mat)\n",
        "\n",
        "  labels = np.array([lab1])\n",
        "  train_inds = np.random.choice(len(scaled_mat), size = int(0.7*len(scaled_mat)),replace=False)\n",
        "  unlab_inds = [i for i in range(len(adata)) if i not in train_inds]\n",
        "  labels[:, unlab_inds] = np.nan\n",
        "\n",
        "  unlabeled_idx = []\n",
        "  for i in range(len(adata)):\n",
        "      if i not in train_inds:\n",
        "          unlabeled_idx.append(i)\n",
        "\n",
        "  preds = knn_infer(x_pca, train_inds, adata.obs.cluster.values[train_inds], unlabeled_idx)\n",
        "  acc = accuracy_score(adata.obs.cluster.values[unlabeled_idx], preds)\n",
        "  acc_scorePCA40D.append(acc)\n",
        "\n",
        "\n",
        "  # print(f\"nnNCA fit in {toc - tic:0.4f} seconds\")"
      ]
    },
    {
      "cell_type": "code",
      "execution_count": null,
      "metadata": {
        "id": "bf4z0KtQAHC8"
      },
      "outputs": [],
      "source": [
        "print(acc_scorePCA40D)\n"
      ]
    },
    {
      "cell_type": "markdown",
      "metadata": {
        "id": "pKpbcOZBLdUb"
      },
      "source": [
        "PCA 100D"
      ]
    },
    {
      "cell_type": "code",
      "execution_count": null,
      "metadata": {
        "id": "idPeWWNNLcKT"
      },
      "outputs": [],
      "source": [
        "\n",
        "acc_scorePCA100D = []\n",
        "\n",
        "for i in range(3):\n",
        "\n",
        "  tsvd = TruncatedSVD(n_components=100)\n",
        "  x_pca = tsvd.fit_transform(scaled_mat)\n",
        "\n",
        "  labels = np.array([lab1])\n",
        "  train_inds = np.random.choice(len(scaled_mat), size = int(0.7*len(scaled_mat)),replace=False)\n",
        "  unlab_inds = [i for i in range(len(adata)) if i not in train_inds]\n",
        "  labels[:, unlab_inds] = np.nan\n",
        "\n",
        "  unlabeled_idx = []\n",
        "  for i in range(len(adata)):\n",
        "      if i not in train_inds:\n",
        "          unlabeled_idx.append(i)\n",
        "\n",
        "  preds = knn_infer(x_pca, train_inds, adata.obs.cluster.values[train_inds], unlabeled_idx)\n",
        "  acc = accuracy_score(adata.obs.cluster.values[unlabeled_idx], preds)\n",
        "  acc_scorePCA100D.append(acc)\n",
        "\n",
        "\n",
        "  # print(f\"nnNCA fit in {toc - tic:0.4f} seconds\")"
      ]
    },
    {
      "cell_type": "code",
      "execution_count": null,
      "metadata": {
        "colab": {
          "base_uri": "https://localhost:8080/"
        },
        "id": "xQbzrtodLcNS",
        "outputId": "f0c8c8c3-89bd-4c8e-b4be-1212764f8804"
      },
      "outputs": [
        {
          "name": "stdout",
          "output_type": "stream",
          "text": [
            "[0.8074549098196393, 0.8089779559118236, 0.8082565130260521]\n"
          ]
        }
      ],
      "source": [
        "print(acc_scorePCA100D)"
      ]
    },
    {
      "cell_type": "code",
      "execution_count": null,
      "metadata": {
        "id": "sh5vkVz8LcP0"
      },
      "outputs": [],
      "source": [
        "acc_scorePCA100D = [0.8074549098196393, 0.8089779559118236, 0.8082565130260521]"
      ]
    },
    {
      "cell_type": "markdown",
      "metadata": {
        "id": "ZwVU28-k-3yP"
      },
      "source": [
        "### **Save Analysis Output**"
      ]
    },
    {
      "cell_type": "code",
      "execution_count": null,
      "metadata": {
        "id": "zoobDgWX4acW"
      },
      "outputs": [],
      "source": [
        "vals = pd.DataFrame()\n",
        "\n",
        "vals['Accuracy'] = acc_scorePCA +acc_scorePCA2 + acc_score_2D  +acc_scorePCA100D + acc_score_40_2D + acc_scorePCA40D#+ netAE_score + netAE_score2"
      ]
    },
    {
      "cell_type": "code",
      "execution_count": null,
      "metadata": {
        "id": "AJY7DMRA642i"
      },
      "outputs": [],
      "source": [
        "vals['Embed'] = ['PCA 50D']*3 + ['PCA 50D']*3 + ['PCA 50D UMAP Sup.','PCA 50D UMAP','PCA 50D t-SNE']*3 + ['PCA 100D']*3+['PCA 40D UMAP Sup.','PCA 40D UMAP','PCA 40D t-SNE']*3 + ['PCA 40D']*3 #+ ['netAE']*2"
      ]
    },
    {
      "cell_type": "code",
      "execution_count": null,
      "metadata": {
        "id": "Is7_EmhR7tKn"
      },
      "outputs": [],
      "source": [
        "vals['Label'] = ['CellType1']*3 + ['Gender2']*3 + ['CellType1']*12 + ['CellType1']*12 #+  ['CellType1'] #+  ['Gender2']"
      ]
    },
    {
      "cell_type": "code",
      "execution_count": null,
      "metadata": {
        "colab": {
          "base_uri": "https://localhost:8080/",
          "height": 1000
        },
        "id": "cZBM1dlG8K5E",
        "outputId": "2758f362-cd6c-4770-b729-5f4859c07602"
      },
      "outputs": [
        {
          "data": {
            "text/html": [
              "\n",
              "  <div id=\"df-2bb544cf-7d71-4c2d-9325-772988152385\">\n",
              "    <div class=\"colab-df-container\">\n",
              "      <div>\n",
              "<style scoped>\n",
              "    .dataframe tbody tr th:only-of-type {\n",
              "        vertical-align: middle;\n",
              "    }\n",
              "\n",
              "    .dataframe tbody tr th {\n",
              "        vertical-align: top;\n",
              "    }\n",
              "\n",
              "    .dataframe thead th {\n",
              "        text-align: right;\n",
              "    }\n",
              "</style>\n",
              "<table border=\"1\" class=\"dataframe\">\n",
              "  <thead>\n",
              "    <tr style=\"text-align: right;\">\n",
              "      <th></th>\n",
              "      <th>Accuracy</th>\n",
              "      <th>Embed</th>\n",
              "      <th>Label</th>\n",
              "    </tr>\n",
              "  </thead>\n",
              "  <tbody>\n",
              "    <tr>\n",
              "      <th>0</th>\n",
              "      <td>0.794132</td>\n",
              "      <td>LDVAE</td>\n",
              "      <td>CellType1</td>\n",
              "    </tr>\n",
              "    <tr>\n",
              "      <th>1</th>\n",
              "      <td>0.791727</td>\n",
              "      <td>LDVAE</td>\n",
              "      <td>CellType1</td>\n",
              "    </tr>\n",
              "    <tr>\n",
              "      <th>2</th>\n",
              "      <td>0.791406</td>\n",
              "      <td>LDVAE</td>\n",
              "      <td>CellType1</td>\n",
              "    </tr>\n",
              "    <tr>\n",
              "      <th>3</th>\n",
              "      <td>0.791727</td>\n",
              "      <td>SCANVI</td>\n",
              "      <td>CellType1</td>\n",
              "    </tr>\n",
              "    <tr>\n",
              "      <th>4</th>\n",
              "      <td>0.797739</td>\n",
              "      <td>SCANVI</td>\n",
              "      <td>CellType1</td>\n",
              "    </tr>\n",
              "    <tr>\n",
              "      <th>5</th>\n",
              "      <td>0.795815</td>\n",
              "      <td>SCANVI</td>\n",
              "      <td>CellType1</td>\n",
              "    </tr>\n",
              "    <tr>\n",
              "      <th>6</th>\n",
              "      <td>0.830621</td>\n",
              "      <td>Recon MCML</td>\n",
              "      <td>CellType1</td>\n",
              "    </tr>\n",
              "    <tr>\n",
              "      <th>7</th>\n",
              "      <td>0.832625</td>\n",
              "      <td>Recon MCML</td>\n",
              "      <td>CellType1</td>\n",
              "    </tr>\n",
              "    <tr>\n",
              "      <th>8</th>\n",
              "      <td>0.827335</td>\n",
              "      <td>Recon MCML</td>\n",
              "      <td>CellType1</td>\n",
              "    </tr>\n",
              "    <tr>\n",
              "      <th>9</th>\n",
              "      <td>0.726814</td>\n",
              "      <td>NCA 100% MCML</td>\n",
              "      <td>CellType1</td>\n",
              "    </tr>\n",
              "    <tr>\n",
              "      <th>10</th>\n",
              "      <td>0.845130</td>\n",
              "      <td>NCA-Recon MCML</td>\n",
              "      <td>CellType1</td>\n",
              "    </tr>\n",
              "    <tr>\n",
              "      <th>11</th>\n",
              "      <td>0.847375</td>\n",
              "      <td>NCA-Recon MCML</td>\n",
              "      <td>CellType1</td>\n",
              "    </tr>\n",
              "    <tr>\n",
              "      <th>12</th>\n",
              "      <td>0.826052</td>\n",
              "      <td>NCA-Recon MCML</td>\n",
              "      <td>CellType1</td>\n",
              "    </tr>\n",
              "    <tr>\n",
              "      <th>13</th>\n",
              "      <td>0.923761</td>\n",
              "      <td>LDVAE</td>\n",
              "      <td>Gender2</td>\n",
              "    </tr>\n",
              "    <tr>\n",
              "      <th>14</th>\n",
              "      <td>0.921036</td>\n",
              "      <td>LDVAE</td>\n",
              "      <td>Gender2</td>\n",
              "    </tr>\n",
              "    <tr>\n",
              "      <th>15</th>\n",
              "      <td>0.923521</td>\n",
              "      <td>LDVAE</td>\n",
              "      <td>Gender2</td>\n",
              "    </tr>\n",
              "    <tr>\n",
              "      <th>16</th>\n",
              "      <td>0.921036</td>\n",
              "      <td>SCANVI</td>\n",
              "      <td>Gender2</td>\n",
              "    </tr>\n",
              "    <tr>\n",
              "      <th>17</th>\n",
              "      <td>0.925044</td>\n",
              "      <td>SCANVI</td>\n",
              "      <td>Gender2</td>\n",
              "    </tr>\n",
              "    <tr>\n",
              "      <th>18</th>\n",
              "      <td>0.921918</td>\n",
              "      <td>SCANVI</td>\n",
              "      <td>Gender2</td>\n",
              "    </tr>\n",
              "    <tr>\n",
              "      <th>19</th>\n",
              "      <td>0.913747</td>\n",
              "      <td>Recon MCML</td>\n",
              "      <td>Gender2</td>\n",
              "    </tr>\n",
              "    <tr>\n",
              "      <th>20</th>\n",
              "      <td>0.911583</td>\n",
              "      <td>Recon MCML</td>\n",
              "      <td>Gender2</td>\n",
              "    </tr>\n",
              "    <tr>\n",
              "      <th>21</th>\n",
              "      <td>0.910701</td>\n",
              "      <td>Recon MCML</td>\n",
              "      <td>Gender2</td>\n",
              "    </tr>\n",
              "    <tr>\n",
              "      <th>22</th>\n",
              "      <td>0.879679</td>\n",
              "      <td>NCA 100% MCML</td>\n",
              "      <td>Gender2</td>\n",
              "    </tr>\n",
              "    <tr>\n",
              "      <th>23</th>\n",
              "      <td>0.921764</td>\n",
              "      <td>NCA-Recon MCML</td>\n",
              "      <td>Gender2</td>\n",
              "    </tr>\n",
              "    <tr>\n",
              "      <th>24</th>\n",
              "      <td>0.920882</td>\n",
              "      <td>NCA-Recon MCML</td>\n",
              "      <td>Gender2</td>\n",
              "    </tr>\n",
              "    <tr>\n",
              "      <th>25</th>\n",
              "      <td>0.920641</td>\n",
              "      <td>NCA-Recon MCML</td>\n",
              "      <td>Gender2</td>\n",
              "    </tr>\n",
              "    <tr>\n",
              "      <th>26</th>\n",
              "      <td>0.733868</td>\n",
              "      <td>NCA 100% MCML</td>\n",
              "      <td>CellType2</td>\n",
              "    </tr>\n",
              "    <tr>\n",
              "      <th>27</th>\n",
              "      <td>0.852024</td>\n",
              "      <td>NCA-Recon MCML</td>\n",
              "      <td>CellType2</td>\n",
              "    </tr>\n",
              "    <tr>\n",
              "      <th>28</th>\n",
              "      <td>0.843447</td>\n",
              "      <td>NCA-Recon MCML</td>\n",
              "      <td>CellType2</td>\n",
              "    </tr>\n",
              "    <tr>\n",
              "      <th>29</th>\n",
              "      <td>0.838637</td>\n",
              "      <td>NCA-Recon MCML</td>\n",
              "      <td>CellType2</td>\n",
              "    </tr>\n",
              "    <tr>\n",
              "      <th>30</th>\n",
              "      <td>0.814269</td>\n",
              "      <td>PCA 50D</td>\n",
              "      <td>CellType1</td>\n",
              "    </tr>\n",
              "    <tr>\n",
              "      <th>31</th>\n",
              "      <td>0.818918</td>\n",
              "      <td>PCA 50D</td>\n",
              "      <td>CellType1</td>\n",
              "    </tr>\n",
              "    <tr>\n",
              "      <th>32</th>\n",
              "      <td>0.818838</td>\n",
              "      <td>PCA 50D</td>\n",
              "      <td>CellType1</td>\n",
              "    </tr>\n",
              "    <tr>\n",
              "      <th>33</th>\n",
              "      <td>0.903968</td>\n",
              "      <td>PCA 50D</td>\n",
              "      <td>Gender2</td>\n",
              "    </tr>\n",
              "    <tr>\n",
              "      <th>34</th>\n",
              "      <td>0.908457</td>\n",
              "      <td>PCA 50D</td>\n",
              "      <td>Gender2</td>\n",
              "    </tr>\n",
              "    <tr>\n",
              "      <th>35</th>\n",
              "      <td>0.906373</td>\n",
              "      <td>PCA 50D</td>\n",
              "      <td>Gender2</td>\n",
              "    </tr>\n",
              "    <tr>\n",
              "      <th>36</th>\n",
              "      <td>0.769218</td>\n",
              "      <td>PCA UMAP Sup.</td>\n",
              "      <td>CellType1</td>\n",
              "    </tr>\n",
              "    <tr>\n",
              "      <th>37</th>\n",
              "      <td>0.688978</td>\n",
              "      <td>PCA UMAP</td>\n",
              "      <td>CellType1</td>\n",
              "    </tr>\n",
              "    <tr>\n",
              "      <th>38</th>\n",
              "      <td>0.756553</td>\n",
              "      <td>PCA t-SNE</td>\n",
              "      <td>CellType1</td>\n",
              "    </tr>\n",
              "    <tr>\n",
              "      <th>39</th>\n",
              "      <td>0.773948</td>\n",
              "      <td>PCA UMAP Sup.</td>\n",
              "      <td>CellType1</td>\n",
              "    </tr>\n",
              "    <tr>\n",
              "      <th>40</th>\n",
              "      <td>0.680080</td>\n",
              "      <td>PCA UMAP</td>\n",
              "      <td>CellType1</td>\n",
              "    </tr>\n",
              "    <tr>\n",
              "      <th>41</th>\n",
              "      <td>0.760962</td>\n",
              "      <td>PCA t-SNE</td>\n",
              "      <td>CellType1</td>\n",
              "    </tr>\n",
              "    <tr>\n",
              "      <th>42</th>\n",
              "      <td>0.772745</td>\n",
              "      <td>PCA UMAP Sup.</td>\n",
              "      <td>CellType1</td>\n",
              "    </tr>\n",
              "    <tr>\n",
              "      <th>43</th>\n",
              "      <td>0.680802</td>\n",
              "      <td>PCA UMAP</td>\n",
              "      <td>CellType1</td>\n",
              "    </tr>\n",
              "    <tr>\n",
              "      <th>44</th>\n",
              "      <td>0.759679</td>\n",
              "      <td>PCA t-SNE</td>\n",
              "      <td>CellType1</td>\n",
              "    </tr>\n",
              "    <tr>\n",
              "      <th>45</th>\n",
              "      <td>0.807455</td>\n",
              "      <td>PCA 100D</td>\n",
              "      <td>CellType1</td>\n",
              "    </tr>\n",
              "    <tr>\n",
              "      <th>46</th>\n",
              "      <td>0.808978</td>\n",
              "      <td>PCA 100D</td>\n",
              "      <td>CellType1</td>\n",
              "    </tr>\n",
              "    <tr>\n",
              "      <th>47</th>\n",
              "      <td>0.808257</td>\n",
              "      <td>PCA 100D</td>\n",
              "      <td>CellType1</td>\n",
              "    </tr>\n",
              "  </tbody>\n",
              "</table>\n",
              "</div>\n",
              "      <button class=\"colab-df-convert\" onclick=\"convertToInteractive('df-2bb544cf-7d71-4c2d-9325-772988152385')\"\n",
              "              title=\"Convert this dataframe to an interactive table.\"\n",
              "              style=\"display:none;\">\n",
              "        \n",
              "  <svg xmlns=\"http://www.w3.org/2000/svg\" height=\"24px\"viewBox=\"0 0 24 24\"\n",
              "       width=\"24px\">\n",
              "    <path d=\"M0 0h24v24H0V0z\" fill=\"none\"/>\n",
              "    <path d=\"M18.56 5.44l.94 2.06.94-2.06 2.06-.94-2.06-.94-.94-2.06-.94 2.06-2.06.94zm-11 1L8.5 8.5l.94-2.06 2.06-.94-2.06-.94L8.5 2.5l-.94 2.06-2.06.94zm10 10l.94 2.06.94-2.06 2.06-.94-2.06-.94-.94-2.06-.94 2.06-2.06.94z\"/><path d=\"M17.41 7.96l-1.37-1.37c-.4-.4-.92-.59-1.43-.59-.52 0-1.04.2-1.43.59L10.3 9.45l-7.72 7.72c-.78.78-.78 2.05 0 2.83L4 21.41c.39.39.9.59 1.41.59.51 0 1.02-.2 1.41-.59l7.78-7.78 2.81-2.81c.8-.78.8-2.07 0-2.86zM5.41 20L4 18.59l7.72-7.72 1.47 1.35L5.41 20z\"/>\n",
              "  </svg>\n",
              "      </button>\n",
              "      \n",
              "  <style>\n",
              "    .colab-df-container {\n",
              "      display:flex;\n",
              "      flex-wrap:wrap;\n",
              "      gap: 12px;\n",
              "    }\n",
              "\n",
              "    .colab-df-convert {\n",
              "      background-color: #E8F0FE;\n",
              "      border: none;\n",
              "      border-radius: 50%;\n",
              "      cursor: pointer;\n",
              "      display: none;\n",
              "      fill: #1967D2;\n",
              "      height: 32px;\n",
              "      padding: 0 0 0 0;\n",
              "      width: 32px;\n",
              "    }\n",
              "\n",
              "    .colab-df-convert:hover {\n",
              "      background-color: #E2EBFA;\n",
              "      box-shadow: 0px 1px 2px rgba(60, 64, 67, 0.3), 0px 1px 3px 1px rgba(60, 64, 67, 0.15);\n",
              "      fill: #174EA6;\n",
              "    }\n",
              "\n",
              "    [theme=dark] .colab-df-convert {\n",
              "      background-color: #3B4455;\n",
              "      fill: #D2E3FC;\n",
              "    }\n",
              "\n",
              "    [theme=dark] .colab-df-convert:hover {\n",
              "      background-color: #434B5C;\n",
              "      box-shadow: 0px 1px 3px 1px rgba(0, 0, 0, 0.15);\n",
              "      filter: drop-shadow(0px 1px 2px rgba(0, 0, 0, 0.3));\n",
              "      fill: #FFFFFF;\n",
              "    }\n",
              "  </style>\n",
              "\n",
              "      <script>\n",
              "        const buttonEl =\n",
              "          document.querySelector('#df-2bb544cf-7d71-4c2d-9325-772988152385 button.colab-df-convert');\n",
              "        buttonEl.style.display =\n",
              "          google.colab.kernel.accessAllowed ? 'block' : 'none';\n",
              "\n",
              "        async function convertToInteractive(key) {\n",
              "          const element = document.querySelector('#df-2bb544cf-7d71-4c2d-9325-772988152385');\n",
              "          const dataTable =\n",
              "            await google.colab.kernel.invokeFunction('convertToInteractive',\n",
              "                                                     [key], {});\n",
              "          if (!dataTable) return;\n",
              "\n",
              "          const docLinkHtml = 'Like what you see? Visit the ' +\n",
              "            '<a target=\"_blank\" href=https://colab.research.google.com/notebooks/data_table.ipynb>data table notebook</a>'\n",
              "            + ' to learn more about interactive tables.';\n",
              "          element.innerHTML = '';\n",
              "          dataTable['output_type'] = 'display_data';\n",
              "          await google.colab.output.renderOutput(dataTable, element);\n",
              "          const docLink = document.createElement('div');\n",
              "          docLink.innerHTML = docLinkHtml;\n",
              "          element.appendChild(docLink);\n",
              "        }\n",
              "      </script>\n",
              "    </div>\n",
              "  </div>\n",
              "  "
            ],
            "text/plain": [
              "    Accuracy           Embed      Label\n",
              "0   0.794132           LDVAE  CellType1\n",
              "1   0.791727           LDVAE  CellType1\n",
              "2   0.791406           LDVAE  CellType1\n",
              "3   0.791727          SCANVI  CellType1\n",
              "4   0.797739          SCANVI  CellType1\n",
              "5   0.795815          SCANVI  CellType1\n",
              "6   0.830621      Recon MCML  CellType1\n",
              "7   0.832625      Recon MCML  CellType1\n",
              "8   0.827335      Recon MCML  CellType1\n",
              "9   0.726814   NCA 100% MCML  CellType1\n",
              "10  0.845130  NCA-Recon MCML  CellType1\n",
              "11  0.847375  NCA-Recon MCML  CellType1\n",
              "12  0.826052  NCA-Recon MCML  CellType1\n",
              "13  0.923761           LDVAE    Gender2\n",
              "14  0.921036           LDVAE    Gender2\n",
              "15  0.923521           LDVAE    Gender2\n",
              "16  0.921036          SCANVI    Gender2\n",
              "17  0.925044          SCANVI    Gender2\n",
              "18  0.921918          SCANVI    Gender2\n",
              "19  0.913747      Recon MCML    Gender2\n",
              "20  0.911583      Recon MCML    Gender2\n",
              "21  0.910701      Recon MCML    Gender2\n",
              "22  0.879679   NCA 100% MCML    Gender2\n",
              "23  0.921764  NCA-Recon MCML    Gender2\n",
              "24  0.920882  NCA-Recon MCML    Gender2\n",
              "25  0.920641  NCA-Recon MCML    Gender2\n",
              "26  0.733868   NCA 100% MCML  CellType2\n",
              "27  0.852024  NCA-Recon MCML  CellType2\n",
              "28  0.843447  NCA-Recon MCML  CellType2\n",
              "29  0.838637  NCA-Recon MCML  CellType2\n",
              "30  0.814269         PCA 50D  CellType1\n",
              "31  0.818918         PCA 50D  CellType1\n",
              "32  0.818838         PCA 50D  CellType1\n",
              "33  0.903968         PCA 50D    Gender2\n",
              "34  0.908457         PCA 50D    Gender2\n",
              "35  0.906373         PCA 50D    Gender2\n",
              "36  0.769218   PCA UMAP Sup.  CellType1\n",
              "37  0.688978        PCA UMAP  CellType1\n",
              "38  0.756553       PCA t-SNE  CellType1\n",
              "39  0.773948   PCA UMAP Sup.  CellType1\n",
              "40  0.680080        PCA UMAP  CellType1\n",
              "41  0.760962       PCA t-SNE  CellType1\n",
              "42  0.772745   PCA UMAP Sup.  CellType1\n",
              "43  0.680802        PCA UMAP  CellType1\n",
              "44  0.759679       PCA t-SNE  CellType1\n",
              "45  0.807455        PCA 100D  CellType1\n",
              "46  0.808978        PCA 100D  CellType1\n",
              "47  0.808257        PCA 100D  CellType1"
            ]
          },
          "execution_count": 42,
          "metadata": {},
          "output_type": "execute_result"
        }
      ],
      "source": [
        "vals\n"
      ]
    },
    {
      "cell_type": "code",
      "execution_count": null,
      "metadata": {
        "colab": {
          "base_uri": "https://localhost:8080/",
          "height": 17
        },
        "id": "mOwQUKce8L7f",
        "outputId": "7813a285-8dc3-45d9-ae0a-e1a632abd5fb"
      },
      "outputs": [
        {
          "data": {
            "application/javascript": [
              "\n",
              "    async function download(id, filename, size) {\n",
              "      if (!google.colab.kernel.accessAllowed) {\n",
              "        return;\n",
              "      }\n",
              "      const div = document.createElement('div');\n",
              "      const label = document.createElement('label');\n",
              "      label.textContent = `Downloading \"${filename}\": `;\n",
              "      div.appendChild(label);\n",
              "      const progress = document.createElement('progress');\n",
              "      progress.max = size;\n",
              "      div.appendChild(progress);\n",
              "      document.body.appendChild(div);\n",
              "\n",
              "      const buffers = [];\n",
              "      let downloaded = 0;\n",
              "\n",
              "      const channel = await google.colab.kernel.comms.open(id);\n",
              "      // Send a message to notify the kernel that we're ready.\n",
              "      channel.send({})\n",
              "\n",
              "      for await (const message of channel.messages) {\n",
              "        // Send a message to notify the kernel that we're ready.\n",
              "        channel.send({})\n",
              "        if (message.buffers) {\n",
              "          for (const buffer of message.buffers) {\n",
              "            buffers.push(buffer);\n",
              "            downloaded += buffer.byteLength;\n",
              "            progress.value = downloaded;\n",
              "          }\n",
              "        }\n",
              "      }\n",
              "      const blob = new Blob(buffers, {type: 'application/binary'});\n",
              "      const a = document.createElement('a');\n",
              "      a.href = window.URL.createObjectURL(blob);\n",
              "      a.download = filename;\n",
              "      div.appendChild(a);\n",
              "      a.click();\n",
              "      div.remove();\n",
              "    }\n",
              "  "
            ],
            "text/plain": [
              "<IPython.core.display.Javascript object>"
            ]
          },
          "metadata": {},
          "output_type": "display_data"
        },
        {
          "data": {
            "application/javascript": [
              "download(\"download_4201fdb3-26ec-4fb8-99af-38f84a79b357\", \"all10XPreds.csv\", 2004)"
            ],
            "text/plain": [
              "<IPython.core.display.Javascript object>"
            ]
          },
          "metadata": {},
          "output_type": "display_data"
        }
      ],
      "source": [
        "from google.colab import files\n",
        "\n",
        "vals.to_csv('all10XPreds_22.csv')\n",
        "files.download('all10XPreds_22.csv')"
      ]
    },
    {
      "cell_type": "code",
      "execution_count": null,
      "metadata": {
        "id": "ccJzxZkICUXW"
      },
      "outputs": [],
      "source": []
    }
  ],
  "metadata": {
    "colab": {
      "name": "kimetal_tenx_predictions.ipynb",
      "provenance": [],
      "include_colab_link": true
    },
    "gpuClass": "standard",
    "kernelspec": {
      "display_name": "Python 3",
      "language": "python",
      "name": "python3"
    },
    "language_info": {
      "codemirror_mode": {
        "name": "ipython",
        "version": 3
      },
      "file_extension": ".py",
      "mimetype": "text/x-python",
      "name": "python",
      "nbconvert_exporter": "python",
      "pygments_lexer": "ipython3",
      "version": "3.8.8"
    }
  },
  "nbformat": 4,
  "nbformat_minor": 0
}